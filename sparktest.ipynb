{
 "cells": [
  {
   "cell_type": "code",
   "execution_count": 2,
   "metadata": {},
   "outputs": [],
   "source": [
    "import pyspark\n",
    "from pyspark.sql import SparkSession\n",
    "from dotenv import load_dotenv\n",
    "from pyspark.sql.types import StructType, StructField, FloatType, BooleanType\n",
    "from pyspark.sql.types import DoubleType, IntegerType, StringType"
   ]
  },
  {
   "cell_type": "code",
   "execution_count": 3,
   "metadata": {},
   "outputs": [
    {
     "data": {
      "text/plain": [
       "True"
      ]
     },
     "execution_count": 3,
     "metadata": {},
     "output_type": "execute_result"
    }
   ],
   "source": [
    "#load env variables\n",
    "load_dotenv('../creds/.env', verbose=True, override=True)"
   ]
  },
  {
   "cell_type": "code",
   "execution_count": 4,
   "metadata": {},
   "outputs": [
    {
     "name": "stdout",
     "output_type": "stream",
     "text": [
      "/usr/bin/python3.10\n",
      "/usr/lib/jvm/java-11-openjdk-amd64\n"
     ]
    }
   ],
   "source": [
    "\n",
    "\n",
    "!echo ${PYSPARK_PYTHON}\n",
    "!echo ${JAVA_HOME}\n"
   ]
  },
  {
   "cell_type": "code",
   "execution_count": 17,
   "metadata": {},
   "outputs": [
    {
     "name": "stdout",
     "output_type": "stream",
     "text": [
      "zsh:1: command not found: java\n"
     ]
    }
   ],
   "source": [
    "!java --version"
   ]
  },
  {
   "cell_type": "code",
   "execution_count": 1,
   "metadata": {},
   "outputs": [
    {
     "ename": "NameError",
     "evalue": "name 'SparkSession' is not defined",
     "output_type": "error",
     "traceback": [
      "\u001b[0;31m---------------------------------------------------------------------------\u001b[0m",
      "\u001b[0;31mNameError\u001b[0m                                 Traceback (most recent call last)",
      "Cell \u001b[0;32mIn[1], line 2\u001b[0m\n\u001b[1;32m      1\u001b[0m \u001b[39m# Setup the Configuration\u001b[39;00m\n\u001b[0;32m----> 2\u001b[0m spark \u001b[39m=\u001b[39m SparkSession\u001b[39m.\u001b[39mbuilder\u001b[39m.\u001b[39mgetOrCreate()\n\u001b[1;32m      3\u001b[0m \u001b[39m# Setup the Schema\u001b[39;00m\n\u001b[1;32m      4\u001b[0m schema \u001b[39m=\u001b[39m StructType([\n\u001b[1;32m      5\u001b[0m StructField(\u001b[39m\"\u001b[39m\u001b[39mUser ID\u001b[39m\u001b[39m\"\u001b[39m, IntegerType(),\u001b[39mTrue\u001b[39;00m),\n\u001b[1;32m      6\u001b[0m StructField(\u001b[39m\"\u001b[39m\u001b[39mUsername\u001b[39m\u001b[39m\"\u001b[39m, StringType(),\u001b[39mTrue\u001b[39;00m),\n\u001b[1;32m      7\u001b[0m StructField(\u001b[39m\"\u001b[39m\u001b[39mBrowser\u001b[39m\u001b[39m\"\u001b[39m, StringType(),\u001b[39mTrue\u001b[39;00m),\n\u001b[1;32m      8\u001b[0m StructField(\u001b[39m\"\u001b[39m\u001b[39mOS\u001b[39m\u001b[39m\"\u001b[39m, StringType(),\u001b[39mTrue\u001b[39;00m),\n\u001b[1;32m      9\u001b[0m ])\n",
      "\u001b[0;31mNameError\u001b[0m: name 'SparkSession' is not defined"
     ]
    }
   ],
   "source": [
    "# Setup the Configuration\n",
    "spark = SparkSession.builder.getOrCreate()\n",
    "# Setup the Schema\n",
    "schema = StructType([\n",
    "StructField(\"User ID\", IntegerType(),True),\n",
    "StructField(\"Username\", StringType(),True),\n",
    "StructField(\"Browser\", StringType(),True),\n",
    "StructField(\"OS\", StringType(),True),\n",
    "])\n",
    "# Add Data\n",
    "data = ([(1580, \"Barry\", \"FireFox\", \"Windows\" ),\n",
    "(5820, \"Sam\", \"MS Edge\", \"Linux\"),\n",
    "(2340, \"Harry\", \"Vivaldi\", \"Windows\"),\n",
    "(7860, \"Albert\", \"Chrome\", \"Windows\"),\n",
    "(1123, \"May\", \"Safari\", \"macOS\")\n",
    "])"
   ]
  },
  {
   "cell_type": "code",
   "execution_count": 5,
   "metadata": {},
   "outputs": [
    {
     "name": "stderr",
     "output_type": "stream",
     "text": [
      "                                                                                \r"
     ]
    },
    {
     "name": "stdout",
     "output_type": "stream",
     "text": [
      "+-------+--------+-------+-------+\n",
      "|User ID|Username|Browser|     OS|\n",
      "+-------+--------+-------+-------+\n",
      "|   1580|   Barry|FireFox|Windows|\n",
      "|   5820|     Sam|MS Edge|  Linux|\n",
      "|   2340|   Harry|Vivaldi|Windows|\n",
      "|   7860|  Albert| Chrome|Windows|\n",
      "|   1123|     May| Safari|  macOS|\n",
      "+-------+--------+-------+-------+\n",
      "\n"
     ]
    }
   ],
   "source": [
    "user_data_df = spark.createDataFrame(data,schema=schema)\n",
    "user_data_df.show()"
   ]
  }
 ],
 "metadata": {
  "kernelspec": {
   "display_name": "entsoe-venv",
   "language": "python",
   "name": "entsoe-venv"
  },
  "language_info": {
   "codemirror_mode": {
    "name": "ipython",
    "version": 3
   },
   "file_extension": ".py",
   "mimetype": "text/x-python",
   "name": "python",
   "nbconvert_exporter": "python",
   "pygments_lexer": "ipython3",
   "version": "3.10.4"
  },
  "orig_nbformat": 4,
  "vscode": {
   "interpreter": {
    "hash": "31f2aee4e71d21fbe5cf8b01ff0e069b9275f58929596ceb00d14d90e3e16cd6"
   }
  }
 },
 "nbformat": 4,
 "nbformat_minor": 2
}
