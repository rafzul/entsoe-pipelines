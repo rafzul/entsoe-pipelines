{
 "cells": [
  {
   "cell_type": "code",
   "execution_count": 1,
   "metadata": {},
   "outputs": [],
   "source": [
    "import os \n",
    "from dotenv import load_dotenv\n",
    "import requests\n",
    "from google.oauth2 import service_account\n",
    "import xmltodict\n",
    "import json\n",
    "import pandas as pd \n",
    "from requests import request\n",
    "import pytz\n",
    "from bs4 import BeautifulSoup\n",
    "from typing import Dict\n",
    "from google.oauth2 import service_account\n",
    "from google.cloud import storage\n",
    "\n",
    "import pyspark\n",
    "from pyspark import SparkContext, SparkConf\n",
    "from pyspark.sql import SparkSession\n",
    "import os\n",
    "import sys\n",
    "\n",
    "from pyspark.sql.types import StructType, StructField, ArrayType, FloatType, BooleanType\n",
    "from pyspark.sql.types import DoubleType, IntegerType, StringType, DataType\n",
    "from pyspark.sql import functions as F\n",
    "\n",
    "from entsoe import EntsoeRawClient\n",
    "from entsoe import EntsoePandasClient\n",
    "\n",
    "\n",
    "\n"
   ]
  },
  {
   "cell_type": "code",
   "execution_count": 2,
   "metadata": {},
   "outputs": [
    {
     "data": {
      "text/plain": [
       "True"
      ]
     },
     "execution_count": 2,
     "metadata": {},
     "output_type": "execute_result"
    }
   ],
   "source": [
    "#load env variables\n",
    "load_dotenv('./creds/.env', verbose=True, override=True)"
   ]
  },
  {
   "cell_type": "code",
   "execution_count": 4,
   "metadata": {},
   "outputs": [
    {
     "name": "stdout",
     "output_type": "stream",
     "text": [
      "None\n"
     ]
    }
   ],
   "source": [
    "print(os.environ.get(\"PYSPARK_DRIVER_PYTHON\"))"
   ]
  },
  {
   "cell_type": "code",
   "execution_count": 3,
   "metadata": {},
   "outputs": [
    {
     "name": "stdout",
     "output_type": "stream",
     "text": [
      "entsoe_analytics_1009\n"
     ]
    }
   ],
   "source": [
    "\n",
    "\n",
    "'''\n",
    "----------------\n",
    "INIT VARIABLES\n",
    "----------------\n",
    "'''\n",
    "\n",
    "#setting up entsoe variables\n",
    "security_token = os.environ.get(\"SECURITY_TOKEN\")\n",
    "ENTSOE_URL = 'https://transparency.entsoe.eu/api'\n",
    "\n",
    "#setting up GCP variables\n",
    "service_account_file = os.environ.get(\"SERVICE_ACCOUNT_FILE\")\n",
    "credentials = service_account.Credentials.from_service_account_file(\n",
    "    service_account_file\n",
    ")\n",
    "gcs_bucket = os.environ.get(\"CLOUD_STORAGE_BUCKET\")\n",
    "print(gcs_bucket)"
   ]
  },
  {
   "cell_type": "code",
   "execution_count": 6,
   "metadata": {},
   "outputs": [],
   "source": [
    "\n",
    "\n",
    "\n",
    "# #setting up session\n",
    "# entsoe_session = requests.Session()\n",
    "\n",
    "# '''\n",
    "# ----------------\n",
    "# SETTING UP FUNCTION CALLS \n",
    "# ----------------\n",
    "# '''\n",
    "\n",
    "# #format dates\n",
    "# def datetime_to_str(dtm: pd.Timestamp) -> str:\n",
    "#     #convert timezone to UTC if it's exist and it's not on UTC already\n",
    "#     if dtm.tzinfo is not None and dtm.tzinfo != pytz.UTC:\n",
    "#         dtm = dtm.tz_convert(\"UTC\")\n",
    "#     fmt = '%Y%m%d%H%M'\n",
    "#     dtm_str = dtm.strftime(fmt)\n",
    "#     return dtm_str\n",
    "\n",
    "# #basic requests\n",
    "# def basic_requests(params: Dict, start:pd.Timestamp, end: pd.Timestamp) -> requests.Response:\n",
    "#     #setting up time intervals start and stop\n",
    "#     start_str = datetime_to_str(start)\n",
    "#     end_str = datetime_to_str(end)\n",
    "\n",
    "#     #setting up params and extending with custom parameter based\n",
    "#     base_params = {\n",
    "#         'securityToken': security_token,\n",
    "#         'periodStart': start_str,\n",
    "#         'periodEnd': end_str,\n",
    "#     }\n",
    "#     params.update(base_params)\n",
    "    \n",
    "#     #seting up sesssion\n",
    "#     session = requests.Session()\n",
    "#     response = session.get(url=ENTSOE_URL, params=params)\n",
    "\n",
    "#     return response\n",
    "\n",
    "# # upload data to GCS\n",
    "# def upload_blob_to_gcs(bucket_name, contents, destination_blob_name):\n",
    "#     # Upload file to bucket\"\"\"\n",
    "\n",
    "#     # ID of GCS bucket\n",
    "#     # bucket_name =\n",
    "\n",
    "#     # the contents from memory to be uploaded to file\n",
    "#     # contents =\n",
    "\n",
    "#     # the ID of your GCS object\n",
    "#     # destination_blob_name =\n",
    "\n",
    "#     storage_client = storage.Client(credentials=credentials)\n",
    "#     bucket = storage_client.bucket(bucket_name)\n",
    "#     blob = bucket.blob(destination_blob_name)\n",
    "\n",
    "#     blob.upload_from_string(contents)\n",
    "\n",
    "\n",
    "# '''\n",
    "# ----------------\n",
    "# EXTRACTION\n",
    "# ----------------\n",
    "# '''\n",
    "# #for test, we'll be querying Actual Generation Output per Generation Unit\n",
    "\n",
    "# domain = '10YCZ-CEPS-----N'\n",
    "# params_requests = {\n",
    "#     'documentType': 'A73',\n",
    "#     'processType': 'A16',\n",
    "#     'in_Domain': {domain},\n",
    "# }\n",
    "# start=pd.Timestamp('202101011200', tz='Europe/Berlin')\n",
    "# end=pd.Timestamp('202101011300', tz='Europe/Berlin')\n",
    "\n",
    "# entsoe_data = basic_requests(params=params_requests, start=start, end=end)\n",
    "# # entsoe_dict = xmltodict.parse(entsoe_data.text)\n",
    "# # entsoe_json = json.dumps(entsoe_dict, indent=4)\n",
    "# # print(entsoe_json)\n",
    "# print(entsoe_data.text)\n",
    "\n",
    "# '''\n",
    "# ----------------\n",
    "# LOAD\n",
    "# ----------------\n",
    "# '''\n",
    "# # #upload to GCS\n",
    "# # landing_filename=f\"entsoe_data_{start}.json\"\n",
    "# # upload_blob_to_gcs(bucket_name=gcs_bucket, contents=entsoe_json, destination_blob_name=landing_filename)\n",
    "\n",
    "# #upload to GCS - XML\n",
    "# landing_filename=f\"entsoe_data_{start}_{domain}.xml\"\n",
    "# upload_blob_to_gcs(bucket_name=gcs_bucket, contents=entsoe_data.text, destination_blob_name=landing_filename)\n",
    "\n"
   ]
  },
  {
   "cell_type": "code",
   "execution_count": 5,
   "metadata": {},
   "outputs": [],
   "source": [
    "\n",
    "\n",
    "\n",
    "#setting up session\n",
    "entsoe_client = EntsoeRawClient(security_token)\n",
    "'''\n",
    "----------------\n",
    "SETTING UP FUNCTION CALLS \n",
    "----------------\n",
    "'''\n",
    "\n",
    "# upload data to GCS\n",
    "def upload_blob_to_gcs(bucket_name, contents, destination_blob_name):\n",
    "    # Upload file to bucket\"\"\"\n",
    "\n",
    "    # ID of GCS bucket\n",
    "    # bucket_name =\n",
    "\n",
    "    # the contents from memory to be uploaded to file\n",
    "    # contents =\n",
    "\n",
    "    # the ID of your GCS object\n",
    "    # destination_blob_name =\n",
    "\n",
    "    storage_client = storage.Client(credentials=credentials)\n",
    "    bucket = storage_client.bucket(bucket_name)\n",
    "    blob = bucket.blob(destination_blob_name)\n",
    "\n",
    "    blob.upload_from_string(contents)\n",
    "\n",
    "\n",
    "'''\n",
    "----------------\n",
    "EXTRACTION\n",
    "----------------\n",
    "'''\n",
    "#for test, we'll be querying Actual Generation Output per Generation Unit\n",
    "\n",
    "start=pd.Timestamp('202101011200', tz='Europe/Berlin')\n",
    "end=pd.Timestamp('202101011300', tz='Europe/Berlin')\n",
    "country_code= 'DE_TENNET'\n",
    "country_code_from=''\n",
    "country_code_to=''\n",
    "type_marketagreement_type=''\n",
    "contract_marketagreement_type=''\n",
    "\n",
    "start2=pd.Timestamp('20210101', tz='Europe/Berlin')\n",
    "end2=pd.Timestamp('20211231', tz='Europe/Berlin')\n",
    "\n",
    "pd.set_option('display.max_rows', None)\n",
    "\n",
    "try:\n",
    "    entsoe_data = entsoe_client.query_generation(country_code, start=start, end=end)\n",
    "    # entsoe_data3 = entsoe_client.query_load(country_code, start=start, end=end)\n",
    "    # entsoe_data4 = entsoe_client.query_day_ahead_prices(country_code, start=start, end=end)\n",
    "    # entsoe_data5 = entsoe_client.query_installed_generation_capacity(country_code, start=start2, end=end2)\n",
    "    # entsoe_data6 = entsoe_client.query_installed_generation_capacity_per_unit(country_code, start=start2, end=end2)\n",
    "    # display(entsoe_data2)\n",
    "    # display(entsoe_data3)\n",
    "    entsoe_dict = xmltodict.parse(entsoe_data)\n",
    "    entsoe_json = json.dumps(entsoe_dict, indent=4, ensure_ascii=False)\n",
    "except Exception as e:\n",
    "    print(\"An exception occurred:\", e)\n",
    "\n",
    "\n",
    "'''\n",
    "----------------\n",
    "LOAD\n",
    "----------------\n",
    "'''\n",
    "#upload to GCS\n",
    "landing_filename=f\"entsoe_data_{country_code}.json\"\n",
    "upload_blob_to_gcs(bucket_name=gcs_bucket, contents=entsoe_json, destination_blob_name=landing_filename)\n",
    "\n"
   ]
  },
  {
   "cell_type": "code",
   "execution_count": 6,
   "metadata": {},
   "outputs": [
    {
     "name": "stdout",
     "output_type": "stream",
     "text": [
      "23/01/01 12:55:20 WARN Utils: Your hostname, pop-os resolves to a loopback address: 127.0.1.1; using 192.168.18.2 instead (on interface wlp58s0)\n",
      "23/01/01 12:55:20 WARN Utils: Set SPARK_LOCAL_IP if you need to bind to another address\n",
      "23/01/01 12:55:20 WARN NativeCodeLoader: Unable to load native-hadoop library for your platform... using builtin-java classes where applicable\n"
     ]
    },
    {
     "name": "stderr",
     "output_type": "stream",
     "text": [
      "Setting default log level to \"WARN\".\n",
      "To adjust logging level use sc.setLogLevel(newLevel). For SparkR, use setLogLevel(newLevel).\n"
     ]
    }
   ],
   "source": [
    "## COBA SPARK GCS CONNECTOR ##\n",
    "\n",
    "\n",
    "# berangkat pak haji\n",
    "# setup parameternya\n",
    "gcs_bucket = gcs_bucket\n",
    "path = f\"gs://{gcs_bucket}/{landing_filename}\"\n",
    "# path =\"/home/rafzul/projects/entsoe-pipelines/sample.xml\"\n",
    "\n",
    "#coba spark gcs connector\n",
    "#setup sparksession for entry point - COBA GCS CONNECTOR\n",
    "SPARK_HOME = os.environ[\"SPARK_HOME\"]\n",
    "spark = SparkSession.builder.appName(\"gcp_playground\") \\\n",
    "    .config(\"spark.jars\", f\"{SPARK_HOME}/jars/gcs-connector-hadoop3-latest.jar, {SPARK_HOME}/jars/spark-bigquery-with-dependencies_2.13-0.27.1.jar\") \\\n",
    "    .config(\"spark.hadoop.fs.AbstractFileSystem.gs.impl\", \"google.cloud.hadoop.fs.gcs.GoogleHadoopFS\") \\\n",
    "    .config(\"spark.hadoop.google.cloud.auth.service.account.enable\", \"true\") \\\n",
    "    .config(\"spark.hadoop.google.cloud.auth.service.account.json.keyfile\", service_account_file) \\\n",
    "    .getOrCreate()\n",
    "\n"
   ]
  },
  {
   "cell_type": "code",
   "execution_count": 8,
   "metadata": {},
   "outputs": [
    {
     "name": "stdout",
     "output_type": "stream",
     "text": [
      "google.cloud.hadoop.fs.gcs.GoogleHadoopFS\n"
     ]
    }
   ],
   "source": [
    "print(spark.conf.get(\"spark.hadoop.fs.AbstractFileSystem.gs.impl\"))"
   ]
  },
  {
   "cell_type": "code",
   "execution_count": 259,
   "metadata": {},
   "outputs": [
    {
     "name": "stdout",
     "output_type": "stream",
     "text": [
      "gs://entsoe_analytics_1009/entsoe_data_DE_TENNET.json\n"
     ]
    }
   ],
   "source": [
    "# path = f\"gs://{gcs_bucket}/{landing_filename}\"\n",
    "# print(path)\n",
    "\n",
    "# #create dataframe from gcs\n",
    "# df_spark = spark.read.format(\"json\") \\\n",
    "#    .option(\"header\",\"true\") \\\n",
    "#    .option(\"multiLine\",\"true\") \\\n",
    "#    .option(\"inferSchema\",\"true\") \\\n",
    "#    .load(path) \\\n",
    "   "
   ]
  },
  {
   "cell_type": "code",
   "execution_count": 51,
   "metadata": {},
   "outputs": [],
   "source": []
  },
  {
   "cell_type": "code",
   "execution_count": 10,
   "metadata": {},
   "outputs": [
    {
     "name": "stdout",
     "output_type": "stream",
     "text": [
      "<class 'pyspark.sql.dataframe.DataFrame'>\n",
      "root\n",
      " |-- @xmlns: string (nullable = true)\n",
      " |-- TimeSeries: array (nullable = true)\n",
      " |    |-- element: struct (containsNull = true)\n",
      " |    |    |-- MktPSRType: struct (nullable = true)\n",
      " |    |    |    |-- psrType: string (nullable = true)\n",
      " |    |    |-- Period: struct (nullable = true)\n",
      " |    |    |    |-- Point: array (nullable = true)\n",
      " |    |    |    |    |-- element: struct (containsNull = true)\n",
      " |    |    |    |    |    |-- position: string (nullable = true)\n",
      " |    |    |    |    |    |-- quantity: string (nullable = true)\n",
      " |    |    |    |-- resolution: string (nullable = true)\n",
      " |    |    |    |-- timeInterval: struct (nullable = true)\n",
      " |    |    |    |    |-- end: string (nullable = true)\n",
      " |    |    |    |    |-- start: string (nullable = true)\n",
      " |    |    |-- businessType: string (nullable = true)\n",
      " |    |    |-- curveType: string (nullable = true)\n",
      " |    |    |-- inBiddingZone_Domain.mRID: struct (nullable = true)\n",
      " |    |    |    |-- #text: string (nullable = true)\n",
      " |    |    |    |-- @codingScheme: string (nullable = true)\n",
      " |    |    |-- mRID: string (nullable = true)\n",
      " |    |    |-- objectAggregation: string (nullable = true)\n",
      " |    |    |-- outBiddingZone_Domain.mRID: struct (nullable = true)\n",
      " |    |    |    |-- #text: string (nullable = true)\n",
      " |    |    |    |-- @codingScheme: string (nullable = true)\n",
      " |    |    |-- quantity_Measure_Unit.name: string (nullable = true)\n",
      " |-- createdDateTime: string (nullable = true)\n",
      " |-- mRID: string (nullable = true)\n",
      " |-- process.processType: string (nullable = true)\n",
      " |-- receiver_MarketParticipant.mRID: struct (nullable = true)\n",
      " |    |-- #text: string (nullable = true)\n",
      " |    |-- @codingScheme: string (nullable = true)\n",
      " |-- receiver_MarketParticipant.marketRole.type: string (nullable = true)\n",
      " |-- revisionNumber: string (nullable = true)\n",
      " |-- sender_MarketParticipant.mRID: struct (nullable = true)\n",
      " |    |-- #text: string (nullable = true)\n",
      " |    |-- @codingScheme: string (nullable = true)\n",
      " |-- sender_MarketParticipant.marketRole.type: string (nullable = true)\n",
      " |-- time_Period.timeInterval: struct (nullable = true)\n",
      " |    |-- end: string (nullable = true)\n",
      " |    |-- start: string (nullable = true)\n",
      " |-- type: string (nullable = true)\n",
      "\n",
      "+--------------------+--------------------+--------------------+--------------------+-------------------+-------------------------------+------------------------------------------+--------------+-----------------------------+----------------------------------------+------------------------+----+\n",
      "|              @xmlns|          TimeSeries|     createdDateTime|                mRID|process.processType|receiver_MarketParticipant.mRID|receiver_MarketParticipant.marketRole.type|revisionNumber|sender_MarketParticipant.mRID|sender_MarketParticipant.marketRole.type|time_Period.timeInterval|type|\n",
      "+--------------------+--------------------+--------------------+--------------------+-------------------+-------------------------------+------------------------------------------+--------------+-----------------------------+----------------------------------------+------------------------+----+\n",
      "|urn:iec62325.351:...|[{{B01}, {[{1, 22...|2022-12-30T03:09:58Z|a7ba9b3697d740da8...|                A16|           {10X1001A1001A450...|                                       A33|             1|         {10X1001A1001A450...|                                     A32|    {2021-01-01T12:00...| A75|\n",
      "+--------------------+--------------------+--------------------+--------------------+-------------------+-------------------------------+------------------------------------------+--------------+-----------------------------+----------------------------------------+------------------------+----+\n",
      "\n"
     ]
    },
    {
     "name": "stderr",
     "output_type": "stream",
     "text": [
      "                                                                                \r"
     ]
    }
   ],
   "source": [
    "# print(type(df_spark))\n",
    "# df_spark.printSchema()\n",
    "# df_spark.show()"
   ]
  },
  {
   "cell_type": "code",
   "execution_count": 52,
   "metadata": {},
   "outputs": [],
   "source": [
    "#create schema to be enforced in subsequent json load operation\n",
    "with open(\"schema_raw.json\", \"w\") as schrawjson:\n",
    "    schrawjson.write(df_spark.schema.json())"
   ]
  },
  {
   "cell_type": "code",
   "execution_count": 7,
   "metadata": {},
   "outputs": [
    {
     "name": "stdout",
     "output_type": "stream",
     "text": [
      "StructType([StructField('GL_MarketDocument', StructType([StructField('@xmlns', StringType(), True), StructField('mRID', StringType(), True), StructField('revisionNumber', StringType(), True), StructField('type', StringType(), True), StructField('process.processType', StringType(), True), StructField('sender_MarketParticipant.mRID', StructType([StructField('#text', StringType(), True), StructField('@codingScheme', StringType(), True)]), True), StructField('sender_MarketParticipant.marketRole.type', StringType(), True), StructField('receiver_MarketParticipant.mRID', StructType([StructField('#text', StringType(), True), StructField('@codingScheme', StringType(), True)]), True), StructField('receiver_MarketParticipant.marketRole.type', StringType(), True), StructField('createdDateTime', StringType(), True), StructField('time_Period.timeInterval', StructType([StructField('end', StringType(), True), StructField('start', StringType(), True)]), True), StructField('TimeSeries', ArrayType(StructType([StructField('MktPSRType', StructType([StructField('psrType', StringType(), True)]), True), StructField('Period', StructType([StructField('Point', ArrayType(StructType([StructField('position', StringType(), True), StructField('quantity', StringType(), True)]), True), True), StructField('resolution', StringType(), True), StructField('timeInterval', StructType([StructField('end', StringType(), True), StructField('start', StringType(), True)]), True)]), True), StructField('businessType', StringType(), True), StructField('curveType', StringType(), True), StructField('inBiddingZone_Domain.mRID', StructType([StructField('#text', StringType(), True), StructField('@codingScheme', StringType(), True)]), True), StructField('mRID', StringType(), True), StructField('objectAggregation', StringType(), True), StructField('outBiddingZone_Domain.mRID', StructType([StructField('#text', StringType(), True), StructField('@codingScheme', StringType(), True)]), True), StructField('quantity_Measure_Unit.name', StringType(), True)]), True), True)]), True)])\n"
     ]
    }
   ],
   "source": [
    "with open(\"schema_raw2.json\", \"r\") as schrawjson:\n",
    "    json_schema_data = schrawjson.read()\n",
    "    json_enforced_schema = StructType.fromJson(json.loads(json_schema_data))\n",
    "    \n",
    "\n",
    "print(json_enforced_schema)"
   ]
  },
  {
   "cell_type": "code",
   "execution_count": 12,
   "metadata": {},
   "outputs": [
    {
     "name": "stdout",
     "output_type": "stream",
     "text": [
      "gs://entsoe_analytics_1009/entsoe_data_DE_TENNET.json\n"
     ]
    }
   ],
   "source": [
    "#create dataframe from gcs\n",
    "path = f\"gs://{gcs_bucket}/{landing_filename}\"\n",
    "print(path)\n",
    "df_spark2 = spark.read.format(\"json\").schema(json_enforced_schema) \\\n",
    "   .option(\"header\",\"true\") \\\n",
    "   .option(\"multiLine\",\"true\") \\\n",
    "   .load(path) \\\n",
    "   .select(\"GL_MarketDocument.*\")\n",
    "   "
   ]
  },
  {
   "cell_type": "code",
   "execution_count": 26,
   "metadata": {},
   "outputs": [],
   "source": [
    "#for non timeseries column\n",
    "df_spark2 = df_spark2.toDF(*(c_name.replace(\".\", \"_\") for c_name in df_spark2.columns))\n",
    "# for timeseries one\n",
    "# def cleanup_ts_colname():''\n",
    "df_spark2 = df_spark2.drop(\"TimeSeries\")\n",
    "    \n",
    "    \n",
    "# if df_spark2.select(\"TimeSeries\"):\n",
    "#     # rename all column (specifically replace dot with underscore) on every struct nested in TimeSeries array column. use transform\n",
    "#     df_spark3 = df_spark3.withColumn(\"TimeSeries\", F.transform \\\n",
    "#     (\"TimeSeries\", lambda el,ind: \\\n",
    "#     F.struct \\\n",
    "#     (\"abc\" for c_name in el.columns)))\n",
    "    \n",
    "# # # #get list of names of all columns in every struct inside TimeSeries array column\n",
    "# # a = [x for x in df_spark2.select((\"TimeSeries\"))]\n",
    "# # print(a)\n",
    "\n",
    "# df_spark3.select(\"TimeSeries\").show(10, truncate=False)\n",
    "# a = F.struct(F.col(\"TimeSeries\").getItem(c_name).alias(c_name.replace(\".\", \"_\")) for i, c_name in enumerate(df_spark2.schema[\"TimeSeries\"].dataType.elementType.fieldNames()))\n",
    "# # print(a\n",
    "\n",
    "\n",
    "# F.struct(F.col(\"TimeSeries\") for c_name in df_spark2.schema[x].dataType.names\n",
    "\n",
    "\n",
    "# df_spark2.show()\n",
    "# df_spark2.printSchema()\n",
    "\n",
    "# # #get list of names of all columns in every struct inside TimeSeries array column\n",
    "# a = [(c_name,i) for (c_name,i) in enumerate(df_spark2.schema[\"TimeSeries\"].dataType.elementType.fieldNames())]\n",
    "# print(a)\n",
    "\n",
    "\n",
    "# df_spark2 = df_spark2.withColumn(\"TimeSeries\", F.transform(\"TimeSeries\", lambda x: F.struct(*[F.col(\"TimeSeries.\" + c_name.replace(\".\", \"_\")).alias(c_name) for c_name in x])))"
   ]
  },
  {
   "cell_type": "code",
   "execution_count": 211,
   "metadata": {},
   "outputs": [
    {
     "ename": "TypeError",
     "evalue": "Invalid argument, not a string or column: <generator object <genexpr> at 0x7fb5d0acd770> of type <class 'generator'>. For column literals, use 'lit', 'array', 'struct' or 'create_map' function.",
     "output_type": "error",
     "traceback": [
      "\u001b[0;31m---------------------------------------------------------------------------\u001b[0m",
      "\u001b[0;31mTypeError\u001b[0m                                 Traceback (most recent call last)",
      "\u001b[1;32m/home/rafzul/projects/entsoe-pipelines/proto.ipynb Cell 15\u001b[0m in \u001b[0;36m<cell line: 4>\u001b[0;34m()\u001b[0m\n\u001b[1;32m      <a href='vscode-notebook-cell:/home/rafzul/projects/entsoe-pipelines/proto.ipynb#X42sZmlsZQ%3D%3D?line=1'>2</a>\u001b[0m df_spark2 \u001b[39m=\u001b[39m df_spark2\u001b[39m.\u001b[39mtoDF(\u001b[39m*\u001b[39m(c_name\u001b[39m.\u001b[39mreplace(\u001b[39m\"\u001b[39m\u001b[39m.\u001b[39m\u001b[39m\"\u001b[39m, \u001b[39m\"\u001b[39m\u001b[39m_\u001b[39m\u001b[39m\"\u001b[39m) \u001b[39mfor\u001b[39;00m c_name \u001b[39min\u001b[39;00m df_spark2\u001b[39m.\u001b[39mcolumns))\n\u001b[1;32m      <a href='vscode-notebook-cell:/home/rafzul/projects/entsoe-pipelines/proto.ipynb#X42sZmlsZQ%3D%3D?line=2'>3</a>\u001b[0m \u001b[39m#for timeseries one\u001b[39;00m\n\u001b[0;32m----> <a href='vscode-notebook-cell:/home/rafzul/projects/entsoe-pipelines/proto.ipynb#X42sZmlsZQ%3D%3D?line=3'>4</a>\u001b[0m a \u001b[39m=\u001b[39m F\u001b[39m.\u001b[39;49mstruct(F\u001b[39m.\u001b[39;49mcol(\u001b[39m\"\u001b[39;49m\u001b[39mTimeSeries\u001b[39;49m\u001b[39m\"\u001b[39;49m)\u001b[39m.\u001b[39;49mgetItem(c_name)\u001b[39m.\u001b[39;49malias(c_name\u001b[39m.\u001b[39;49mreplace(\u001b[39m\"\u001b[39;49m\u001b[39m.\u001b[39;49m\u001b[39m\"\u001b[39;49m, \u001b[39m\"\u001b[39;49m\u001b[39m_\u001b[39;49m\u001b[39m\"\u001b[39;49m)) \u001b[39mfor\u001b[39;49;00m i, c_name \u001b[39min\u001b[39;49;00m \u001b[39menumerate\u001b[39;49m(df_spark2\u001b[39m.\u001b[39;49mschema[\u001b[39m\"\u001b[39;49m\u001b[39mTimeSeries\u001b[39;49m\u001b[39m\"\u001b[39;49m]\u001b[39m.\u001b[39;49mdataType\u001b[39m.\u001b[39;49melementType\u001b[39m.\u001b[39;49mfieldNames()))\n\u001b[1;32m      <a href='vscode-notebook-cell:/home/rafzul/projects/entsoe-pipelines/proto.ipynb#X42sZmlsZQ%3D%3D?line=4'>5</a>\u001b[0m \u001b[39mprint\u001b[39m(a)\n\u001b[1;32m      <a href='vscode-notebook-cell:/home/rafzul/projects/entsoe-pipelines/proto.ipynb#X42sZmlsZQ%3D%3D?line=5'>6</a>\u001b[0m \u001b[39mif\u001b[39;00m df_spark2\u001b[39m.\u001b[39mselect(\u001b[39m\"\u001b[39m\u001b[39mTimeSeries\u001b[39m\u001b[39m\"\u001b[39m):\n\u001b[1;32m      <a href='vscode-notebook-cell:/home/rafzul/projects/entsoe-pipelines/proto.ipynb#X42sZmlsZQ%3D%3D?line=6'>7</a>\u001b[0m     \u001b[39m# rename all column (specifically replace dot with underscore) on every struct nested in TimeSeries array column. use transform, use Timeseries schema and its datatype.name o\u001b[39;00m\n",
      "File \u001b[0;32m~/.local/lib/python3.10/site-packages/pyspark/sql/functions.py:1662\u001b[0m, in \u001b[0;36mstruct\u001b[0;34m(*cols)\u001b[0m\n\u001b[1;32m   1660\u001b[0m \u001b[39mif\u001b[39;00m \u001b[39mlen\u001b[39m(cols) \u001b[39m==\u001b[39m \u001b[39m1\u001b[39m \u001b[39mand\u001b[39;00m \u001b[39misinstance\u001b[39m(cols[\u001b[39m0\u001b[39m], (\u001b[39mlist\u001b[39m, \u001b[39mset\u001b[39m)):\n\u001b[1;32m   1661\u001b[0m     cols \u001b[39m=\u001b[39m cols[\u001b[39m0\u001b[39m]  \u001b[39m# type: ignore[assignment]\u001b[39;00m\n\u001b[0;32m-> 1662\u001b[0m \u001b[39mreturn\u001b[39;00m _invoke_function_over_seq_of_columns(\u001b[39m\"\u001b[39;49m\u001b[39mstruct\u001b[39;49m\u001b[39m\"\u001b[39;49m, cols)\n",
      "File \u001b[0;32m~/.local/lib/python3.10/site-packages/pyspark/sql/functions.py:103\u001b[0m, in \u001b[0;36m_invoke_function_over_seq_of_columns\u001b[0;34m(name, cols)\u001b[0m\n\u001b[1;32m    101\u001b[0m sc \u001b[39m=\u001b[39m SparkContext\u001b[39m.\u001b[39m_active_spark_context\n\u001b[1;32m    102\u001b[0m \u001b[39massert\u001b[39;00m sc \u001b[39mis\u001b[39;00m \u001b[39mnot\u001b[39;00m \u001b[39mNone\u001b[39;00m \u001b[39mand\u001b[39;00m sc\u001b[39m.\u001b[39m_jvm \u001b[39mis\u001b[39;00m \u001b[39mnot\u001b[39;00m \u001b[39mNone\u001b[39;00m\n\u001b[0;32m--> 103\u001b[0m \u001b[39mreturn\u001b[39;00m _invoke_function(name, _to_seq(sc, cols, _to_java_column))\n",
      "File \u001b[0;32m~/.local/lib/python3.10/site-packages/pyspark/sql/column.py:86\u001b[0m, in \u001b[0;36m_to_seq\u001b[0;34m(sc, cols, converter)\u001b[0m\n\u001b[1;32m     79\u001b[0m \u001b[39m\"\"\"\u001b[39;00m\n\u001b[1;32m     80\u001b[0m \u001b[39mConvert a list of Column (or names) into a JVM Seq of Column.\u001b[39;00m\n\u001b[1;32m     81\u001b[0m \n\u001b[1;32m     82\u001b[0m \u001b[39mAn optional `converter` could be used to convert items in `cols`\u001b[39;00m\n\u001b[1;32m     83\u001b[0m \u001b[39minto JVM Column objects.\u001b[39;00m\n\u001b[1;32m     84\u001b[0m \u001b[39m\"\"\"\u001b[39;00m\n\u001b[1;32m     85\u001b[0m \u001b[39mif\u001b[39;00m converter:\n\u001b[0;32m---> 86\u001b[0m     cols \u001b[39m=\u001b[39m [converter(c) \u001b[39mfor\u001b[39;00m c \u001b[39min\u001b[39;00m cols]\n\u001b[1;32m     87\u001b[0m \u001b[39massert\u001b[39;00m sc\u001b[39m.\u001b[39m_jvm \u001b[39mis\u001b[39;00m \u001b[39mnot\u001b[39;00m \u001b[39mNone\u001b[39;00m\n\u001b[1;32m     88\u001b[0m \u001b[39mreturn\u001b[39;00m sc\u001b[39m.\u001b[39m_jvm\u001b[39m.\u001b[39mPythonUtils\u001b[39m.\u001b[39mtoSeq(cols)\n",
      "File \u001b[0;32m~/.local/lib/python3.10/site-packages/pyspark/sql/column.py:86\u001b[0m, in \u001b[0;36m<listcomp>\u001b[0;34m(.0)\u001b[0m\n\u001b[1;32m     79\u001b[0m \u001b[39m\"\"\"\u001b[39;00m\n\u001b[1;32m     80\u001b[0m \u001b[39mConvert a list of Column (or names) into a JVM Seq of Column.\u001b[39;00m\n\u001b[1;32m     81\u001b[0m \n\u001b[1;32m     82\u001b[0m \u001b[39mAn optional `converter` could be used to convert items in `cols`\u001b[39;00m\n\u001b[1;32m     83\u001b[0m \u001b[39minto JVM Column objects.\u001b[39;00m\n\u001b[1;32m     84\u001b[0m \u001b[39m\"\"\"\u001b[39;00m\n\u001b[1;32m     85\u001b[0m \u001b[39mif\u001b[39;00m converter:\n\u001b[0;32m---> 86\u001b[0m     cols \u001b[39m=\u001b[39m [converter(c) \u001b[39mfor\u001b[39;00m c \u001b[39min\u001b[39;00m cols]\n\u001b[1;32m     87\u001b[0m \u001b[39massert\u001b[39;00m sc\u001b[39m.\u001b[39m_jvm \u001b[39mis\u001b[39;00m \u001b[39mnot\u001b[39;00m \u001b[39mNone\u001b[39;00m\n\u001b[1;32m     88\u001b[0m \u001b[39mreturn\u001b[39;00m sc\u001b[39m.\u001b[39m_jvm\u001b[39m.\u001b[39mPythonUtils\u001b[39m.\u001b[39mtoSeq(cols)\n",
      "File \u001b[0;32m~/.local/lib/python3.10/site-packages/pyspark/sql/column.py:65\u001b[0m, in \u001b[0;36m_to_java_column\u001b[0;34m(col)\u001b[0m\n\u001b[1;32m     63\u001b[0m     jcol \u001b[39m=\u001b[39m _create_column_from_name(col)\n\u001b[1;32m     64\u001b[0m \u001b[39melse\u001b[39;00m:\n\u001b[0;32m---> 65\u001b[0m     \u001b[39mraise\u001b[39;00m \u001b[39mTypeError\u001b[39;00m(\n\u001b[1;32m     66\u001b[0m         \u001b[39m\"\u001b[39m\u001b[39mInvalid argument, not a string or column: \u001b[39m\u001b[39m\"\u001b[39m\n\u001b[1;32m     67\u001b[0m         \u001b[39m\"\u001b[39m\u001b[39m{0}\u001b[39;00m\u001b[39m of type \u001b[39m\u001b[39m{1}\u001b[39;00m\u001b[39m. \u001b[39m\u001b[39m\"\u001b[39m\n\u001b[1;32m     68\u001b[0m         \u001b[39m\"\u001b[39m\u001b[39mFor column literals, use \u001b[39m\u001b[39m'\u001b[39m\u001b[39mlit\u001b[39m\u001b[39m'\u001b[39m\u001b[39m, \u001b[39m\u001b[39m'\u001b[39m\u001b[39marray\u001b[39m\u001b[39m'\u001b[39m\u001b[39m, \u001b[39m\u001b[39m'\u001b[39m\u001b[39mstruct\u001b[39m\u001b[39m'\u001b[39m\u001b[39m or \u001b[39m\u001b[39m'\u001b[39m\u001b[39mcreate_map\u001b[39m\u001b[39m'\u001b[39m\u001b[39m \u001b[39m\u001b[39m\"\u001b[39m\n\u001b[1;32m     69\u001b[0m         \u001b[39m\"\u001b[39m\u001b[39mfunction.\u001b[39m\u001b[39m\"\u001b[39m\u001b[39m.\u001b[39mformat(col, \u001b[39mtype\u001b[39m(col))\n\u001b[1;32m     70\u001b[0m     )\n\u001b[1;32m     71\u001b[0m \u001b[39mreturn\u001b[39;00m jcol\n",
      "\u001b[0;31mTypeError\u001b[0m: Invalid argument, not a string or column: <generator object <genexpr> at 0x7fb5d0acd770> of type <class 'generator'>. For column literals, use 'lit', 'array', 'struct' or 'create_map' function."
     ]
    }
   ],
   "source": [
    "# #for non timeseries column\n",
    "# df_spark2 = df_spark2.toDF(*(c_name.replace(\".\", \"_\") for c_name in df_spark2.columns))\n",
    "# b = df_spark2.select(F.col(\"TimeSeries\"))\n",
    "# #for timeseries one\n",
    "# a = F.struct(F.col(\"TimeSeries\").getItem(c_name).alias(c_name.replace(\".\", \"_\")) for i, c_name in enumerate(df_spark2.schema[\"TimeSeries\"].dataType.elementType.fieldNames()))\n",
    "# print(a)\n",
    "# if df_spark2.select(\"TimeSeries\"):\n",
    "#     # rename all column (specifically replace dot with underscore) on every struct nested in TimeSeries array column. use transform, use Timeseries schema and its datatype.name o\n",
    "#     df_spark2 = df_spark2.withColumn(\"TimeSeries\", F.transform(\"TimeSeries\", lambda x: (a)))\n",
    "    \n",
    "# # #get list of names of all columns in every struct inside TimeSeries array column\n",
    "# # a = [c_name for c_name in enumerate(df_spark2.schema[\"TimeSeries\"].dataType.elementType.fieldNames())]\n",
    "\n",
    "\n",
    "# df_spark3.show()\n",
    "# df_spark3.printSchema()\n",
    "\n",
    "\n",
    "\n",
    "# # df_spark2 = df_spark2.withColumn(\"TimeSeries\", F.transform(\"TimeSeries\", lambda x: F.struct(*[F.col(\"TimeSeries.\" + c_name.replace(\".\", \"_\")).alias(c_name) for c_name in x])))"
   ]
  },
  {
   "cell_type": "code",
   "execution_count": 27,
   "metadata": {},
   "outputs": [
    {
     "name": "stdout",
     "output_type": "stream",
     "text": [
      "<class 'pyspark.sql.dataframe.DataFrame'>\n",
      "root\n",
      " |-- @xmlns: string (nullable = true)\n",
      " |-- mRID: string (nullable = true)\n",
      " |-- revisionNumber: string (nullable = true)\n",
      " |-- type: string (nullable = true)\n",
      " |-- process_processType: string (nullable = true)\n",
      " |-- sender_MarketParticipant_mRID: struct (nullable = true)\n",
      " |    |-- #text: string (nullable = true)\n",
      " |    |-- @codingScheme: string (nullable = true)\n",
      " |-- sender_MarketParticipant_marketRole_type: string (nullable = true)\n",
      " |-- receiver_MarketParticipant_mRID: struct (nullable = true)\n",
      " |    |-- #text: string (nullable = true)\n",
      " |    |-- @codingScheme: string (nullable = true)\n",
      " |-- receiver_MarketParticipant_marketRole_type: string (nullable = true)\n",
      " |-- createdDateTime: string (nullable = true)\n",
      " |-- time_Period_timeInterval: struct (nullable = true)\n",
      " |    |-- end: string (nullable = true)\n",
      " |    |-- start: string (nullable = true)\n",
      "\n",
      "+--------------------+--------------------+--------------+----+-------------------+-----------------------------+----------------------------------------+-------------------------------+------------------------------------------+--------------------+------------------------+\n",
      "|              @xmlns|                mRID|revisionNumber|type|process_processType|sender_MarketParticipant_mRID|sender_MarketParticipant_marketRole_type|receiver_MarketParticipant_mRID|receiver_MarketParticipant_marketRole_type|     createdDateTime|time_Period_timeInterval|\n",
      "+--------------------+--------------------+--------------+----+-------------------+-----------------------------+----------------------------------------+-------------------------------+------------------------------------------+--------------------+------------------------+\n",
      "|urn:iec62325.351:...|cdbc203509474441a...|             1| A75|                A16|         {10X1001A1001A450...|                                     A32|           {10X1001A1001A450...|                                       A33|2023-01-01T05:55:14Z|    {2021-01-01T12:00...|\n",
      "+--------------------+--------------------+--------------+----+-------------------+-----------------------------+----------------------------------------+-------------------------------+------------------------------------------+--------------------+------------------------+\n",
      "\n"
     ]
    },
    {
     "ename": "AnalysisException",
     "evalue": "Column 'TimeSeries' does not exist. Did you mean one of the following? [@xmlns, mRID, type, createdDateTime, revisionNumber, process_processType, time_Period_timeInterval, sender_MarketParticipant_mRID, receiver_MarketParticipant_mRID, sender_MarketParticipant_marketRole_type, receiver_MarketParticipant_marketRole_type];\n'Project ['TimeSeries]\n+- Project [@xmlns#408, mRID#409, revisionNumber#410, type#411, process_processType#412, sender_MarketParticipant_mRID#413, sender_MarketParticipant_marketRole_type#414, receiver_MarketParticipant_mRID#415, receiver_MarketParticipant_marketRole_type#416, createdDateTime#417, time_Period_timeInterval#418]\n   +- Project [@xmlns#279 AS @xmlns#408, mRID#280 AS mRID#409, revisionNumber#281 AS revisionNumber#410, type#282 AS type#411, process_processType#283 AS process_processType#412, sender_MarketParticipant_mRID#284 AS sender_MarketParticipant_mRID#413, sender_MarketParticipant_marketRole_type#285 AS sender_MarketParticipant_marketRole_type#414, receiver_MarketParticipant_mRID#286 AS receiver_MarketParticipant_mRID#415, receiver_MarketParticipant_marketRole_type#287 AS receiver_MarketParticipant_marketRole_type#416, createdDateTime#288 AS createdDateTime#417, time_Period_timeInterval#289 AS time_Period_timeInterval#418, TimeSeries#290 AS TimeSeries#419]\n      +- Project [@xmlns#30 AS @xmlns#279, mRID#31 AS mRID#280, revisionNumber#32 AS revisionNumber#281, type#33 AS type#282, process.processType#34 AS process_processType#283, sender_MarketParticipant.mRID#35 AS sender_MarketParticipant_mRID#284, sender_MarketParticipant.marketRole.type#36 AS sender_MarketParticipant_marketRole_type#285, receiver_MarketParticipant.mRID#37 AS receiver_MarketParticipant_mRID#286, receiver_MarketParticipant.marketRole.type#38 AS receiver_MarketParticipant_marketRole_type#287, createdDateTime#39 AS createdDateTime#288, time_Period.timeInterval#40 AS time_Period_timeInterval#289, TimeSeries#41 AS TimeSeries#290]\n         +- Project [GL_MarketDocument#27.@xmlns AS @xmlns#30, GL_MarketDocument#27.mRID AS mRID#31, GL_MarketDocument#27.revisionNumber AS revisionNumber#32, GL_MarketDocument#27.type AS type#33, GL_MarketDocument#27.process.processType AS process.processType#34, GL_MarketDocument#27.sender_MarketParticipant.mRID AS sender_MarketParticipant.mRID#35, GL_MarketDocument#27.sender_MarketParticipant.marketRole.type AS sender_MarketParticipant.marketRole.type#36, GL_MarketDocument#27.receiver_MarketParticipant.mRID AS receiver_MarketParticipant.mRID#37, GL_MarketDocument#27.receiver_MarketParticipant.marketRole.type AS receiver_MarketParticipant.marketRole.type#38, GL_MarketDocument#27.createdDateTime AS createdDateTime#39, GL_MarketDocument#27.time_Period.timeInterval AS time_Period.timeInterval#40, GL_MarketDocument#27.TimeSeries AS TimeSeries#41]\n            +- Relation [GL_MarketDocument#27] json\n",
     "output_type": "error",
     "traceback": [
      "\u001b[0;31m---------------------------------------------------------------------------\u001b[0m",
      "\u001b[0;31mAnalysisException\u001b[0m                         Traceback (most recent call last)",
      "\u001b[1;32m/home/rafzul/projects/entsoe-pipelines/proto.ipynb Cell 17\u001b[0m in \u001b[0;36m<cell line: 4>\u001b[0;34m()\u001b[0m\n\u001b[1;32m      <a href='vscode-notebook-cell:/home/rafzul/projects/entsoe-pipelines/proto.ipynb#X22sZmlsZQ%3D%3D?line=1'>2</a>\u001b[0m df_spark2\u001b[39m.\u001b[39mprintSchema()\n\u001b[1;32m      <a href='vscode-notebook-cell:/home/rafzul/projects/entsoe-pipelines/proto.ipynb#X22sZmlsZQ%3D%3D?line=2'>3</a>\u001b[0m df_spark2\u001b[39m.\u001b[39mshow()\n\u001b[0;32m----> <a href='vscode-notebook-cell:/home/rafzul/projects/entsoe-pipelines/proto.ipynb#X22sZmlsZQ%3D%3D?line=3'>4</a>\u001b[0m df_spark2\u001b[39m.\u001b[39;49mselect(F\u001b[39m.\u001b[39;49mcol(\u001b[39m\"\u001b[39;49m\u001b[39mTimeSeries\u001b[39;49m\u001b[39m\"\u001b[39;49m))\u001b[39m.\u001b[39mshow(truncate\u001b[39m=\u001b[39m\u001b[39mFalse\u001b[39;00m)\n",
      "File \u001b[0;32m~/.local/lib/python3.10/site-packages/pyspark/sql/dataframe.py:2023\u001b[0m, in \u001b[0;36mDataFrame.select\u001b[0;34m(self, *cols)\u001b[0m\n\u001b[1;32m   2002\u001b[0m \u001b[39mdef\u001b[39;00m \u001b[39mselect\u001b[39m(\u001b[39mself\u001b[39m, \u001b[39m*\u001b[39mcols: \u001b[39m\"\u001b[39m\u001b[39mColumnOrName\u001b[39m\u001b[39m\"\u001b[39m) \u001b[39m-\u001b[39m\u001b[39m>\u001b[39m \u001b[39m\"\u001b[39m\u001b[39mDataFrame\u001b[39m\u001b[39m\"\u001b[39m:  \u001b[39m# type: ignore[misc]\u001b[39;00m\n\u001b[1;32m   2003\u001b[0m     \u001b[39m\"\"\"Projects a set of expressions and returns a new :class:`DataFrame`.\u001b[39;00m\n\u001b[1;32m   2004\u001b[0m \n\u001b[1;32m   2005\u001b[0m \u001b[39m    .. versionadded:: 1.3.0\u001b[39;00m\n\u001b[0;32m   (...)\u001b[0m\n\u001b[1;32m   2021\u001b[0m \u001b[39m    [Row(name='Alice', age=12), Row(name='Bob', age=15)]\u001b[39;00m\n\u001b[1;32m   2022\u001b[0m \u001b[39m    \"\"\"\u001b[39;00m\n\u001b[0;32m-> 2023\u001b[0m     jdf \u001b[39m=\u001b[39m \u001b[39mself\u001b[39;49m\u001b[39m.\u001b[39;49m_jdf\u001b[39m.\u001b[39;49mselect(\u001b[39mself\u001b[39;49m\u001b[39m.\u001b[39;49m_jcols(\u001b[39m*\u001b[39;49mcols))\n\u001b[1;32m   2024\u001b[0m     \u001b[39mreturn\u001b[39;00m DataFrame(jdf, \u001b[39mself\u001b[39m\u001b[39m.\u001b[39msparkSession)\n",
      "File \u001b[0;32m~/.local/lib/python3.10/site-packages/py4j/java_gateway.py:1321\u001b[0m, in \u001b[0;36mJavaMember.__call__\u001b[0;34m(self, *args)\u001b[0m\n\u001b[1;32m   1315\u001b[0m command \u001b[39m=\u001b[39m proto\u001b[39m.\u001b[39mCALL_COMMAND_NAME \u001b[39m+\u001b[39m\\\n\u001b[1;32m   1316\u001b[0m     \u001b[39mself\u001b[39m\u001b[39m.\u001b[39mcommand_header \u001b[39m+\u001b[39m\\\n\u001b[1;32m   1317\u001b[0m     args_command \u001b[39m+\u001b[39m\\\n\u001b[1;32m   1318\u001b[0m     proto\u001b[39m.\u001b[39mEND_COMMAND_PART\n\u001b[1;32m   1320\u001b[0m answer \u001b[39m=\u001b[39m \u001b[39mself\u001b[39m\u001b[39m.\u001b[39mgateway_client\u001b[39m.\u001b[39msend_command(command)\n\u001b[0;32m-> 1321\u001b[0m return_value \u001b[39m=\u001b[39m get_return_value(\n\u001b[1;32m   1322\u001b[0m     answer, \u001b[39mself\u001b[39;49m\u001b[39m.\u001b[39;49mgateway_client, \u001b[39mself\u001b[39;49m\u001b[39m.\u001b[39;49mtarget_id, \u001b[39mself\u001b[39;49m\u001b[39m.\u001b[39;49mname)\n\u001b[1;32m   1324\u001b[0m \u001b[39mfor\u001b[39;00m temp_arg \u001b[39min\u001b[39;00m temp_args:\n\u001b[1;32m   1325\u001b[0m     temp_arg\u001b[39m.\u001b[39m_detach()\n",
      "File \u001b[0;32m~/.local/lib/python3.10/site-packages/pyspark/sql/utils.py:196\u001b[0m, in \u001b[0;36mcapture_sql_exception.<locals>.deco\u001b[0;34m(*a, **kw)\u001b[0m\n\u001b[1;32m    192\u001b[0m converted \u001b[39m=\u001b[39m convert_exception(e\u001b[39m.\u001b[39mjava_exception)\n\u001b[1;32m    193\u001b[0m \u001b[39mif\u001b[39;00m \u001b[39mnot\u001b[39;00m \u001b[39misinstance\u001b[39m(converted, UnknownException):\n\u001b[1;32m    194\u001b[0m     \u001b[39m# Hide where the exception came from that shows a non-Pythonic\u001b[39;00m\n\u001b[1;32m    195\u001b[0m     \u001b[39m# JVM exception message.\u001b[39;00m\n\u001b[0;32m--> 196\u001b[0m     \u001b[39mraise\u001b[39;00m converted \u001b[39mfrom\u001b[39;00m \u001b[39mNone\u001b[39m\n\u001b[1;32m    197\u001b[0m \u001b[39melse\u001b[39;00m:\n\u001b[1;32m    198\u001b[0m     \u001b[39mraise\u001b[39;00m\n",
      "\u001b[0;31mAnalysisException\u001b[0m: Column 'TimeSeries' does not exist. Did you mean one of the following? [@xmlns, mRID, type, createdDateTime, revisionNumber, process_processType, time_Period_timeInterval, sender_MarketParticipant_mRID, receiver_MarketParticipant_mRID, sender_MarketParticipant_marketRole_type, receiver_MarketParticipant_marketRole_type];\n'Project ['TimeSeries]\n+- Project [@xmlns#408, mRID#409, revisionNumber#410, type#411, process_processType#412, sender_MarketParticipant_mRID#413, sender_MarketParticipant_marketRole_type#414, receiver_MarketParticipant_mRID#415, receiver_MarketParticipant_marketRole_type#416, createdDateTime#417, time_Period_timeInterval#418]\n   +- Project [@xmlns#279 AS @xmlns#408, mRID#280 AS mRID#409, revisionNumber#281 AS revisionNumber#410, type#282 AS type#411, process_processType#283 AS process_processType#412, sender_MarketParticipant_mRID#284 AS sender_MarketParticipant_mRID#413, sender_MarketParticipant_marketRole_type#285 AS sender_MarketParticipant_marketRole_type#414, receiver_MarketParticipant_mRID#286 AS receiver_MarketParticipant_mRID#415, receiver_MarketParticipant_marketRole_type#287 AS receiver_MarketParticipant_marketRole_type#416, createdDateTime#288 AS createdDateTime#417, time_Period_timeInterval#289 AS time_Period_timeInterval#418, TimeSeries#290 AS TimeSeries#419]\n      +- Project [@xmlns#30 AS @xmlns#279, mRID#31 AS mRID#280, revisionNumber#32 AS revisionNumber#281, type#33 AS type#282, process.processType#34 AS process_processType#283, sender_MarketParticipant.mRID#35 AS sender_MarketParticipant_mRID#284, sender_MarketParticipant.marketRole.type#36 AS sender_MarketParticipant_marketRole_type#285, receiver_MarketParticipant.mRID#37 AS receiver_MarketParticipant_mRID#286, receiver_MarketParticipant.marketRole.type#38 AS receiver_MarketParticipant_marketRole_type#287, createdDateTime#39 AS createdDateTime#288, time_Period.timeInterval#40 AS time_Period_timeInterval#289, TimeSeries#41 AS TimeSeries#290]\n         +- Project [GL_MarketDocument#27.@xmlns AS @xmlns#30, GL_MarketDocument#27.mRID AS mRID#31, GL_MarketDocument#27.revisionNumber AS revisionNumber#32, GL_MarketDocument#27.type AS type#33, GL_MarketDocument#27.process.processType AS process.processType#34, GL_MarketDocument#27.sender_MarketParticipant.mRID AS sender_MarketParticipant.mRID#35, GL_MarketDocument#27.sender_MarketParticipant.marketRole.type AS sender_MarketParticipant.marketRole.type#36, GL_MarketDocument#27.receiver_MarketParticipant.mRID AS receiver_MarketParticipant.mRID#37, GL_MarketDocument#27.receiver_MarketParticipant.marketRole.type AS receiver_MarketParticipant.marketRole.type#38, GL_MarketDocument#27.createdDateTime AS createdDateTime#39, GL_MarketDocument#27.time_Period.timeInterval AS time_Period.timeInterval#40, GL_MarketDocument#27.TimeSeries AS TimeSeries#41]\n            +- Relation [GL_MarketDocument#27] json\n"
     ]
    }
   ],
   "source": [
    "print(type(df_spark2))\n",
    "df_spark2.printSchema()\n",
    "df_spark2.show()\n",
    "df_spark2.select(F.col(\"TimeSeries\")).show(truncate=False)"
   ]
  },
  {
   "cell_type": "code",
   "execution_count": 134,
   "metadata": {},
   "outputs": [],
   "source": [
    "# #cast schema with the dot replaced with underscore, programatically\n",
    "\n",
    "\n",
    "\n",
    "# ---- solution for  column names beside TimeSeries:\n",
    "# changed_column_general = [(column_name, column_name.replace(\".\", \"_\")) for column_name in df_schema.fieldNames() if \".\" in x]\n",
    "# for column_name, changed_column_name in changed_column_general:\n",
    "#     df_schema = df_spark2.select([F.col(c).alias(mappingcolumn_name, changed_column_name)\n",
    "# # UPDATE: there is even better solution\n",
    "\n",
    "# #changed non timeseries column\n",
    "# df_spark2 = df_spark2.toDF(*(c.replace(\".\", \"_\") for c in df_spark2.columns))\n",
    "\n",
    "\n",
    "# #on every elements on TimeSeries, rename all the column with dot to underscore\n",
    "#    df_spark2 = df_spark2.withColumn(\"TimeSeries\", F.transform(\"TimeSeries\", (lambda n_struct: \\\n",
    "#       (F.col(col_name).replace(\".\", \"_\") \\\n",
    "#       for col_name in n_struct.columns))))\n"
   ]
  },
  {
   "cell_type": "code",
   "execution_count": 28,
   "metadata": {},
   "outputs": [
    {
     "name": "stderr",
     "output_type": "stream",
     "text": [
      "                                                                                \r"
     ]
    }
   ],
   "source": [
    "#tulis data ke bigquery via temporary gcs bucket\n",
    "df_spark2.write \\\n",
    "  .format(\"bigquery\") \\\n",
    "  .option(\"project\",\"rafzul-analytics-1009\") \\\n",
    "  .option(\"temporaryGcsBucket\",\"entsoe_temp_1009\") \\\n",
    "  .mode(\"append\") \\\n",
    "  .save(\"rafzul-analytics-1009.entsoe_playground.fact_test\")"
   ]
  },
  {
   "cell_type": "code",
   "execution_count": 76,
   "metadata": {},
   "outputs": [
    {
     "ename": "TypeError",
     "evalue": "write() argument must be str, not RDD",
     "output_type": "error",
     "traceback": [
      "\u001b[0;31m---------------------------------------------------------------------------\u001b[0m",
      "\u001b[0;31mTypeError\u001b[0m                                 Traceback (most recent call last)",
      "\u001b[1;32m/home/rafzul/projects/entsoe-pipelines/prototype.ipynb Cell 16\u001b[0m in \u001b[0;36m<cell line: 1>\u001b[0;34m()\u001b[0m\n\u001b[1;32m      <a href='vscode-notebook-cell:/home/rafzul/projects/entsoe-pipelines/prototype.ipynb#X34sZmlsZQ%3D%3D?line=0'>1</a>\u001b[0m \u001b[39mwith\u001b[39;00m \u001b[39mopen\u001b[39m(\u001b[39m\"\u001b[39m\u001b[39mexample_destination.json\u001b[39m\u001b[39m\"\u001b[39m, \u001b[39m\"\u001b[39m\u001b[39mw+\u001b[39m\u001b[39m\"\u001b[39m) \u001b[39mas\u001b[39;00m output_file:\n\u001b[0;32m----> <a href='vscode-notebook-cell:/home/rafzul/projects/entsoe-pipelines/prototype.ipynb#X34sZmlsZQ%3D%3D?line=1'>2</a>\u001b[0m     output_file\u001b[39m.\u001b[39;49mwrite(df_spark2\u001b[39m.\u001b[39;49mtoJSON())\n",
      "\u001b[0;31mTypeError\u001b[0m: write() argument must be str, not RDD"
     ]
    }
   ],
   "source": [
    "with open(\"example_destination.json\", \"w+\") as output_file:\n",
    "    output_file.write(df_spark2.toJSON())"
   ]
  },
  {
   "cell_type": "code",
   "execution_count": null,
   "metadata": {},
   "outputs": [],
   "source": [
    "#gimana cara ngirim doi ke bigquery?"
   ]
  },
  {
   "cell_type": "code",
   "execution_count": 171,
   "metadata": {},
   "outputs": [
    {
     "name": "stdout",
     "output_type": "stream",
     "text": [
      "[('@xmlns', 'string'), ('TimeSeries', 'array<struct<MktPSRType:struct<PowerSystemResources:struct<mRID:struct<#text:string,@codingScheme:string>,name:string>,psrType:string>,Period:struct<Point:struct<position:string,quantity:string>,resolution:string,timeInterval:struct<end:string,start:string>>,businessType:string,curveType:string,inBiddingZone_Domain.mRID:struct<#text:string,@codingScheme:string>,mRID:string,objectAggregation:string,quantity_Measure_Unit.name:string,registeredResource.mRID:struct<#text:string,@codingScheme:string>>>'), ('createdDateTime', 'string'), ('mRID', 'string'), ('process.processType', 'string'), ('receiver_MarketParticipant.mRID', 'struct<#text:string,@codingScheme:string>'), ('receiver_MarketParticipant.marketRole.type', 'string'), ('revisionNumber', 'string'), ('sender_MarketParticipant.mRID', 'struct<#text:string,@codingScheme:string>'), ('sender_MarketParticipant.marketRole.type', 'string'), ('time_Period.timeInterval', 'struct<end:string,start:string>'), ('type', 'string')]\n",
      "['TimeSeries']\n",
      "+--------------------+--------------------+--------------------+--------------------+-------------------+-------------------------------+------------------------------------------+--------------+-----------------------------+----------------------------------------+------------------------+----+\n",
      "|              @xmlns|          TimeSeries|     createdDateTime|                mRID|process.processType|receiver_MarketParticipant.mRID|receiver_MarketParticipant.marketRole.type|revisionNumber|sender_MarketParticipant.mRID|sender_MarketParticipant.marketRole.type|time_Period.timeInterval|type|\n",
      "+--------------------+--------------------+--------------------+--------------------+-------------------+-------------------------------+------------------------------------------+--------------+-----------------------------+----------------------------------------+------------------------+----+\n",
      "|urn:iec62325.351:...|{{{{27W-GU-ECHVG1...|2022-12-27T13:03:46Z|c660d289cfdd4089a...|                A16|           {10X1001A1001A450...|                                       A33|             1|         {10X1001A1001A450...|                                     A32|    {2021-01-01T12:00...| A73|\n",
      "|urn:iec62325.351:...|{{{{27W-GU-ECHVG2...|2022-12-27T13:03:46Z|c660d289cfdd4089a...|                A16|           {10X1001A1001A450...|                                       A33|             1|         {10X1001A1001A450...|                                     A32|    {2021-01-01T12:00...| A73|\n",
      "|urn:iec62325.351:...|{{{{27W-GU-ECHVG3...|2022-12-27T13:03:46Z|c660d289cfdd4089a...|                A16|           {10X1001A1001A450...|                                       A33|             1|         {10X1001A1001A450...|                                     A32|    {2021-01-01T12:00...| A73|\n",
      "|urn:iec62325.351:...|{{{{27W-GU-ECHVG4...|2022-12-27T13:03:46Z|c660d289cfdd4089a...|                A16|           {10X1001A1001A450...|                                       A33|             1|         {10X1001A1001A450...|                                     A32|    {2021-01-01T12:00...| A73|\n",
      "|urn:iec62325.351:...|{{{{27W-GU-EDALG1...|2022-12-27T13:03:46Z|c660d289cfdd4089a...|                A16|           {10X1001A1001A450...|                                       A33|             1|         {10X1001A1001A450...|                                     A32|    {2021-01-01T12:00...| A73|\n",
      "|urn:iec62325.351:...|{{{{27W-GU-EDALG2...|2022-12-27T13:03:46Z|c660d289cfdd4089a...|                A16|           {10X1001A1001A450...|                                       A33|             1|         {10X1001A1001A450...|                                     A32|    {2021-01-01T12:00...| A73|\n",
      "|urn:iec62325.351:...|{{{{27W-GU-EDALG3...|2022-12-27T13:03:46Z|c660d289cfdd4089a...|                A16|           {10X1001A1001A450...|                                       A33|             1|         {10X1001A1001A450...|                                     A32|    {2021-01-01T12:00...| A73|\n",
      "|urn:iec62325.351:...|{{{{27W-GU-EDALG4...|2022-12-27T13:03:46Z|c660d289cfdd4089a...|                A16|           {10X1001A1001A450...|                                       A33|             1|         {10X1001A1001A450...|                                     A32|    {2021-01-01T12:00...| A73|\n",
      "|urn:iec62325.351:...|{{{{27W-GU-EDETG2...|2022-12-27T13:03:46Z|c660d289cfdd4089a...|                A16|           {10X1001A1001A450...|                                       A33|             1|         {10X1001A1001A450...|                                     A32|    {2021-01-01T12:00...| A73|\n",
      "|urn:iec62325.351:...|{{{{27W-GU-EDETG3...|2022-12-27T13:03:46Z|c660d289cfdd4089a...|                A16|           {10X1001A1001A450...|                                       A33|             1|         {10X1001A1001A450...|                                     A32|    {2021-01-01T12:00...| A73|\n",
      "|urn:iec62325.351:...|{{{{27W-GU-EDETG4...|2022-12-27T13:03:46Z|c660d289cfdd4089a...|                A16|           {10X1001A1001A450...|                                       A33|             1|         {10X1001A1001A450...|                                     A32|    {2021-01-01T12:00...| A73|\n",
      "|urn:iec62325.351:...|{{{{27W-GU-EDSTG1...|2022-12-27T13:03:46Z|c660d289cfdd4089a...|                A16|           {10X1001A1001A450...|                                       A33|             1|         {10X1001A1001A450...|                                     A32|    {2021-01-01T12:00...| A73|\n",
      "|urn:iec62325.351:...|{{{{27W-GU-EDSTG2...|2022-12-27T13:03:46Z|c660d289cfdd4089a...|                A16|           {10X1001A1001A450...|                                       A33|             1|         {10X1001A1001A450...|                                     A32|    {2021-01-01T12:00...| A73|\n",
      "|urn:iec62325.351:...|{{{{27W-GU-EDUKB1...|2022-12-27T13:03:46Z|c660d289cfdd4089a...|                A16|           {10X1001A1001A450...|                                       A33|             1|         {10X1001A1001A450...|                                     A32|    {2021-01-01T12:00...| A73|\n",
      "|urn:iec62325.351:...|{{{{27W-GU-EDUKB2...|2022-12-27T13:03:46Z|c660d289cfdd4089a...|                A16|           {10X1001A1001A450...|                                       A33|             1|         {10X1001A1001A450...|                                     A32|    {2021-01-01T12:00...| A73|\n",
      "|urn:iec62325.351:...|{{{{27W-GU-EDUKB3...|2022-12-27T13:03:46Z|c660d289cfdd4089a...|                A16|           {10X1001A1001A450...|                                       A33|             1|         {10X1001A1001A450...|                                     A32|    {2021-01-01T12:00...| A73|\n",
      "|urn:iec62325.351:...|{{{{27W-GU-EDUKB4...|2022-12-27T13:03:46Z|c660d289cfdd4089a...|                A16|           {10X1001A1001A450...|                                       A33|             1|         {10X1001A1001A450...|                                     A32|    {2021-01-01T12:00...| A73|\n",
      "|urn:iec62325.351:...|{{{{27W-GU-EECKG4...|2022-12-27T13:03:46Z|c660d289cfdd4089a...|                A16|           {10X1001A1001A450...|                                       A33|             1|         {10X1001A1001A450...|                                     A32|    {2021-01-01T12:00...| A73|\n",
      "|urn:iec62325.351:...|{{{{27W-GU-EECKG5...|2022-12-27T13:03:46Z|c660d289cfdd4089a...|                A16|           {10X1001A1001A450...|                                       A33|             1|         {10X1001A1001A450...|                                     A32|    {2021-01-01T12:00...| A73|\n",
      "|urn:iec62325.351:...|{{{{27WGU-EECKG7-...|2022-12-27T13:03:46Z|c660d289cfdd4089a...|                A16|           {10X1001A1001A450...|                                       A33|             1|         {10X1001A1001A450...|                                     A32|    {2021-01-01T12:00...| A73|\n",
      "|urn:iec62325.351:...|{{{{27W-GU-ELEDG6...|2022-12-27T13:03:46Z|c660d289cfdd4089a...|                A16|           {10X1001A1001A450...|                                       A33|             1|         {10X1001A1001A450...|                                     A32|    {2021-01-01T12:00...| A73|\n",
      "|urn:iec62325.351:...|{{{{27W-GU-EPC1G2...|2022-12-27T13:03:46Z|c660d289cfdd4089a...|                A16|           {10X1001A1001A450...|                                       A33|             1|         {10X1001A1001A450...|                                     A32|    {2021-01-01T12:00...| A73|\n",
      "|urn:iec62325.351:...|{{{{27W-GU-EPC1G3...|2022-12-27T13:03:46Z|c660d289cfdd4089a...|                A16|           {10X1001A1001A450...|                                       A33|             1|         {10X1001A1001A450...|                                     A32|    {2021-01-01T12:00...| A73|\n",
      "|urn:iec62325.351:...|{{{{27W-GU-EPC1G4...|2022-12-27T13:03:46Z|c660d289cfdd4089a...|                A16|           {10X1001A1001A450...|                                       A33|             1|         {10X1001A1001A450...|                                     A32|    {2021-01-01T12:00...| A73|\n",
      "|urn:iec62325.351:...|{{{{27W-GU-EPC1G5...|2022-12-27T13:03:46Z|c660d289cfdd4089a...|                A16|           {10X1001A1001A450...|                                       A33|             1|         {10X1001A1001A450...|                                     A32|    {2021-01-01T12:00...| A73|\n",
      "|urn:iec62325.351:...|{{{{27W-GU-EPC1G6...|2022-12-27T13:03:46Z|c660d289cfdd4089a...|                A16|           {10X1001A1001A450...|                                       A33|             1|         {10X1001A1001A450...|                                     A32|    {2021-01-01T12:00...| A73|\n",
      "|urn:iec62325.351:...|{{{{27W-GU-EPC2B2...|2022-12-27T13:03:46Z|c660d289cfdd4089a...|                A16|           {10X1001A1001A450...|                                       A33|             1|         {10X1001A1001A450...|                                     A32|    {2021-01-01T12:00...| A73|\n",
      "|urn:iec62325.351:...|{{{{27W-GU-EPR2G2...|2022-12-27T13:03:46Z|c660d289cfdd4089a...|                A16|           {10X1001A1001A450...|                                       A33|             1|         {10X1001A1001A450...|                                     A32|    {2021-01-01T12:00...| A73|\n",
      "|urn:iec62325.351:...|{{{{27W-GU-EPR2G2...|2022-12-27T13:03:46Z|c660d289cfdd4089a...|                A16|           {10X1001A1001A450...|                                       A33|             1|         {10X1001A1001A450...|                                     A32|    {2021-01-01T12:00...| A73|\n",
      "|urn:iec62325.351:...|{{{{27W-GU-EPR2G2...|2022-12-27T13:03:46Z|c660d289cfdd4089a...|                A16|           {10X1001A1001A450...|                                       A33|             1|         {10X1001A1001A450...|                                     A32|    {2021-01-01T12:00...| A73|\n",
      "|urn:iec62325.351:...|{{{{27W-GU-EPVR-B...|2022-12-27T13:03:46Z|c660d289cfdd4089a...|                A16|           {10X1001A1001A450...|                                       A33|             1|         {10X1001A1001A450...|                                     A32|    {2021-01-01T12:00...| A73|\n",
      "|urn:iec62325.351:...|{{{{27W-GU-EPVR-B...|2022-12-27T13:03:46Z|c660d289cfdd4089a...|                A16|           {10X1001A1001A450...|                                       A33|             1|         {10X1001A1001A450...|                                     A32|    {2021-01-01T12:00...| A73|\n",
      "|urn:iec62325.351:...|{{{{27W-GU-ETEMG1...|2022-12-27T13:03:46Z|c660d289cfdd4089a...|                A16|           {10X1001A1001A450...|                                       A33|             1|         {10X1001A1001A450...|                                     A32|    {2021-01-01T12:00...| A73|\n",
      "|urn:iec62325.351:...|{{{{27W-GU-ETEMG2...|2022-12-27T13:03:46Z|c660d289cfdd4089a...|                A16|           {10X1001A1001A450...|                                       A33|             1|         {10X1001A1001A450...|                                     A32|    {2021-01-01T12:00...| A73|\n",
      "|urn:iec62325.351:...|{{{{27W-GU-ETI2-G...|2022-12-27T13:03:46Z|c660d289cfdd4089a...|                A16|           {10X1001A1001A450...|                                       A33|             1|         {10X1001A1001A450...|                                     A32|    {2021-01-01T12:00...| A73|\n",
      "|urn:iec62325.351:...|{{{{27W-GU-ETU2G2...|2022-12-27T13:03:46Z|c660d289cfdd4089a...|                A16|           {10X1001A1001A450...|                                       A33|             1|         {10X1001A1001A450...|                                     A32|    {2021-01-01T12:00...| A73|\n",
      "|urn:iec62325.351:...|{{{{27W-GU-ETU2G2...|2022-12-27T13:03:46Z|c660d289cfdd4089a...|                A16|           {10X1001A1001A450...|                                       A33|             1|         {10X1001A1001A450...|                                     A32|    {2021-01-01T12:00...| A73|\n",
      "|urn:iec62325.351:...|{{{{27W-GU-ETU2G2...|2022-12-27T13:03:46Z|c660d289cfdd4089a...|                A16|           {10X1001A1001A450...|                                       A33|             1|         {10X1001A1001A450...|                                     A32|    {2021-01-01T12:00...| A73|\n",
      "|urn:iec62325.351:...|{{{{27W-GU-ETU2G2...|2022-12-27T13:03:46Z|c660d289cfdd4089a...|                A16|           {10X1001A1001A450...|                                       A33|             1|         {10X1001A1001A450...|                                     A32|    {2021-01-01T12:00...| A73|\n",
      "+--------------------+--------------------+--------------------+--------------------+-------------------+-------------------------------+------------------------------------------+--------------+-----------------------------+----------------------------------------+------------------------+----+\n",
      "\n"
     ]
    },
    {
     "data": {
      "text/plain": [
       "[('@xmlns', 'string'),\n",
       " ('TimeSeries',\n",
       "  'struct<MktPSRType:struct<PowerSystemResources:struct<mRID:struct<#text:string,@codingScheme:string>,name:string>,psrType:string>,Period:struct<Point:struct<position:string,quantity:string>,resolution:string,timeInterval:struct<end:string,start:string>>,businessType:string,curveType:string,inBiddingZone_Domain.mRID:struct<#text:string,@codingScheme:string>,mRID:string,objectAggregation:string,quantity_Measure_Unit.name:string,registeredResource.mRID:struct<#text:string,@codingScheme:string>>'),\n",
       " ('createdDateTime', 'string'),\n",
       " ('mRID', 'string'),\n",
       " ('process.processType', 'string'),\n",
       " ('receiver_MarketParticipant.mRID',\n",
       "  'struct<#text:string,@codingScheme:string>'),\n",
       " ('receiver_MarketParticipant.marketRole.type', 'string'),\n",
       " ('revisionNumber', 'string'),\n",
       " ('sender_MarketParticipant.mRID',\n",
       "  'struct<#text:string,@codingScheme:string>'),\n",
       " ('sender_MarketParticipant.marketRole.type', 'string'),\n",
       " ('time_Period.timeInterval', 'struct<end:string,start:string>'),\n",
       " ('type', 'string')]"
      ]
     },
     "execution_count": 171,
     "metadata": {},
     "output_type": "execute_result"
    }
   ],
   "source": [
    "# # abc.show(50,truncate=False)\n",
    "# print(df_spark.dtypes)\n",
    "# array_cols = [c[0] for c in df_spark.dtypes if c[1][:5] == 'array'] \n",
    "# print(array_cols)\n",
    "\n",
    "# for array_col in array_cols:\n",
    "            \n",
    "#     # cols_to_select = [x for x in df.columns if x != array_col ]\n",
    "#     df_spark = df_spark.withColumn(array_col, F.explode(F.col(array_col)))\n",
    "    \n",
    "# df_spark.show(50)\n",
    "# df_spark.dtypes"
   ]
  },
  {
   "cell_type": "code",
   "execution_count": 128,
   "metadata": {},
   "outputs": [],
   "source": [
    "# abc = df_spark.select(\"GL_MarketDocument.*\").select(\"@xmlns\", F.explode(\"TimeSeries\").alias(\"Nilai\"))"
   ]
  },
  {
   "cell_type": "code",
   "execution_count": 105,
   "metadata": {},
   "outputs": [
    {
     "name": "stdout",
     "output_type": "stream",
     "text": [
      "[('@xmlns', 'string'), ('Nilai', 'struct<MktPSRType:struct<PowerSystemResources:struct<mRID:struct<#text:string,@codingScheme:string>,name:string>,psrType:string>,Period:struct<Point:struct<position:string,quantity:string>,resolution:string,timeInterval:struct<end:string,start:string>>,businessType:string,curveType:string,inBiddingZone_Domain.mRID:struct<#text:string,@codingScheme:string>,mRID:string,objectAggregation:string,quantity_Measure_Unit.name:string,registeredResource.mRID:struct<#text:string,@codingScheme:string>>')]\n",
      "+--------------------+--------------------+\n",
      "|              @xmlns|               Nilai|\n",
      "+--------------------+--------------------+\n",
      "|urn:iec62325.351:...|{{{{27W-GU-ECHVG1...|\n",
      "|urn:iec62325.351:...|{{{{27W-GU-ECHVG2...|\n",
      "|urn:iec62325.351:...|{{{{27W-GU-ECHVG3...|\n",
      "|urn:iec62325.351:...|{{{{27W-GU-ECHVG4...|\n",
      "|urn:iec62325.351:...|{{{{27W-GU-EDALG1...|\n",
      "|urn:iec62325.351:...|{{{{27W-GU-EDALG2...|\n",
      "|urn:iec62325.351:...|{{{{27W-GU-EDALG3...|\n",
      "|urn:iec62325.351:...|{{{{27W-GU-EDALG4...|\n",
      "|urn:iec62325.351:...|{{{{27W-GU-EDETG2...|\n",
      "|urn:iec62325.351:...|{{{{27W-GU-EDETG3...|\n",
      "|urn:iec62325.351:...|{{{{27W-GU-EDETG4...|\n",
      "|urn:iec62325.351:...|{{{{27W-GU-EDSTG1...|\n",
      "|urn:iec62325.351:...|{{{{27W-GU-EDSTG2...|\n",
      "|urn:iec62325.351:...|{{{{27W-GU-EDUKB1...|\n",
      "|urn:iec62325.351:...|{{{{27W-GU-EDUKB2...|\n",
      "|urn:iec62325.351:...|{{{{27W-GU-EDUKB3...|\n",
      "|urn:iec62325.351:...|{{{{27W-GU-EDUKB4...|\n",
      "|urn:iec62325.351:...|{{{{27W-GU-EECKG4...|\n",
      "|urn:iec62325.351:...|{{{{27W-GU-EECKG5...|\n",
      "|urn:iec62325.351:...|{{{{27WGU-EECKG7-...|\n",
      "|urn:iec62325.351:...|{{{{27W-GU-ELEDG6...|\n",
      "|urn:iec62325.351:...|{{{{27W-GU-EPC1G2...|\n",
      "|urn:iec62325.351:...|{{{{27W-GU-EPC1G3...|\n",
      "|urn:iec62325.351:...|{{{{27W-GU-EPC1G4...|\n",
      "|urn:iec62325.351:...|{{{{27W-GU-EPC1G5...|\n",
      "|urn:iec62325.351:...|{{{{27W-GU-EPC1G6...|\n",
      "|urn:iec62325.351:...|{{{{27W-GU-EPC2B2...|\n",
      "|urn:iec62325.351:...|{{{{27W-GU-EPR2G2...|\n",
      "|urn:iec62325.351:...|{{{{27W-GU-EPR2G2...|\n",
      "|urn:iec62325.351:...|{{{{27W-GU-EPR2G2...|\n",
      "|urn:iec62325.351:...|{{{{27W-GU-EPVR-B...|\n",
      "|urn:iec62325.351:...|{{{{27W-GU-EPVR-B...|\n",
      "|urn:iec62325.351:...|{{{{27W-GU-ETEMG1...|\n",
      "|urn:iec62325.351:...|{{{{27W-GU-ETEMG2...|\n",
      "|urn:iec62325.351:...|{{{{27W-GU-ETI2-G...|\n",
      "|urn:iec62325.351:...|{{{{27W-GU-ETU2G2...|\n",
      "|urn:iec62325.351:...|{{{{27W-GU-ETU2G2...|\n",
      "|urn:iec62325.351:...|{{{{27W-GU-ETU2G2...|\n",
      "|urn:iec62325.351:...|{{{{27W-GU-ETU2G2...|\n",
      "+--------------------+--------------------+\n",
      "\n",
      "root\n",
      " |-- @xmlns: string (nullable = true)\n",
      " |-- Nilai: struct (nullable = true)\n",
      " |    |-- MktPSRType: struct (nullable = true)\n",
      " |    |    |-- PowerSystemResources: struct (nullable = true)\n",
      " |    |    |    |-- mRID: struct (nullable = true)\n",
      " |    |    |    |    |-- #text: string (nullable = true)\n",
      " |    |    |    |    |-- @codingScheme: string (nullable = true)\n",
      " |    |    |    |-- name: string (nullable = true)\n",
      " |    |    |-- psrType: string (nullable = true)\n",
      " |    |-- Period: struct (nullable = true)\n",
      " |    |    |-- Point: struct (nullable = true)\n",
      " |    |    |    |-- position: string (nullable = true)\n",
      " |    |    |    |-- quantity: string (nullable = true)\n",
      " |    |    |-- resolution: string (nullable = true)\n",
      " |    |    |-- timeInterval: struct (nullable = true)\n",
      " |    |    |    |-- end: string (nullable = true)\n",
      " |    |    |    |-- start: string (nullable = true)\n",
      " |    |-- businessType: string (nullable = true)\n",
      " |    |-- curveType: string (nullable = true)\n",
      " |    |-- inBiddingZone_Domain.mRID: struct (nullable = true)\n",
      " |    |    |-- #text: string (nullable = true)\n",
      " |    |    |-- @codingScheme: string (nullable = true)\n",
      " |    |-- mRID: string (nullable = true)\n",
      " |    |-- objectAggregation: string (nullable = true)\n",
      " |    |-- quantity_Measure_Unit.name: string (nullable = true)\n",
      " |    |-- registeredResource.mRID: struct (nullable = true)\n",
      " |    |    |-- #text: string (nullable = true)\n",
      " |    |    |-- @codingScheme: string (nullable = true)\n",
      "\n"
     ]
    }
   ],
   "source": [
    "# print(abc.dtypes)\n",
    "# abc.show(50)\n",
    "# abc.printSchema()"
   ]
  },
  {
   "cell_type": "code",
   "execution_count": null,
   "metadata": {},
   "outputs": [],
   "source": [
    "# #inferring schema and get the data type of each column and turn it into spark dataframe\n",
    "# datatype_infer = pd.DataFrame.from_dict(xml_file_dict[0], orient='index')"
   ]
  },
  {
   "cell_type": "code",
   "execution_count": null,
   "metadata": {},
   "outputs": [],
   "source": [
    "#  df_spark.schema.prettyJson()"
   ]
  },
  {
   "cell_type": "code",
   "execution_count": null,
   "metadata": {},
   "outputs": [],
   "source": [
    "# #flatten nested df at every layer\n",
    "# from pyspark.sql.types import *\n",
    "# from pyspark.sql.import functions as f\n",
    "\n",
    "# def flatten_structs(nested_df):\n",
    "#     stack = [(), nested_df]\n",
    "#     columns = []\n",
    "    \n",
    "#     while len(stack) > 0:\n",
    "#         parents\n",
    "        \n",
    "    "
   ]
  }
 ],
 "metadata": {
  "kernelspec": {
   "display_name": "Python 3.10.4 64-bit",
   "language": "python",
   "name": "python3"
  },
  "language_info": {
   "codemirror_mode": {
    "name": "ipython",
    "version": 3
   },
   "file_extension": ".py",
   "mimetype": "text/x-python",
   "name": "python",
   "nbconvert_exporter": "python",
   "pygments_lexer": "ipython3",
   "version": "3.10.4"
  },
  "orig_nbformat": 4,
  "vscode": {
   "interpreter": {
    "hash": "31f2aee4e71d21fbe5cf8b01ff0e069b9275f58929596ceb00d14d90e3e16cd6"
   }
  }
 },
 "nbformat": 4,
 "nbformat_minor": 2
}
