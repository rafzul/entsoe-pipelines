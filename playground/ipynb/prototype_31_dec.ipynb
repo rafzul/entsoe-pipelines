{
 "cells": [
  {
   "cell_type": "code",
   "execution_count": 10,
   "metadata": {},
   "outputs": [],
   "source": [
    "import os \n",
    "from dotenv import load_dotenv\n",
    "import requests\n",
    "from google.oauth2 import service_account\n",
    "import xmltodict\n",
    "import json\n",
    "import pandas as pd \n",
    "from requests import request\n",
    "import pytz\n",
    "from bs4 import BeautifulSoup\n",
    "from typing import Dict\n",
    "from google.oauth2 import service_account\n",
    "from google.cloud import storage\n",
    "\n",
    "import pyspark\n",
    "from pyspark import SparkContext, SparkConf\n",
    "from pyspark.sql import SparkSession\n",
    "import os\n",
    "import sys\n",
    "\n",
    "from pyspark.sql.types import StructType, StructField, ArrayType, FloatType, BooleanType\n",
    "from pyspark.sql.types import DoubleType, IntegerType, StringType, DataType\n",
    "from pyspark.sql import functions as F\n",
    "\n",
    "from entsoe import EntsoeRawClient\n",
    "from entsoe import EntsoePandasClient\n",
    "\n",
    "\n",
    "\n"
   ]
  },
  {
   "cell_type": "code",
   "execution_count": 11,
   "metadata": {},
   "outputs": [
    {
     "data": {
      "text/plain": [
       "True"
      ]
     },
     "execution_count": 11,
     "metadata": {},
     "output_type": "execute_result"
    }
   ],
   "source": [
    "#load env variables\n",
    "load_dotenv('./creds/.env', verbose=True, override=True)"
   ]
  },
  {
   "cell_type": "code",
   "execution_count": 12,
   "metadata": {},
   "outputs": [
    {
     "name": "stdout",
     "output_type": "stream",
     "text": [
      "None\n"
     ]
    }
   ],
   "source": [
    "print(os.environ.get(\"PYSPARK_DRIVER_PYTHON\"))"
   ]
  },
  {
   "cell_type": "code",
   "execution_count": 13,
   "metadata": {},
   "outputs": [
    {
     "name": "stdout",
     "output_type": "stream",
     "text": [
      "entsoe_analytics_1009\n"
     ]
    }
   ],
   "source": [
    "\n",
    "\n",
    "'''\n",
    "----------------\n",
    "INIT VARIABLES\n",
    "----------------\n",
    "'''\n",
    "\n",
    "#setting up entsoe variables\n",
    "security_token = os.environ.get(\"SECURITY_TOKEN\")\n",
    "ENTSOE_URL = 'https://transparency.entsoe.eu/api'\n",
    "\n",
    "#setting up GCP variables\n",
    "service_account_file = os.environ.get(\"SERVICE_ACCOUNT_FILE\")\n",
    "credentials = service_account.Credentials.from_service_account_file(\n",
    "    service_account_file\n",
    ")\n",
    "gcs_bucket = os.environ.get(\"CLOUD_STORAGE_BUCKET\")\n",
    "print(gcs_bucket)"
   ]
  },
  {
   "cell_type": "code",
   "execution_count": 6,
   "metadata": {},
   "outputs": [],
   "source": [
    "\n",
    "\n",
    "\n",
    "# #setting up session\n",
    "# entsoe_session = requests.Session()\n",
    "\n",
    "# '''\n",
    "# ----------------\n",
    "# SETTING UP FUNCTION CALLS \n",
    "# ----------------\n",
    "# '''\n",
    "\n",
    "# #format dates\n",
    "# def datetime_to_str(dtm: pd.Timestamp) -> str:\n",
    "#     #convert timezone to UTC if it's exist and it's not on UTC already\n",
    "#     if dtm.tzinfo is not None and dtm.tzinfo != pytz.UTC:\n",
    "#         dtm = dtm.tz_convert(\"UTC\")\n",
    "#     fmt = '%Y%m%d%H%M'\n",
    "#     dtm_str = dtm.strftime(fmt)\n",
    "#     return dtm_str\n",
    "\n",
    "# #basic requests\n",
    "# def basic_requests(params: Dict, start:pd.Timestamp, end: pd.Timestamp) -> requests.Response:\n",
    "#     #setting up time intervals start and stop\n",
    "#     start_str = datetime_to_str(start)\n",
    "#     end_str = datetime_to_str(end)\n",
    "\n",
    "#     #setting up params and extending with custom parameter based\n",
    "#     base_params = {\n",
    "#         'securityToken': security_token,\n",
    "#         'periodStart': start_str,\n",
    "#         'periodEnd': end_str,\n",
    "#     }\n",
    "#     params.update(base_params)\n",
    "    \n",
    "#     #seting up sesssion\n",
    "#     session = requests.Session()\n",
    "#     response = session.get(url=ENTSOE_URL, params=params)\n",
    "\n",
    "#     return response\n",
    "\n",
    "# # upload data to GCS\n",
    "# def upload_blob_to_gcs(bucket_name, contents, destination_blob_name):\n",
    "#     # Upload file to bucket\"\"\"\n",
    "\n",
    "#     # ID of GCS bucket\n",
    "#     # bucket_name =\n",
    "\n",
    "#     # the contents from memory to be uploaded to file\n",
    "#     # contents =\n",
    "\n",
    "#     # the ID of your GCS object\n",
    "#     # destination_blob_name =\n",
    "\n",
    "#     storage_client = storage.Client(credentials=credentials)\n",
    "#     bucket = storage_client.bucket(bucket_name)\n",
    "#     blob = bucket.blob(destination_blob_name)\n",
    "\n",
    "#     blob.upload_from_string(contents)\n",
    "\n",
    "\n",
    "# '''\n",
    "# ----------------\n",
    "# EXTRACTION\n",
    "# ----------------\n",
    "# '''\n",
    "# #for test, we'll be querying Actual Generation Output per Generation Unit\n",
    "\n",
    "# domain = '10YCZ-CEPS-----N'\n",
    "# params_requests = {\n",
    "#     'documentType': 'A73',\n",
    "#     'processType': 'A16',\n",
    "#     'in_Domain': {domain},\n",
    "# }\n",
    "# start=pd.Timestamp('202101011200', tz='Europe/Berlin')\n",
    "# end=pd.Timestamp('202101011300', tz='Europe/Berlin')\n",
    "\n",
    "# entsoe_data = basic_requests(params=params_requests, start=start, end=end)\n",
    "# # entsoe_dict = xmltodict.parse(entsoe_data.text)\n",
    "# # entsoe_json = json.dumps(entsoe_dict, indent=4)\n",
    "# # print(entsoe_json)\n",
    "# print(entsoe_data.text)\n",
    "\n",
    "# '''\n",
    "# ----------------\n",
    "# LOAD\n",
    "# ----------------\n",
    "# '''\n",
    "# # #upload to GCS\n",
    "# # landing_filename=f\"entsoe_data_{start}.json\"\n",
    "# # upload_blob_to_gcs(bucket_name=gcs_bucket, contents=entsoe_json, destination_blob_name=landing_filename)\n",
    "\n",
    "# #upload to GCS - XML\n",
    "# landing_filename=f\"entsoe_data_{start}_{domain}.xml\"\n",
    "# upload_blob_to_gcs(bucket_name=gcs_bucket, contents=entsoe_data.text, destination_blob_name=landing_filename)\n",
    "\n"
   ]
  },
  {
   "cell_type": "code",
   "execution_count": 14,
   "metadata": {},
   "outputs": [],
   "source": [
    "\n",
    "\n",
    "\n",
    "#setting up session\n",
    "entsoe_client = EntsoeRawClient(security_token)\n",
    "'''\n",
    "----------------\n",
    "SETTING UP FUNCTION CALLS \n",
    "----------------\n",
    "'''\n",
    "\n",
    "# upload data to GCS\n",
    "def upload_blob_to_gcs(bucket_name, contents, destination_blob_name):\n",
    "    # Upload file to bucket\"\"\"\n",
    "\n",
    "    # ID of GCS bucket\n",
    "    # bucket_name =\n",
    "\n",
    "    # the contents from memory to be uploaded to file\n",
    "    # contents =\n",
    "\n",
    "    # the ID of your GCS object\n",
    "    # destination_blob_name =\n",
    "\n",
    "    storage_client = storage.Client(credentials=credentials)\n",
    "    bucket = storage_client.bucket(bucket_name)\n",
    "    blob = bucket.blob(destination_blob_name)\n",
    "\n",
    "    blob.upload_from_string(contents)\n",
    "\n",
    "\n",
    "'''\n",
    "----------------\n",
    "EXTRACTION\n",
    "----------------\n",
    "'''\n",
    "#for test, we'll be querying Actual Generation Output per Generation Unit\n",
    "\n",
    "start=pd.Timestamp('202101011200', tz='Europe/Berlin')\n",
    "end=pd.Timestamp('202101011300', tz='Europe/Berlin')\n",
    "country_code= 'DE_TENNET'\n",
    "country_code_from=''\n",
    "country_code_to=''\n",
    "type_marketagreement_type=''\n",
    "contract_marketagreement_type=''\n",
    "\n",
    "start2=pd.Timestamp('20210101', tz='Europe/Berlin')\n",
    "end2=pd.Timestamp('20211231', tz='Europe/Berlin')\n",
    "\n",
    "pd.set_option('display.max_rows', None)\n",
    "\n",
    "try:\n",
    "    entsoe_data = entsoe_client.query_generation(country_code, start=start, end=end)\n",
    "    # entsoe_data3 = entsoe_client.query_load(country_code, start=start, end=end)\n",
    "    # entsoe_data4 = entsoe_client.query_day_ahead_prices(country_code, start=start, end=end)\n",
    "    # entsoe_data5 = entsoe_client.query_installed_generation_capacity(country_code, start=start2, end=end2)\n",
    "    # entsoe_data6 = entsoe_client.query_installed_generation_capacity_per_unit(country_code, start=start2, end=end2)\n",
    "    # display(entsoe_data2)\n",
    "    # display(entsoe_data3)\n",
    "    entsoe_dict = xmltodict.parse(entsoe_data)\n",
    "    entsoe_json = json.dumps(entsoe_dict, indent=4, ensure_ascii=False)\n",
    "except Exception as e:\n",
    "    print(\"An exception occurred:\", e)\n",
    "\n",
    "\n",
    "'''\n",
    "----------------\n",
    "LOAD\n",
    "----------------\n",
    "'''\n",
    "#upload to GCS\n",
    "landing_filename=f\"entsoe_data_{country_code}.json\"\n",
    "upload_blob_to_gcs(bucket_name=gcs_bucket, contents=entsoe_json, destination_blob_name=landing_filename)\n",
    "\n"
   ]
  },
  {
   "cell_type": "code",
   "execution_count": 15,
   "metadata": {},
   "outputs": [
    {
     "name": "stdout",
     "output_type": "stream",
     "text": [
      "22/12/31 07:08:25 WARN Utils: Your hostname, pop-os resolves to a loopback address: 127.0.1.1; using 192.168.18.2 instead (on interface wlp58s0)\n",
      "22/12/31 07:08:25 WARN Utils: Set SPARK_LOCAL_IP if you need to bind to another address\n",
      "22/12/31 07:08:26 WARN NativeCodeLoader: Unable to load native-hadoop library for your platform... using builtin-java classes where applicable\n"
     ]
    },
    {
     "name": "stderr",
     "output_type": "stream",
     "text": [
      "Setting default log level to \"WARN\".\n",
      "To adjust logging level use sc.setLogLevel(newLevel). For SparkR, use setLogLevel(newLevel).\n"
     ]
    }
   ],
   "source": [
    "## COBA SPARK GCS CONNECTOR ##\n",
    "\n",
    "\n",
    "# berangkat pak haji\n",
    "# setup parameternya\n",
    "gcs_bucket = gcs_bucket\n",
    "path = f\"gs://{gcs_bucket}/{landing_filename}\"\n",
    "# path =\"/home/rafzul/projects/entsoe-pipelines/sample.xml\"\n",
    "\n",
    "#coba spark gcs connector\n",
    "#setup sparksession for entry point - COBA GCS CONNECTOR\n",
    "SPARK_HOME = os.environ[\"SPARK_HOME\"]\n",
    "spark = SparkSession.builder.appName(\"gcp_playground\") \\\n",
    "    .config(\"spark.jars\", f\"{SPARK_HOME}/jars/gcs-connector-hadoop3-latest.jar, {SPARK_HOME}/jars/spark-bigquery-with-dependencies_2.13-0.27.1.jar\") \\\n",
    "    .config(\"spark.hadoop.fs.AbstractFileSystem.gs.impl\", \"google.cloud.hadoop.fs.gcs.GoogleHadoopFS\") \\\n",
    "    .config(\"spark.hadoop.google.cloud.auth.service.account.enable\", \"true\") \\\n",
    "    .config(\"spark.hadoop.google.cloud.auth.service.account.json.keyfile\", service_account_file) \\\n",
    "    .getOrCreate()\n",
    "\n"
   ]
  },
  {
   "cell_type": "code",
   "execution_count": 8,
   "metadata": {},
   "outputs": [
    {
     "name": "stdout",
     "output_type": "stream",
     "text": [
      "google.cloud.hadoop.fs.gcs.GoogleHadoopFS\n"
     ]
    }
   ],
   "source": [
    "print(spark.conf.get(\"spark.hadoop.fs.AbstractFileSystem.gs.impl\"))"
   ]
  },
  {
   "cell_type": "code",
   "execution_count": 259,
   "metadata": {},
   "outputs": [
    {
     "name": "stdout",
     "output_type": "stream",
     "text": [
      "gs://entsoe_analytics_1009/entsoe_data_DE_TENNET.json\n"
     ]
    }
   ],
   "source": [
    "# path = f\"gs://{gcs_bucket}/{landing_filename}\"\n",
    "# print(path)\n",
    "\n",
    "# #create dataframe from gcs\n",
    "# df_spark = spark.read.format(\"json\") \\\n",
    "#    .option(\"header\",\"true\") \\\n",
    "#    .option(\"multiLine\",\"true\") \\\n",
    "#    .option(\"inferSchema\",\"true\") \\\n",
    "#    .load(path) \\\n",
    "   "
   ]
  },
  {
   "cell_type": "code",
   "execution_count": 51,
   "metadata": {},
   "outputs": [],
   "source": []
  },
  {
   "cell_type": "code",
   "execution_count": 10,
   "metadata": {},
   "outputs": [
    {
     "name": "stdout",
     "output_type": "stream",
     "text": [
      "<class 'pyspark.sql.dataframe.DataFrame'>\n",
      "root\n",
      " |-- @xmlns: string (nullable = true)\n",
      " |-- TimeSeries: array (nullable = true)\n",
      " |    |-- element: struct (containsNull = true)\n",
      " |    |    |-- MktPSRType: struct (nullable = true)\n",
      " |    |    |    |-- psrType: string (nullable = true)\n",
      " |    |    |-- Period: struct (nullable = true)\n",
      " |    |    |    |-- Point: array (nullable = true)\n",
      " |    |    |    |    |-- element: struct (containsNull = true)\n",
      " |    |    |    |    |    |-- position: string (nullable = true)\n",
      " |    |    |    |    |    |-- quantity: string (nullable = true)\n",
      " |    |    |    |-- resolution: string (nullable = true)\n",
      " |    |    |    |-- timeInterval: struct (nullable = true)\n",
      " |    |    |    |    |-- end: string (nullable = true)\n",
      " |    |    |    |    |-- start: string (nullable = true)\n",
      " |    |    |-- businessType: string (nullable = true)\n",
      " |    |    |-- curveType: string (nullable = true)\n",
      " |    |    |-- inBiddingZone_Domain.mRID: struct (nullable = true)\n",
      " |    |    |    |-- #text: string (nullable = true)\n",
      " |    |    |    |-- @codingScheme: string (nullable = true)\n",
      " |    |    |-- mRID: string (nullable = true)\n",
      " |    |    |-- objectAggregation: string (nullable = true)\n",
      " |    |    |-- outBiddingZone_Domain.mRID: struct (nullable = true)\n",
      " |    |    |    |-- #text: string (nullable = true)\n",
      " |    |    |    |-- @codingScheme: string (nullable = true)\n",
      " |    |    |-- quantity_Measure_Unit.name: string (nullable = true)\n",
      " |-- createdDateTime: string (nullable = true)\n",
      " |-- mRID: string (nullable = true)\n",
      " |-- process.processType: string (nullable = true)\n",
      " |-- receiver_MarketParticipant.mRID: struct (nullable = true)\n",
      " |    |-- #text: string (nullable = true)\n",
      " |    |-- @codingScheme: string (nullable = true)\n",
      " |-- receiver_MarketParticipant.marketRole.type: string (nullable = true)\n",
      " |-- revisionNumber: string (nullable = true)\n",
      " |-- sender_MarketParticipant.mRID: struct (nullable = true)\n",
      " |    |-- #text: string (nullable = true)\n",
      " |    |-- @codingScheme: string (nullable = true)\n",
      " |-- sender_MarketParticipant.marketRole.type: string (nullable = true)\n",
      " |-- time_Period.timeInterval: struct (nullable = true)\n",
      " |    |-- end: string (nullable = true)\n",
      " |    |-- start: string (nullable = true)\n",
      " |-- type: string (nullable = true)\n",
      "\n",
      "+--------------------+--------------------+--------------------+--------------------+-------------------+-------------------------------+------------------------------------------+--------------+-----------------------------+----------------------------------------+------------------------+----+\n",
      "|              @xmlns|          TimeSeries|     createdDateTime|                mRID|process.processType|receiver_MarketParticipant.mRID|receiver_MarketParticipant.marketRole.type|revisionNumber|sender_MarketParticipant.mRID|sender_MarketParticipant.marketRole.type|time_Period.timeInterval|type|\n",
      "+--------------------+--------------------+--------------------+--------------------+-------------------+-------------------------------+------------------------------------------+--------------+-----------------------------+----------------------------------------+------------------------+----+\n",
      "|urn:iec62325.351:...|[{{B01}, {[{1, 22...|2022-12-30T03:09:58Z|a7ba9b3697d740da8...|                A16|           {10X1001A1001A450...|                                       A33|             1|         {10X1001A1001A450...|                                     A32|    {2021-01-01T12:00...| A75|\n",
      "+--------------------+--------------------+--------------------+--------------------+-------------------+-------------------------------+------------------------------------------+--------------+-----------------------------+----------------------------------------+------------------------+----+\n",
      "\n"
     ]
    },
    {
     "name": "stderr",
     "output_type": "stream",
     "text": [
      "                                                                                \r"
     ]
    }
   ],
   "source": [
    "# print(type(df_spark))\n",
    "# df_spark.printSchema()\n",
    "# df_spark.show()"
   ]
  },
  {
   "cell_type": "code",
   "execution_count": 52,
   "metadata": {},
   "outputs": [],
   "source": [
    "#create schema to be enforced in subsequent json load operation\n",
    "with open(\"schema_raw.json\", \"w\") as schrawjson:\n",
    "    schrawjson.write(df_spark.schema.json())"
   ]
  },
  {
   "cell_type": "code",
   "execution_count": 16,
   "metadata": {},
   "outputs": [
    {
     "name": "stdout",
     "output_type": "stream",
     "text": [
      "StructType([StructField('GL_MarketDocument', StructType([StructField('@xmlns', StringType(), True), StructField('mRID', StringType(), True), StructField('revisionNumber', StringType(), True), StructField('type', StringType(), True), StructField('process.processType', StringType(), True), StructField('sender_MarketParticipant.mRID', StructType([StructField('#text', StringType(), True), StructField('@codingScheme', StringType(), True)]), True), StructField('sender_MarketParticipant.marketRole.type', StringType(), True), StructField('receiver_MarketParticipant.mRID', StructType([StructField('#text', StringType(), True), StructField('@codingScheme', StringType(), True)]), True), StructField('receiver_MarketParticipant.marketRole.type', StringType(), True), StructField('createdDateTime', StringType(), True), StructField('time_Period.timeInterval', StructType([StructField('end', StringType(), True), StructField('start', StringType(), True)]), True), StructField('TimeSeries', ArrayType(StructType([StructField('MktPSRType', StructType([StructField('psrType', StringType(), True)]), True), StructField('Period', StructType([StructField('Point', ArrayType(StructType([StructField('position', StringType(), True), StructField('quantity', StringType(), True)]), True), True), StructField('resolution', StringType(), True), StructField('timeInterval', StructType([StructField('end', StringType(), True), StructField('start', StringType(), True)]), True)]), True), StructField('businessType', StringType(), True), StructField('curveType', StringType(), True), StructField('inBiddingZone_Domain.mRID', StructType([StructField('#text', StringType(), True), StructField('@codingScheme', StringType(), True)]), True), StructField('mRID', StringType(), True), StructField('objectAggregation', StringType(), True), StructField('outBiddingZone_Domain.mRID', StructType([StructField('#text', StringType(), True), StructField('@codingScheme', StringType(), True)]), True), StructField('quantity_Measure_Unit.name', StringType(), True)]), True), True)]), True)])\n"
     ]
    }
   ],
   "source": [
    "with open(\"schema_raw2.json\", \"r\") as schrawjson:\n",
    "    json_schema_data = schrawjson.read()\n",
    "    json_enforced_schema = StructType.fromJson(json.loads(json_schema_data))\n",
    "    \n",
    "\n",
    "print(json_enforced_schema)"
   ]
  },
  {
   "cell_type": "code",
   "execution_count": 155,
   "metadata": {},
   "outputs": [
    {
     "name": "stdout",
     "output_type": "stream",
     "text": [
      "gs://entsoe_analytics_1009/entsoe_data_DE_TENNET.json\n"
     ]
    }
   ],
   "source": [
    "#create dataframe from gcs\n",
    "path = f\"gs://{gcs_bucket}/{landing_filename}\"\n",
    "print(path)\n",
    "df_spark2 = spark.read.format(\"json\").schema(json_enforced_schema) \\\n",
    "   .option(\"header\",\"true\") \\\n",
    "   .option(\"multiLine\",\"true\") \\\n",
    "   .load(path) \\\n",
    "   .select(\"GL_MarketDocument.*\")\n",
    "   "
   ]
  },
  {
   "cell_type": "code",
   "execution_count": 191,
   "metadata": {},
   "outputs": [
    {
     "name": "stdout",
     "output_type": "stream",
     "text": [
      "<class 'pyspark.sql.dataframe.DataFrame'>\n",
      "root\n",
      " |-- @xmlns: string (nullable = true)\n",
      " |-- mRID: string (nullable = true)\n",
      " |-- revisionNumber: string (nullable = true)\n",
      " |-- type: string (nullable = true)\n",
      " |-- process.processType: string (nullable = true)\n",
      " |-- sender_MarketParticipant.mRID: struct (nullable = true)\n",
      " |    |-- #text: string (nullable = true)\n",
      " |    |-- @codingScheme: string (nullable = true)\n",
      " |-- sender_MarketParticipant.marketRole.type: string (nullable = true)\n",
      " |-- receiver_MarketParticipant.mRID: struct (nullable = true)\n",
      " |    |-- #text: string (nullable = true)\n",
      " |    |-- @codingScheme: string (nullable = true)\n",
      " |-- receiver_MarketParticipant.marketRole.type: string (nullable = true)\n",
      " |-- createdDateTime: string (nullable = true)\n",
      " |-- time_Period.timeInterval: struct (nullable = true)\n",
      " |    |-- end: string (nullable = true)\n",
      " |    |-- start: string (nullable = true)\n",
      " |-- TimeSeries: array (nullable = true)\n",
      " |    |-- element: struct (containsNull = true)\n",
      " |    |    |-- MktPSRType: struct (nullable = true)\n",
      " |    |    |    |-- psrType: string (nullable = true)\n",
      " |    |    |-- Period: struct (nullable = true)\n",
      " |    |    |    |-- Point: array (nullable = true)\n",
      " |    |    |    |    |-- element: struct (containsNull = true)\n",
      " |    |    |    |    |    |-- position: string (nullable = true)\n",
      " |    |    |    |    |    |-- quantity: string (nullable = true)\n",
      " |    |    |    |-- resolution: string (nullable = true)\n",
      " |    |    |    |-- timeInterval: struct (nullable = true)\n",
      " |    |    |    |    |-- end: string (nullable = true)\n",
      " |    |    |    |    |-- start: string (nullable = true)\n",
      " |    |    |-- businessType: string (nullable = true)\n",
      " |    |    |-- curveType: string (nullable = true)\n",
      " |    |    |-- inBiddingZone_Domain.mRID: struct (nullable = true)\n",
      " |    |    |    |-- #text: string (nullable = true)\n",
      " |    |    |    |-- @codingScheme: string (nullable = true)\n",
      " |    |    |-- mRID: string (nullable = true)\n",
      " |    |    |-- objectAggregation: string (nullable = true)\n",
      " |    |    |-- outBiddingZone_Domain.mRID: struct (nullable = true)\n",
      " |    |    |    |-- #text: string (nullable = true)\n",
      " |    |    |    |-- @codingScheme: string (nullable = true)\n",
      " |    |    |-- quantity_Measure_Unit.name: string (nullable = true)\n",
      "\n",
      "+--------------------+--------------------+--------------+----+-------------------+-----------------------------+----------------------------------------+-------------------------------+------------------------------------------+--------------------+------------------------+--------------------+\n",
      "|              @xmlns|                mRID|revisionNumber|type|process.processType|sender_MarketParticipant.mRID|sender_MarketParticipant.marketRole.type|receiver_MarketParticipant.mRID|receiver_MarketParticipant.marketRole.type|     createdDateTime|time_Period.timeInterval|          TimeSeries|\n",
      "+--------------------+--------------------+--------------+----+-------------------+-----------------------------+----------------------------------------+-------------------------------+------------------------------------------+--------------------+------------------------+--------------------+\n",
      "|urn:iec62325.351:...|de07f15f721345f9a...|             1| A75|                A16|         {10X1001A1001A450...|                                     A32|           {10X1001A1001A450...|                                       A33|2022-12-31T00:08:19Z|    {2021-01-01T12:00...|[{{B01}, {[{1, 22...|\n",
      "+--------------------+--------------------+--------------+----+-------------------+-----------------------------+----------------------------------------+-------------------------------+------------------------------------------+--------------------+------------------------+--------------------+\n",
      "\n",
      "+-----------------------------------------------------------------------------------------------------------------------------------------------------------------------------------------------------------------------------------------------------------------------------------------------------------------------------------------------------------------------------------------------------------------------------------------------------------------------------------------------------------------------------------------------------------------------------------------------------------------------------------------------------------------------------------------------------------------------------------------------------------------------------------------------------------------------------------------------------------------------------------------------------------------------------------------------------------------------------------------------------------------------------------------------------------------------------------------------------------------------------------------------------------------------------------------------------------------------------------------------------------------------------------------------------------------------------------------------------------------------------------------------------------------------------------------------------------------------------------------------------------------------------------------------------------------------------------------------------------------------------------------------------------------------------------------------------------------------------------------------------------------------------------------------------------------------------------------------------------------------------------------------------------------------------------------------------------------------------------------------------------------------------------------------------------------------------------------------------------------------------------------------------------------------------------------------------------------------------------------------------------------------------------------------------------------------------------------------------------------------------------------------------------------------------------------------------------------------------------------------------------------------------------------------------------------------------------------------------------------------------------------------------------------------------------------------------------+\n",
      "|TimeSeries                                                                                                                                                                                                                                                                                                                                                                                                                                                                                                                                                                                                                                                                                                                                                                                                                                                                                                                                                                                                                                                                                                                                                                                                                                                                                                                                                                                                                                                                                                                                                                                                                                                                                                                                                                                                                                                                                                                                                                                                                                                                                                                                                                                                                                                                                                                                                                                                                                                                                                                                                                                                                                                                                                 |\n",
      "+-----------------------------------------------------------------------------------------------------------------------------------------------------------------------------------------------------------------------------------------------------------------------------------------------------------------------------------------------------------------------------------------------------------------------------------------------------------------------------------------------------------------------------------------------------------------------------------------------------------------------------------------------------------------------------------------------------------------------------------------------------------------------------------------------------------------------------------------------------------------------------------------------------------------------------------------------------------------------------------------------------------------------------------------------------------------------------------------------------------------------------------------------------------------------------------------------------------------------------------------------------------------------------------------------------------------------------------------------------------------------------------------------------------------------------------------------------------------------------------------------------------------------------------------------------------------------------------------------------------------------------------------------------------------------------------------------------------------------------------------------------------------------------------------------------------------------------------------------------------------------------------------------------------------------------------------------------------------------------------------------------------------------------------------------------------------------------------------------------------------------------------------------------------------------------------------------------------------------------------------------------------------------------------------------------------------------------------------------------------------------------------------------------------------------------------------------------------------------------------------------------------------------------------------------------------------------------------------------------------------------------------------------------------------------------------------------------------+\n",
      "|[{{B01}, {[{1, 2219}, {2, 2215}, {3, 2222}, {4, 2223}], PT15M, {2021-01-01T12:00Z, 2021-01-01T11:00Z}}, A01, A01, {10YDE-EON------1, A01}, 1, A08, null, MAW}, {{B02}, {[{1, 20}, {2, 20}, {3, 20}, {4, 20}], PT15M, {2021-01-01T12:00Z, 2021-01-01T11:00Z}}, A01, A01, {10YDE-EON------1, A01}, 2, A08, null, MAW}, {{B04}, {[{1, 2001}, {2, 2001}, {3, 2001}, {4, 2001}], PT15M, {2021-01-01T12:00Z, 2021-01-01T11:00Z}}, A01, A01, {10YDE-EON------1, A01}, 3, A08, null, MAW}, {{B05}, {[{1, 543}, {2, 543}, {3, 543}, {4, 542}], PT15M, {2021-01-01T12:00Z, 2021-01-01T11:00Z}}, A01, A01, {10YDE-EON------1, A01}, 4, A08, null, MAW}, {{B06}, {[{1, 0}, {2, 0}, {3, 0}, {4, 0}], PT15M, {2021-01-01T12:00Z, 2021-01-01T11:00Z}}, A01, A01, {10YDE-EON------1, A01}, 5, A08, null, MAW}, {{B09}, {[{1, 24}, {2, 24}, {3, 24}, {4, 24}], PT15M, {2021-01-01T12:00Z, 2021-01-01T11:00Z}}, A01, A01, {10YDE-EON------1, A01}, 6, A08, null, MAW}, {{B10}, {[{1, 48}, {2, 83}, {3, 84}, {4, 83}], PT15M, {2021-01-01T12:00Z, 2021-01-01T11:00Z}}, A01, A01, {10YDE-EON------1, A01}, 7, A08, null, MAW}, {{B10}, {[{1, 93}, {2, 0}, {3, 0}, {4, 0}], PT15M, {2021-01-01T12:00Z, 2021-01-01T11:00Z}}, A01, A01, null, 8, A08, {10YDE-EON------1, A01}, MAW}, {{B11}, {[{1, 481}, {2, 480}, {3, 481}, {4, 481}], PT15M, {2021-01-01T12:00Z, 2021-01-01T11:00Z}}, A01, A01, {10YDE-EON------1, A01}, 9, A08, null, MAW}, {{B12}, {[{1, 15}, {2, 13}, {3, 14}, {4, 16}], PT15M, {2021-01-01T12:00Z, 2021-01-01T11:00Z}}, A01, A01, {10YDE-EON------1, A01}, 10, A08, null, MAW}, {{B14}, {[{1, 4170}, {2, 4171}, {3, 4171}, {4, 4172}], PT15M, {2021-01-01T12:00Z, 2021-01-01T11:00Z}}, A01, A01, {10YDE-EON------1, A01}, 11, A08, null, MAW}, {{B20}, {[{1, 20}, {2, 20}, {3, 20}, {4, 20}], PT15M, {2021-01-01T12:00Z, 2021-01-01T11:00Z}}, A01, A01, {10YDE-EON------1, A01}, 12, A08, null, MAW}, {{B15}, {[{1, 10}, {2, 10}, {3, 10}, {4, 10}], PT15M, {2021-01-01T12:00Z, 2021-01-01T11:00Z}}, A01, A01, {10YDE-EON------1, A01}, 13, A08, null, MAW}, {{B16}, {[{1, 2337}, {2, 2403}, {3, 2386}, {4, 2363}], PT15M, {2021-01-01T12:00Z, 2021-01-01T11:00Z}}, A94, A01, {10YDE-EON------1, A01}, 14, A08, null, MAW}, {{B17}, {[{1, 322}, {2, 322}, {3, 322}, {4, 322}], PT15M, {2021-01-01T12:00Z, 2021-01-01T11:00Z}}, A01, A01, {10YDE-EON------1, A01}, 15, A08, null, MAW}, {{B18}, {[{1, 488}, {2, 524}, {3, 586}, {4, 623}], PT15M, {2021-01-01T12:00Z, 2021-01-01T11:00Z}}, A93, A01, {10YDE-EON------1, A01}, 16, A08, null, MAW}, {{B19}, {[{1, 586}, {2, 580}, {3, 577}, {4, 562}], PT15M, {2021-01-01T12:00Z, 2021-01-01T11:00Z}}, A93, A01, {10YDE-EON------1, A01}, 17, A08, null, MAW}]|\n",
      "+-----------------------------------------------------------------------------------------------------------------------------------------------------------------------------------------------------------------------------------------------------------------------------------------------------------------------------------------------------------------------------------------------------------------------------------------------------------------------------------------------------------------------------------------------------------------------------------------------------------------------------------------------------------------------------------------------------------------------------------------------------------------------------------------------------------------------------------------------------------------------------------------------------------------------------------------------------------------------------------------------------------------------------------------------------------------------------------------------------------------------------------------------------------------------------------------------------------------------------------------------------------------------------------------------------------------------------------------------------------------------------------------------------------------------------------------------------------------------------------------------------------------------------------------------------------------------------------------------------------------------------------------------------------------------------------------------------------------------------------------------------------------------------------------------------------------------------------------------------------------------------------------------------------------------------------------------------------------------------------------------------------------------------------------------------------------------------------------------------------------------------------------------------------------------------------------------------------------------------------------------------------------------------------------------------------------------------------------------------------------------------------------------------------------------------------------------------------------------------------------------------------------------------------------------------------------------------------------------------------------------------------------------------------------------------------------------------------+\n",
      "\n"
     ]
    }
   ],
   "source": [
    "print(type(df_spark2))\n",
    "df_spark2.printSchema()\n",
    "df_spark2.show()\n",
    "df_spark2.select(F.col(\"TimeSeries\")).show(truncate=False)"
   ]
  },
  {
   "cell_type": "code",
   "execution_count": 201,
   "metadata": {},
   "outputs": [
    {
     "ename": "TypeError",
     "evalue": "Column is not iterable",
     "output_type": "error",
     "traceback": [
      "\u001b[0;31m---------------------------------------------------------------------------\u001b[0m",
      "\u001b[0;31mTypeError\u001b[0m                                 Traceback (most recent call last)",
      "\u001b[1;32m/home/rafzul/projects/entsoe-pipelines/prototype.ipynb Cell 16\u001b[0m in \u001b[0;36m<cell line: 7>\u001b[0;34m()\u001b[0m\n\u001b[1;32m      <a href='vscode-notebook-cell:/home/rafzul/projects/entsoe-pipelines/prototype.ipynb#X41sZmlsZQ%3D%3D?line=0'>1</a>\u001b[0m \u001b[39m# def change_colname(columns_list):\u001b[39;00m\n\u001b[1;32m      <a href='vscode-notebook-cell:/home/rafzul/projects/entsoe-pipelines/prototype.ipynb#X41sZmlsZQ%3D%3D?line=1'>2</a>\u001b[0m \u001b[39m#    columns_list = [c for c in columns_list]\u001b[39;00m\n\u001b[1;32m      <a href='vscode-notebook-cell:/home/rafzul/projects/entsoe-pipelines/prototype.ipynb#X41sZmlsZQ%3D%3D?line=2'>3</a>\u001b[0m \u001b[39m#    return columns_list]  \u001b[39;00m\n\u001b[1;32m      <a href='vscode-notebook-cell:/home/rafzul/projects/entsoe-pipelines/prototype.ipynb#X41sZmlsZQ%3D%3D?line=3'>4</a>\u001b[0m \u001b[39m# timeseries = df_spark2.select(F.col(\"TimeSeries\"))\u001b[39;00m\n\u001b[1;32m      <a href='vscode-notebook-cell:/home/rafzul/projects/entsoe-pipelines/prototype.ipynb#X41sZmlsZQ%3D%3D?line=4'>5</a>\u001b[0m \u001b[39m# timeseries.show()\u001b[39;00m\n\u001b[0;32m----> <a href='vscode-notebook-cell:/home/rafzul/projects/entsoe-pipelines/prototype.ipynb#X41sZmlsZQ%3D%3D?line=6'>7</a>\u001b[0m df_spark2\u001b[39m.\u001b[39mwithColumn(\u001b[39m\"\u001b[39m\u001b[39mTimeSeries\u001b[39m\u001b[39m\"\u001b[39m, F\u001b[39m.\u001b[39;49mtransform(\u001b[39m\"\u001b[39;49m\u001b[39mTimeSeries\u001b[39;49m\u001b[39m\"\u001b[39;49m, \u001b[39mlambda\u001b[39;49;00m x: F\u001b[39m.\u001b[39;49mstruct(c \u001b[39mfor\u001b[39;49;00m c \u001b[39min\u001b[39;49;00m x\u001b[39m.\u001b[39;49mnames)))\u001b[39m.\u001b[39mshow()\n",
      "File \u001b[0;32m~/.local/lib/python3.10/site-packages/pyspark/sql/functions.py:4785\u001b[0m, in \u001b[0;36mtransform\u001b[0;34m(col, f)\u001b[0m\n\u001b[1;32m   4736\u001b[0m \u001b[39mdef\u001b[39;00m \u001b[39mtransform\u001b[39m(\n\u001b[1;32m   4737\u001b[0m     col: \u001b[39m\"\u001b[39m\u001b[39mColumnOrName\u001b[39m\u001b[39m\"\u001b[39m,\n\u001b[1;32m   4738\u001b[0m     f: Union[Callable[[Column], Column], Callable[[Column, Column], Column]],\n\u001b[1;32m   4739\u001b[0m ) \u001b[39m-\u001b[39m\u001b[39m>\u001b[39m Column:\n\u001b[1;32m   4740\u001b[0m     \u001b[39m\"\"\"\u001b[39;00m\n\u001b[1;32m   4741\u001b[0m \u001b[39m    Returns an array of elements after applying a transformation to each element in the input array.\u001b[39;00m\n\u001b[1;32m   4742\u001b[0m \n\u001b[0;32m   (...)\u001b[0m\n\u001b[1;32m   4783\u001b[0m \u001b[39m    +--------------+\u001b[39;00m\n\u001b[1;32m   4784\u001b[0m \u001b[39m    \"\"\"\u001b[39;00m\n\u001b[0;32m-> 4785\u001b[0m     \u001b[39mreturn\u001b[39;00m _invoke_higher_order_function(\u001b[39m\"\u001b[39;49m\u001b[39mArrayTransform\u001b[39;49m\u001b[39m\"\u001b[39;49m, [col], [f])\n",
      "File \u001b[0;32m~/.local/lib/python3.10/site-packages/pyspark/sql/functions.py:4721\u001b[0m, in \u001b[0;36m_invoke_higher_order_function\u001b[0;34m(name, cols, funs)\u001b[0m\n\u001b[1;32m   4718\u001b[0m expr \u001b[39m=\u001b[39m \u001b[39mgetattr\u001b[39m(expressions, name)\n\u001b[1;32m   4720\u001b[0m jcols \u001b[39m=\u001b[39m [_to_java_column(col)\u001b[39m.\u001b[39mexpr() \u001b[39mfor\u001b[39;00m col \u001b[39min\u001b[39;00m cols]\n\u001b[0;32m-> 4721\u001b[0m jfuns \u001b[39m=\u001b[39m [_create_lambda(f) \u001b[39mfor\u001b[39;00m f \u001b[39min\u001b[39;00m funs]\n\u001b[1;32m   4723\u001b[0m \u001b[39mreturn\u001b[39;00m Column(sc\u001b[39m.\u001b[39m_jvm\u001b[39m.\u001b[39mColumn(expr(\u001b[39m*\u001b[39mjcols \u001b[39m+\u001b[39m jfuns)))\n",
      "File \u001b[0;32m~/.local/lib/python3.10/site-packages/pyspark/sql/functions.py:4721\u001b[0m, in \u001b[0;36m<listcomp>\u001b[0;34m(.0)\u001b[0m\n\u001b[1;32m   4718\u001b[0m expr \u001b[39m=\u001b[39m \u001b[39mgetattr\u001b[39m(expressions, name)\n\u001b[1;32m   4720\u001b[0m jcols \u001b[39m=\u001b[39m [_to_java_column(col)\u001b[39m.\u001b[39mexpr() \u001b[39mfor\u001b[39;00m col \u001b[39min\u001b[39;00m cols]\n\u001b[0;32m-> 4721\u001b[0m jfuns \u001b[39m=\u001b[39m [_create_lambda(f) \u001b[39mfor\u001b[39;00m f \u001b[39min\u001b[39;00m funs]\n\u001b[1;32m   4723\u001b[0m \u001b[39mreturn\u001b[39;00m Column(sc\u001b[39m.\u001b[39m_jvm\u001b[39m.\u001b[39mColumn(expr(\u001b[39m*\u001b[39mjcols \u001b[39m+\u001b[39m jfuns)))\n",
      "File \u001b[0;32m~/.local/lib/python3.10/site-packages/pyspark/sql/functions.py:4688\u001b[0m, in \u001b[0;36m_create_lambda\u001b[0;34m(f)\u001b[0m\n\u001b[1;32m   4680\u001b[0m argnames \u001b[39m=\u001b[39m [\u001b[39m\"\u001b[39m\u001b[39mx\u001b[39m\u001b[39m\"\u001b[39m, \u001b[39m\"\u001b[39m\u001b[39my\u001b[39m\u001b[39m\"\u001b[39m, \u001b[39m\"\u001b[39m\u001b[39mz\u001b[39m\u001b[39m\"\u001b[39m]\n\u001b[1;32m   4681\u001b[0m args \u001b[39m=\u001b[39m [\n\u001b[1;32m   4682\u001b[0m     _unresolved_named_lambda_variable(\n\u001b[1;32m   4683\u001b[0m         expressions\u001b[39m.\u001b[39mUnresolvedNamedLambdaVariable\u001b[39m.\u001b[39mfreshVarName(arg)\n\u001b[1;32m   4684\u001b[0m     )\n\u001b[1;32m   4685\u001b[0m     \u001b[39mfor\u001b[39;00m arg \u001b[39min\u001b[39;00m argnames[: \u001b[39mlen\u001b[39m(parameters)]\n\u001b[1;32m   4686\u001b[0m ]\n\u001b[0;32m-> 4688\u001b[0m result \u001b[39m=\u001b[39m f(\u001b[39m*\u001b[39;49margs)\n\u001b[1;32m   4690\u001b[0m \u001b[39mif\u001b[39;00m \u001b[39mnot\u001b[39;00m \u001b[39misinstance\u001b[39m(result, Column):\n\u001b[1;32m   4691\u001b[0m     \u001b[39mraise\u001b[39;00m \u001b[39mValueError\u001b[39;00m(\u001b[39m\"\u001b[39m\u001b[39mf should return Column, got \u001b[39m\u001b[39m{}\u001b[39;00m\u001b[39m\"\u001b[39m\u001b[39m.\u001b[39mformat(\u001b[39mtype\u001b[39m(result)))\n",
      "\u001b[1;32m/home/rafzul/projects/entsoe-pipelines/prototype.ipynb Cell 16\u001b[0m in \u001b[0;36m<lambda>\u001b[0;34m(x)\u001b[0m\n\u001b[1;32m      <a href='vscode-notebook-cell:/home/rafzul/projects/entsoe-pipelines/prototype.ipynb#X41sZmlsZQ%3D%3D?line=0'>1</a>\u001b[0m \u001b[39m# def change_colname(columns_list):\u001b[39;00m\n\u001b[1;32m      <a href='vscode-notebook-cell:/home/rafzul/projects/entsoe-pipelines/prototype.ipynb#X41sZmlsZQ%3D%3D?line=1'>2</a>\u001b[0m \u001b[39m#    columns_list = [c for c in columns_list]\u001b[39;00m\n\u001b[1;32m      <a href='vscode-notebook-cell:/home/rafzul/projects/entsoe-pipelines/prototype.ipynb#X41sZmlsZQ%3D%3D?line=2'>3</a>\u001b[0m \u001b[39m#    return columns_list]  \u001b[39;00m\n\u001b[1;32m      <a href='vscode-notebook-cell:/home/rafzul/projects/entsoe-pipelines/prototype.ipynb#X41sZmlsZQ%3D%3D?line=3'>4</a>\u001b[0m \u001b[39m# timeseries = df_spark2.select(F.col(\"TimeSeries\"))\u001b[39;00m\n\u001b[1;32m      <a href='vscode-notebook-cell:/home/rafzul/projects/entsoe-pipelines/prototype.ipynb#X41sZmlsZQ%3D%3D?line=4'>5</a>\u001b[0m \u001b[39m# timeseries.show()\u001b[39;00m\n\u001b[0;32m----> <a href='vscode-notebook-cell:/home/rafzul/projects/entsoe-pipelines/prototype.ipynb#X41sZmlsZQ%3D%3D?line=6'>7</a>\u001b[0m df_spark2\u001b[39m.\u001b[39mwithColumn(\u001b[39m\"\u001b[39m\u001b[39mTimeSeries\u001b[39m\u001b[39m\"\u001b[39m, F\u001b[39m.\u001b[39mtransform(\u001b[39m\"\u001b[39m\u001b[39mTimeSeries\u001b[39m\u001b[39m\"\u001b[39m, \u001b[39mlambda\u001b[39;00m x: F\u001b[39m.\u001b[39mstruct(c \u001b[39mfor\u001b[39;00m c \u001b[39min\u001b[39;00m x\u001b[39m.\u001b[39mnames)))\u001b[39m.\u001b[39mshow()\n",
      "File \u001b[0;32m~/.local/lib/python3.10/site-packages/pyspark/sql/column.py:560\u001b[0m, in \u001b[0;36mColumn.__iter__\u001b[0;34m(self)\u001b[0m\n\u001b[1;32m    559\u001b[0m \u001b[39mdef\u001b[39;00m \u001b[39m__iter__\u001b[39m(\u001b[39mself\u001b[39m) \u001b[39m-\u001b[39m\u001b[39m>\u001b[39m \u001b[39mNone\u001b[39;00m:\n\u001b[0;32m--> 560\u001b[0m     \u001b[39mraise\u001b[39;00m \u001b[39mTypeError\u001b[39;00m(\u001b[39m\"\u001b[39m\u001b[39mColumn is not iterable\u001b[39m\u001b[39m\"\u001b[39m)\n",
      "\u001b[0;31mTypeError\u001b[0m: Column is not iterable"
     ]
    }
   ],
   "source": [
    "# # def change_colname(columns_list):\n",
    "# #    columns_list = [c for c in columns_list]\n",
    "# #    return columns_list]  \n",
    "# # timeseries = df_spark2.select(F.col(\"TimeSeries\"))\n",
    "# # timeseries.show()\n",
    "\n",
    "# df_spark2.withColumn(\"TimeSeries\", F.transform(\"TimeSeries\", lambda x: F.struct(c for c in x.names))).show()\n",
    "                          \n",
    "                                         \n",
    "# # xyz_schema = [c for c in df_spark2.\n",
    "\n",
    "# # if df_spark2.select(\"TimeSeries\"):\n",
    "# #    df_spark3 = df_spark2.withColumn(\"TimeSeries\", F.transform(\"TimeSeries\", \\\n",
    "# #       lambda x: F.struct(*[F.col(c).alias(c.replace(\".\", \"_\")) for c in xyz_schema])))\n",
    "# # print(df_spark3)\n",
    "# # #change timeseries column\n",
    "# # if df_spark2.select(\"TimeSeries\"):\n",
    "   \n",
    "# #    df_spark3 = df_spark2.withColumn \\\n",
    "# #       (\"TimeSeries\", \\\n",
    "# #       F.transform(\"TimeSeries\", \\\n",
    "# #       lambda x: F.struct(*[c.replace(\".\", \"_\") for c in x.columns])).alias(\"TimeSeries\"))\n",
    "#    #sql expr to rename all the column with dot to underscore on every elements on TimeSeries\n",
    "   \n",
    "# #    # df_spark2 = df_spark2.withColumn(\"TimeSeries\", F.transform(\"TimeSeries\", lambda x: F.struct(*[F.col(\"x.\"+c).alias(c.replace(\".\", \"_\")) for c in x._fields])))\n",
    "\n",
    "# # df_spark3.printSchema()\n",
    "  \n",
    "   \n",
    "    "
   ]
  },
  {
   "cell_type": "code",
   "execution_count": null,
   "metadata": {},
   "outputs": [],
   "source": [
    "# df_schema = df_spark2_select.schema()\n",
    "\n",
    "# #cast schema to columns with dots\n",
    "# changed_schema = [(column_name.replace(\".\",\"\")) for column_name in df_schema.fieldNames() if \".\" in column_name]"
   ]
  },
  {
   "cell_type": "code",
   "execution_count": 140,
   "metadata": {},
   "outputs": [
    {
     "ename": "IndentationError",
     "evalue": "unexpected indent (3356198109.py, line 16)",
     "output_type": "error",
     "traceback": [
      "\u001b[0;36m  Input \u001b[0;32mIn [140]\u001b[0;36m\u001b[0m\n\u001b[0;31m    df_spark2 = df_spark2.withColumn(\"TimeSeries\", F.transform(\"TimeSeries\", (lambda n_struct: \\\u001b[0m\n\u001b[0m    ^\u001b[0m\n\u001b[0;31mIndentationError\u001b[0m\u001b[0;31m:\u001b[0m unexpected indent\n"
     ]
    }
   ],
   "source": [
    "# #cast schema with the dot replaced with underscore, programatically\n",
    "\n",
    "\n",
    "\n",
    "# ---- solution for  column names beside TimeSeries:\n",
    "# changed_column_general = [(column_name, column_name.replace(\".\", \"_\")) for column_name in df_schema.fieldNames() if \".\" in x]\n",
    "# for column_name, changed_column_name in changed_column_general:\n",
    "#     df_schema = df_spark2.select([F.col(c).alias(mappingcolumn_name, changed_column_name)\n",
    "# # UPDATE: there is even better solution\n",
    "\n",
    "# #changed non timeseries column\n",
    "# df_spark2 = df_spark2.toDF(*(c.replace(\".\", \"_\") for c in df_spark2.columns))\n",
    "\n",
    "\n",
    "# #on every elements on TimeSeries, rename all the column with dot to underscore\n",
    "#    df_spark2 = df_spark2.withColumn(\"TimeSeries\", F.transform(\"TimeSeries\", (lambda n_struct: \\\n",
    "#       (F.col(col_name).replace(\".\", \"_\") \\\n",
    "#       for col_name in n_struct.columns))))\n"
   ]
  },
  {
   "cell_type": "code",
   "execution_count": 312,
   "metadata": {},
   "outputs": [
    {
     "name": "stdout",
     "output_type": "stream",
     "text": [
      "root\n",
      " |-- @xmlns: string (nullable = true)\n",
      " |-- mRID: string (nullable = true)\n",
      " |-- revisionNumber: string (nullable = true)\n",
      " |-- type: string (nullable = true)\n",
      " |-- process_processType: string (nullable = true)\n",
      " |-- sender_MarketParticipant_mRID: struct (nullable = true)\n",
      " |    |-- #text: string (nullable = true)\n",
      " |    |-- @codingScheme: string (nullable = true)\n",
      " |-- sender_MarketParticipant_marketRole_type: string (nullable = true)\n",
      " |-- receiver_MarketParticipant_mRID: struct (nullable = true)\n",
      " |    |-- #text: string (nullable = true)\n",
      " |    |-- @codingScheme: string (nullable = true)\n",
      " |-- receiver_MarketParticipant_marketRole_type: string (nullable = true)\n",
      " |-- createdDateTime: string (nullable = true)\n",
      " |-- time_Period_timeInterval: struct (nullable = true)\n",
      " |    |-- end: string (nullable = true)\n",
      " |    |-- start: string (nullable = true)\n",
      " |-- TimeSeries: array (nullable = true)\n",
      " |    |-- element: struct (containsNull = true)\n",
      " |    |    |-- MktPSRType: struct (nullable = true)\n",
      " |    |    |    |-- psrType: string (nullable = true)\n",
      " |    |    |-- Period: struct (nullable = true)\n",
      " |    |    |    |-- Point: array (nullable = true)\n",
      " |    |    |    |    |-- element: struct (containsNull = true)\n",
      " |    |    |    |    |    |-- position: string (nullable = true)\n",
      " |    |    |    |    |    |-- quantity: string (nullable = true)\n",
      " |    |    |    |-- resolution: string (nullable = true)\n",
      " |    |    |    |-- timeInterval: struct (nullable = true)\n",
      " |    |    |    |    |-- end: string (nullable = true)\n",
      " |    |    |    |    |-- start: string (nullable = true)\n",
      " |    |    |-- businessType: string (nullable = true)\n",
      " |    |    |-- curveType: string (nullable = true)\n",
      " |    |    |-- inBiddingZone_Domain.mRID: struct (nullable = true)\n",
      " |    |    |    |-- #text: string (nullable = true)\n",
      " |    |    |    |-- @codingScheme: string (nullable = true)\n",
      " |    |    |-- mRID: string (nullable = true)\n",
      " |    |    |-- objectAggregation: string (nullable = true)\n",
      " |    |    |-- outBiddingZone_Domain.mRID: struct (nullable = true)\n",
      " |    |    |    |-- #text: string (nullable = true)\n",
      " |    |    |    |-- @codingScheme: string (nullable = true)\n",
      " |    |    |-- quantity_Measure_Unit.name: string (nullable = true)\n",
      "\n"
     ]
    }
   ],
   "source": [
    "df_spark2.printSchema()"
   ]
  },
  {
   "cell_type": "code",
   "execution_count": 276,
   "metadata": {},
   "outputs": [
    {
     "name": "stdout",
     "output_type": "stream",
     "text": [
      "StructType([StructField('MktPSRType', StructType([StructField('psrType', StringType(), True)]), True), StructField('Period', StructType([StructField('Point', ArrayType(StructType([StructField('position', StringType(), True), StructField('quantity', StringType(), True)]), True), True), StructField('resolution', StringType(), True), StructField('timeInterval', StructType([StructField('end', StringType(), True), StructField('start', StringType(), True)]), True)]), True), StructField('businessType', StringType(), True), StructField('curveType', StringType(), True), StructField('inBiddingZone_Domain_mRID', StructType([StructField('#text', StringType(), True), StructField('@codingScheme', StringType(), True)]), True), StructField('mRID', StringType(), True), StructField('objectAggregation', StringType(), True), StructField('outBiddingZone_Domain_mRID', StructType([StructField('#text', StringType(), True), StructField('@codingScheme', StringType(), True)]), True), StructField('quantity_Measure_Unit_name', StringType(), True)])\n"
     ]
    }
   ],
   "source": [
    "# #temporary fix to solve column name with dot problem, while testing upload to bigquery\n",
    "# #this solution can fix the naming in schema, but i cannot find reference how to apply the \n",
    "\n",
    "# df_schema = df_spark2.schema\n",
    "# for x in df_schema.fieldNames():\n",
    "#     df_schema[x].name = x.replace(\".\", \"_\")\n",
    "    \n",
    "    \n",
    "# df_schema_timeseries = df_schema[\"TimeSeries\"].dataType.elementType\n",
    "for x in df_schema_timeseries.fieldNames():\n",
    "    df_schema_timeseries[x].name = x.replace(\".\", \"_\")\n",
    "    \n",
    "# print(df_schema_timeseries)\n",
    "\n"
   ]
  },
  {
   "cell_type": "code",
   "execution_count": 273,
   "metadata": {},
   "outputs": [
    {
     "name": "stderr",
     "output_type": "stream",
     "text": [
      "                                                                                \r"
     ]
    },
    {
     "name": "stdout",
     "output_type": "stream",
     "text": [
      "22/12/30 19:59:09 ERROR BigQueryClient: Unable to create the job to load to rafzul-analytics-1009.entsoe_playground.fact_test\n"
     ]
    },
    {
     "ename": "Py4JJavaError",
     "evalue": "An error occurred while calling o943.save.\n: com.google.cloud.bigquery.connector.common.BigQueryConnectorException: Failed to write to BigQuery\n\tat com.google.cloud.spark.bigquery.write.BigQueryWriteHelper.writeDataFrameToBigQuery(BigQueryWriteHelper.java:110)\n\tat com.google.cloud.spark.bigquery.write.BigQueryDeprecatedIndirectInsertableRelation.insert(BigQueryDeprecatedIndirectInsertableRelation.java:43)\n\tat com.google.cloud.spark.bigquery.write.CreatableRelationProviderHelper.createRelation(CreatableRelationProviderHelper.java:51)\n\tat com.google.cloud.spark.bigquery.BigQueryRelationProvider.createRelation(BigQueryRelationProvider.scala:106)\n\tat org.apache.spark.sql.execution.datasources.SaveIntoDataSourceCommand.run(SaveIntoDataSourceCommand.scala:47)\n\tat org.apache.spark.sql.execution.command.ExecutedCommandExec.sideEffectResult$lzycompute(commands.scala:75)\n\tat org.apache.spark.sql.execution.command.ExecutedCommandExec.sideEffectResult(commands.scala:73)\n\tat org.apache.spark.sql.execution.command.ExecutedCommandExec.executeCollect(commands.scala:84)\n\tat org.apache.spark.sql.execution.QueryExecution$$anonfun$eagerlyExecuteCommands$1.$anonfun$applyOrElse$1(QueryExecution.scala:98)\n\tat org.apache.spark.sql.execution.SQLExecution$.$anonfun$withNewExecutionId$6(SQLExecution.scala:109)\n\tat org.apache.spark.sql.execution.SQLExecution$.withSQLConfPropagated(SQLExecution.scala:169)\n\tat org.apache.spark.sql.execution.SQLExecution$.$anonfun$withNewExecutionId$1(SQLExecution.scala:95)\n\tat org.apache.spark.sql.SparkSession.withActive(SparkSession.scala:779)\n\tat org.apache.spark.sql.execution.SQLExecution$.withNewExecutionId(SQLExecution.scala:64)\n\tat org.apache.spark.sql.execution.QueryExecution$$anonfun$eagerlyExecuteCommands$1.applyOrElse(QueryExecution.scala:98)\n\tat org.apache.spark.sql.execution.QueryExecution$$anonfun$eagerlyExecuteCommands$1.applyOrElse(QueryExecution.scala:94)\n\tat org.apache.spark.sql.catalyst.trees.TreeNode.$anonfun$transformDownWithPruning$1(TreeNode.scala:584)\n\tat org.apache.spark.sql.catalyst.trees.CurrentOrigin$.withOrigin(TreeNode.scala:176)\n\tat org.apache.spark.sql.catalyst.trees.TreeNode.transformDownWithPruning(TreeNode.scala:584)\n\tat org.apache.spark.sql.catalyst.plans.logical.LogicalPlan.org$apache$spark$sql$catalyst$plans$logical$AnalysisHelper$$super$transformDownWithPruning(LogicalPlan.scala:30)\n\tat org.apache.spark.sql.catalyst.plans.logical.AnalysisHelper.transformDownWithPruning(AnalysisHelper.scala:267)\n\tat org.apache.spark.sql.catalyst.plans.logical.AnalysisHelper.transformDownWithPruning$(AnalysisHelper.scala:263)\n\tat org.apache.spark.sql.catalyst.plans.logical.LogicalPlan.transformDownWithPruning(LogicalPlan.scala:30)\n\tat org.apache.spark.sql.catalyst.plans.logical.LogicalPlan.transformDownWithPruning(LogicalPlan.scala:30)\n\tat org.apache.spark.sql.catalyst.trees.TreeNode.transformDown(TreeNode.scala:560)\n\tat org.apache.spark.sql.execution.QueryExecution.eagerlyExecuteCommands(QueryExecution.scala:94)\n\tat org.apache.spark.sql.execution.QueryExecution.commandExecuted$lzycompute(QueryExecution.scala:81)\n\tat org.apache.spark.sql.execution.QueryExecution.commandExecuted(QueryExecution.scala:79)\n\tat org.apache.spark.sql.execution.QueryExecution.assertCommandExecuted(QueryExecution.scala:116)\n\tat org.apache.spark.sql.DataFrameWriter.runCommand(DataFrameWriter.scala:860)\n\tat org.apache.spark.sql.DataFrameWriter.saveToV1Source(DataFrameWriter.scala:390)\n\tat org.apache.spark.sql.DataFrameWriter.saveInternal(DataFrameWriter.scala:363)\n\tat org.apache.spark.sql.DataFrameWriter.save(DataFrameWriter.scala:239)\n\tat java.base/jdk.internal.reflect.NativeMethodAccessorImpl.invoke0(Native Method)\n\tat java.base/jdk.internal.reflect.NativeMethodAccessorImpl.invoke(NativeMethodAccessorImpl.java:62)\n\tat java.base/jdk.internal.reflect.DelegatingMethodAccessorImpl.invoke(DelegatingMethodAccessorImpl.java:43)\n\tat java.base/java.lang.reflect.Method.invoke(Method.java:566)\n\tat py4j.reflection.MethodInvoker.invoke(MethodInvoker.java:244)\n\tat py4j.reflection.ReflectionEngine.invoke(ReflectionEngine.java:357)\n\tat py4j.Gateway.invoke(Gateway.java:282)\n\tat py4j.commands.AbstractCommand.invokeMethod(AbstractCommand.java:132)\n\tat py4j.commands.CallCommand.execute(CallCommand.java:79)\n\tat py4j.ClientServerConnection.waitForCommands(ClientServerConnection.java:182)\n\tat py4j.ClientServerConnection.run(ClientServerConnection.java:106)\n\tat java.base/java.lang.Thread.run(Thread.java:829)\nCaused by: com.google.cloud.spark.bigquery.repackaged.com.google.cloud.bigquery.BigQueryException: Character '.' found in field name: inBiddingZone_Domain.mRID, parquet file: /bigstore/entsoe_temp_1009/.spark-bigquery-local-1672383730380-d653c3cf-fd95-4741-b39f-60db48fd6e19/part-00000-689215af-bb73-4eec-bea7-ab62343e1a92-c000.snappy.parquet.Reading such fields is not yet supported.\n\tat com.google.cloud.spark.bigquery.repackaged.com.google.cloud.bigquery.Job.reload(Job.java:419)\n\tat com.google.cloud.spark.bigquery.repackaged.com.google.cloud.bigquery.Job.waitFor(Job.java:252)\n\tat com.google.cloud.bigquery.connector.common.BigQueryClient.createAndWaitFor(BigQueryClient.java:333)\n\tat com.google.cloud.bigquery.connector.common.BigQueryClient.createAndWaitFor(BigQueryClient.java:323)\n\tat com.google.cloud.bigquery.connector.common.BigQueryClient.loadDataIntoTable(BigQueryClient.java:553)\n\tat com.google.cloud.spark.bigquery.write.BigQueryWriteHelper.loadDataToBigQuery(BigQueryWriteHelper.java:130)\n\tat com.google.cloud.spark.bigquery.write.BigQueryWriteHelper.writeDataFrameToBigQuery(BigQueryWriteHelper.java:107)\n\t... 44 more\n",
     "output_type": "error",
     "traceback": [
      "\u001b[0;31m---------------------------------------------------------------------------\u001b[0m",
      "\u001b[0;31mPy4JJavaError\u001b[0m                             Traceback (most recent call last)",
      "\u001b[1;32m/home/rafzul/projects/entsoe-pipelines/prototype.ipynb Cell 17\u001b[0m in \u001b[0;36m<cell line: 2>\u001b[0;34m()\u001b[0m\n\u001b[1;32m      <a href='vscode-notebook-cell:/home/rafzul/projects/entsoe-pipelines/prototype.ipynb#X35sZmlsZQ%3D%3D?line=0'>1</a>\u001b[0m \u001b[39m#tulis data ke bigquery via temporary gcs bucket\u001b[39;00m\n\u001b[1;32m      <a href='vscode-notebook-cell:/home/rafzul/projects/entsoe-pipelines/prototype.ipynb#X35sZmlsZQ%3D%3D?line=1'>2</a>\u001b[0m df_spark2\u001b[39m.\u001b[39;49mwrite \\\n\u001b[1;32m      <a href='vscode-notebook-cell:/home/rafzul/projects/entsoe-pipelines/prototype.ipynb#X35sZmlsZQ%3D%3D?line=2'>3</a>\u001b[0m   \u001b[39m.\u001b[39;49mformat(\u001b[39m\"\u001b[39;49m\u001b[39mbigquery\u001b[39;49m\u001b[39m\"\u001b[39;49m) \\\n\u001b[1;32m      <a href='vscode-notebook-cell:/home/rafzul/projects/entsoe-pipelines/prototype.ipynb#X35sZmlsZQ%3D%3D?line=3'>4</a>\u001b[0m   \u001b[39m.\u001b[39;49moption(\u001b[39m\"\u001b[39;49m\u001b[39mproject\u001b[39;49m\u001b[39m\"\u001b[39;49m,\u001b[39m\"\u001b[39;49m\u001b[39mrafzul-analytics-1009\u001b[39;49m\u001b[39m\"\u001b[39;49m) \\\n\u001b[1;32m      <a href='vscode-notebook-cell:/home/rafzul/projects/entsoe-pipelines/prototype.ipynb#X35sZmlsZQ%3D%3D?line=4'>5</a>\u001b[0m   \u001b[39m.\u001b[39;49moption(\u001b[39m\"\u001b[39;49m\u001b[39mtemporaryGcsBucket\u001b[39;49m\u001b[39m\"\u001b[39;49m,\u001b[39m\"\u001b[39;49m\u001b[39mentsoe_temp_1009\u001b[39;49m\u001b[39m\"\u001b[39;49m) \\\n\u001b[1;32m      <a href='vscode-notebook-cell:/home/rafzul/projects/entsoe-pipelines/prototype.ipynb#X35sZmlsZQ%3D%3D?line=5'>6</a>\u001b[0m   \u001b[39m.\u001b[39;49mmode(\u001b[39m\"\u001b[39;49m\u001b[39mappend\u001b[39;49m\u001b[39m\"\u001b[39;49m) \\\n\u001b[0;32m----> <a href='vscode-notebook-cell:/home/rafzul/projects/entsoe-pipelines/prototype.ipynb#X35sZmlsZQ%3D%3D?line=6'>7</a>\u001b[0m   \u001b[39m.\u001b[39;49msave(\u001b[39m\"\u001b[39;49m\u001b[39mrafzul-analytics-1009.entsoe_playground.fact_test\u001b[39;49m\u001b[39m\"\u001b[39;49m)\n",
      "File \u001b[0;32m~/.local/lib/python3.10/site-packages/pyspark/sql/readwriter.py:968\u001b[0m, in \u001b[0;36mDataFrameWriter.save\u001b[0;34m(self, path, format, mode, partitionBy, **options)\u001b[0m\n\u001b[1;32m    966\u001b[0m     \u001b[39mself\u001b[39m\u001b[39m.\u001b[39m_jwrite\u001b[39m.\u001b[39msave()\n\u001b[1;32m    967\u001b[0m \u001b[39melse\u001b[39;00m:\n\u001b[0;32m--> 968\u001b[0m     \u001b[39mself\u001b[39;49m\u001b[39m.\u001b[39;49m_jwrite\u001b[39m.\u001b[39;49msave(path)\n",
      "File \u001b[0;32m~/.local/lib/python3.10/site-packages/py4j/java_gateway.py:1321\u001b[0m, in \u001b[0;36mJavaMember.__call__\u001b[0;34m(self, *args)\u001b[0m\n\u001b[1;32m   1315\u001b[0m command \u001b[39m=\u001b[39m proto\u001b[39m.\u001b[39mCALL_COMMAND_NAME \u001b[39m+\u001b[39m\\\n\u001b[1;32m   1316\u001b[0m     \u001b[39mself\u001b[39m\u001b[39m.\u001b[39mcommand_header \u001b[39m+\u001b[39m\\\n\u001b[1;32m   1317\u001b[0m     args_command \u001b[39m+\u001b[39m\\\n\u001b[1;32m   1318\u001b[0m     proto\u001b[39m.\u001b[39mEND_COMMAND_PART\n\u001b[1;32m   1320\u001b[0m answer \u001b[39m=\u001b[39m \u001b[39mself\u001b[39m\u001b[39m.\u001b[39mgateway_client\u001b[39m.\u001b[39msend_command(command)\n\u001b[0;32m-> 1321\u001b[0m return_value \u001b[39m=\u001b[39m get_return_value(\n\u001b[1;32m   1322\u001b[0m     answer, \u001b[39mself\u001b[39;49m\u001b[39m.\u001b[39;49mgateway_client, \u001b[39mself\u001b[39;49m\u001b[39m.\u001b[39;49mtarget_id, \u001b[39mself\u001b[39;49m\u001b[39m.\u001b[39;49mname)\n\u001b[1;32m   1324\u001b[0m \u001b[39mfor\u001b[39;00m temp_arg \u001b[39min\u001b[39;00m temp_args:\n\u001b[1;32m   1325\u001b[0m     temp_arg\u001b[39m.\u001b[39m_detach()\n",
      "File \u001b[0;32m~/.local/lib/python3.10/site-packages/pyspark/sql/utils.py:190\u001b[0m, in \u001b[0;36mcapture_sql_exception.<locals>.deco\u001b[0;34m(*a, **kw)\u001b[0m\n\u001b[1;32m    188\u001b[0m \u001b[39mdef\u001b[39;00m \u001b[39mdeco\u001b[39m(\u001b[39m*\u001b[39ma: Any, \u001b[39m*\u001b[39m\u001b[39m*\u001b[39mkw: Any) \u001b[39m-\u001b[39m\u001b[39m>\u001b[39m Any:\n\u001b[1;32m    189\u001b[0m     \u001b[39mtry\u001b[39;00m:\n\u001b[0;32m--> 190\u001b[0m         \u001b[39mreturn\u001b[39;00m f(\u001b[39m*\u001b[39;49ma, \u001b[39m*\u001b[39;49m\u001b[39m*\u001b[39;49mkw)\n\u001b[1;32m    191\u001b[0m     \u001b[39mexcept\u001b[39;00m Py4JJavaError \u001b[39mas\u001b[39;00m e:\n\u001b[1;32m    192\u001b[0m         converted \u001b[39m=\u001b[39m convert_exception(e\u001b[39m.\u001b[39mjava_exception)\n",
      "File \u001b[0;32m~/.local/lib/python3.10/site-packages/py4j/protocol.py:326\u001b[0m, in \u001b[0;36mget_return_value\u001b[0;34m(answer, gateway_client, target_id, name)\u001b[0m\n\u001b[1;32m    324\u001b[0m value \u001b[39m=\u001b[39m OUTPUT_CONVERTER[\u001b[39mtype\u001b[39m](answer[\u001b[39m2\u001b[39m:], gateway_client)\n\u001b[1;32m    325\u001b[0m \u001b[39mif\u001b[39;00m answer[\u001b[39m1\u001b[39m] \u001b[39m==\u001b[39m REFERENCE_TYPE:\n\u001b[0;32m--> 326\u001b[0m     \u001b[39mraise\u001b[39;00m Py4JJavaError(\n\u001b[1;32m    327\u001b[0m         \u001b[39m\"\u001b[39m\u001b[39mAn error occurred while calling \u001b[39m\u001b[39m{0}\u001b[39;00m\u001b[39m{1}\u001b[39;00m\u001b[39m{2}\u001b[39;00m\u001b[39m.\u001b[39m\u001b[39m\\n\u001b[39;00m\u001b[39m\"\u001b[39m\u001b[39m.\u001b[39m\n\u001b[1;32m    328\u001b[0m         \u001b[39mformat\u001b[39m(target_id, \u001b[39m\"\u001b[39m\u001b[39m.\u001b[39m\u001b[39m\"\u001b[39m, name), value)\n\u001b[1;32m    329\u001b[0m \u001b[39melse\u001b[39;00m:\n\u001b[1;32m    330\u001b[0m     \u001b[39mraise\u001b[39;00m Py4JError(\n\u001b[1;32m    331\u001b[0m         \u001b[39m\"\u001b[39m\u001b[39mAn error occurred while calling \u001b[39m\u001b[39m{0}\u001b[39;00m\u001b[39m{1}\u001b[39;00m\u001b[39m{2}\u001b[39;00m\u001b[39m. Trace:\u001b[39m\u001b[39m\\n\u001b[39;00m\u001b[39m{3}\u001b[39;00m\u001b[39m\\n\u001b[39;00m\u001b[39m\"\u001b[39m\u001b[39m.\u001b[39m\n\u001b[1;32m    332\u001b[0m         \u001b[39mformat\u001b[39m(target_id, \u001b[39m\"\u001b[39m\u001b[39m.\u001b[39m\u001b[39m\"\u001b[39m, name, value))\n",
      "\u001b[0;31mPy4JJavaError\u001b[0m: An error occurred while calling o943.save.\n: com.google.cloud.bigquery.connector.common.BigQueryConnectorException: Failed to write to BigQuery\n\tat com.google.cloud.spark.bigquery.write.BigQueryWriteHelper.writeDataFrameToBigQuery(BigQueryWriteHelper.java:110)\n\tat com.google.cloud.spark.bigquery.write.BigQueryDeprecatedIndirectInsertableRelation.insert(BigQueryDeprecatedIndirectInsertableRelation.java:43)\n\tat com.google.cloud.spark.bigquery.write.CreatableRelationProviderHelper.createRelation(CreatableRelationProviderHelper.java:51)\n\tat com.google.cloud.spark.bigquery.BigQueryRelationProvider.createRelation(BigQueryRelationProvider.scala:106)\n\tat org.apache.spark.sql.execution.datasources.SaveIntoDataSourceCommand.run(SaveIntoDataSourceCommand.scala:47)\n\tat org.apache.spark.sql.execution.command.ExecutedCommandExec.sideEffectResult$lzycompute(commands.scala:75)\n\tat org.apache.spark.sql.execution.command.ExecutedCommandExec.sideEffectResult(commands.scala:73)\n\tat org.apache.spark.sql.execution.command.ExecutedCommandExec.executeCollect(commands.scala:84)\n\tat org.apache.spark.sql.execution.QueryExecution$$anonfun$eagerlyExecuteCommands$1.$anonfun$applyOrElse$1(QueryExecution.scala:98)\n\tat org.apache.spark.sql.execution.SQLExecution$.$anonfun$withNewExecutionId$6(SQLExecution.scala:109)\n\tat org.apache.spark.sql.execution.SQLExecution$.withSQLConfPropagated(SQLExecution.scala:169)\n\tat org.apache.spark.sql.execution.SQLExecution$.$anonfun$withNewExecutionId$1(SQLExecution.scala:95)\n\tat org.apache.spark.sql.SparkSession.withActive(SparkSession.scala:779)\n\tat org.apache.spark.sql.execution.SQLExecution$.withNewExecutionId(SQLExecution.scala:64)\n\tat org.apache.spark.sql.execution.QueryExecution$$anonfun$eagerlyExecuteCommands$1.applyOrElse(QueryExecution.scala:98)\n\tat org.apache.spark.sql.execution.QueryExecution$$anonfun$eagerlyExecuteCommands$1.applyOrElse(QueryExecution.scala:94)\n\tat org.apache.spark.sql.catalyst.trees.TreeNode.$anonfun$transformDownWithPruning$1(TreeNode.scala:584)\n\tat org.apache.spark.sql.catalyst.trees.CurrentOrigin$.withOrigin(TreeNode.scala:176)\n\tat org.apache.spark.sql.catalyst.trees.TreeNode.transformDownWithPruning(TreeNode.scala:584)\n\tat org.apache.spark.sql.catalyst.plans.logical.LogicalPlan.org$apache$spark$sql$catalyst$plans$logical$AnalysisHelper$$super$transformDownWithPruning(LogicalPlan.scala:30)\n\tat org.apache.spark.sql.catalyst.plans.logical.AnalysisHelper.transformDownWithPruning(AnalysisHelper.scala:267)\n\tat org.apache.spark.sql.catalyst.plans.logical.AnalysisHelper.transformDownWithPruning$(AnalysisHelper.scala:263)\n\tat org.apache.spark.sql.catalyst.plans.logical.LogicalPlan.transformDownWithPruning(LogicalPlan.scala:30)\n\tat org.apache.spark.sql.catalyst.plans.logical.LogicalPlan.transformDownWithPruning(LogicalPlan.scala:30)\n\tat org.apache.spark.sql.catalyst.trees.TreeNode.transformDown(TreeNode.scala:560)\n\tat org.apache.spark.sql.execution.QueryExecution.eagerlyExecuteCommands(QueryExecution.scala:94)\n\tat org.apache.spark.sql.execution.QueryExecution.commandExecuted$lzycompute(QueryExecution.scala:81)\n\tat org.apache.spark.sql.execution.QueryExecution.commandExecuted(QueryExecution.scala:79)\n\tat org.apache.spark.sql.execution.QueryExecution.assertCommandExecuted(QueryExecution.scala:116)\n\tat org.apache.spark.sql.DataFrameWriter.runCommand(DataFrameWriter.scala:860)\n\tat org.apache.spark.sql.DataFrameWriter.saveToV1Source(DataFrameWriter.scala:390)\n\tat org.apache.spark.sql.DataFrameWriter.saveInternal(DataFrameWriter.scala:363)\n\tat org.apache.spark.sql.DataFrameWriter.save(DataFrameWriter.scala:239)\n\tat java.base/jdk.internal.reflect.NativeMethodAccessorImpl.invoke0(Native Method)\n\tat java.base/jdk.internal.reflect.NativeMethodAccessorImpl.invoke(NativeMethodAccessorImpl.java:62)\n\tat java.base/jdk.internal.reflect.DelegatingMethodAccessorImpl.invoke(DelegatingMethodAccessorImpl.java:43)\n\tat java.base/java.lang.reflect.Method.invoke(Method.java:566)\n\tat py4j.reflection.MethodInvoker.invoke(MethodInvoker.java:244)\n\tat py4j.reflection.ReflectionEngine.invoke(ReflectionEngine.java:357)\n\tat py4j.Gateway.invoke(Gateway.java:282)\n\tat py4j.commands.AbstractCommand.invokeMethod(AbstractCommand.java:132)\n\tat py4j.commands.CallCommand.execute(CallCommand.java:79)\n\tat py4j.ClientServerConnection.waitForCommands(ClientServerConnection.java:182)\n\tat py4j.ClientServerConnection.run(ClientServerConnection.java:106)\n\tat java.base/java.lang.Thread.run(Thread.java:829)\nCaused by: com.google.cloud.spark.bigquery.repackaged.com.google.cloud.bigquery.BigQueryException: Character '.' found in field name: inBiddingZone_Domain.mRID, parquet file: /bigstore/entsoe_temp_1009/.spark-bigquery-local-1672383730380-d653c3cf-fd95-4741-b39f-60db48fd6e19/part-00000-689215af-bb73-4eec-bea7-ab62343e1a92-c000.snappy.parquet.Reading such fields is not yet supported.\n\tat com.google.cloud.spark.bigquery.repackaged.com.google.cloud.bigquery.Job.reload(Job.java:419)\n\tat com.google.cloud.spark.bigquery.repackaged.com.google.cloud.bigquery.Job.waitFor(Job.java:252)\n\tat com.google.cloud.bigquery.connector.common.BigQueryClient.createAndWaitFor(BigQueryClient.java:333)\n\tat com.google.cloud.bigquery.connector.common.BigQueryClient.createAndWaitFor(BigQueryClient.java:323)\n\tat com.google.cloud.bigquery.connector.common.BigQueryClient.loadDataIntoTable(BigQueryClient.java:553)\n\tat com.google.cloud.spark.bigquery.write.BigQueryWriteHelper.loadDataToBigQuery(BigQueryWriteHelper.java:130)\n\tat com.google.cloud.spark.bigquery.write.BigQueryWriteHelper.writeDataFrameToBigQuery(BigQueryWriteHelper.java:107)\n\t... 44 more\n"
     ]
    }
   ],
   "source": [
    "#tulis data ke bigquery via temporary gcs bucket\n",
    "df_spark2.write \\\n",
    "  .format(\"bigquery\") \\\n",
    "  .option(\"project\",\"rafzul-analytics-1009\") \\\n",
    "  .option(\"temporaryGcsBucket\",\"entsoe_temp_1009\") \\\n",
    "  .mode(\"append\") \\\n",
    "  .save(\"rafzul-analytics-1009.entsoe_playground.fact_test\")"
   ]
  },
  {
   "cell_type": "code",
   "execution_count": 76,
   "metadata": {},
   "outputs": [
    {
     "ename": "TypeError",
     "evalue": "write() argument must be str, not RDD",
     "output_type": "error",
     "traceback": [
      "\u001b[0;31m---------------------------------------------------------------------------\u001b[0m",
      "\u001b[0;31mTypeError\u001b[0m                                 Traceback (most recent call last)",
      "\u001b[1;32m/home/rafzul/projects/entsoe-pipelines/prototype.ipynb Cell 16\u001b[0m in \u001b[0;36m<cell line: 1>\u001b[0;34m()\u001b[0m\n\u001b[1;32m      <a href='vscode-notebook-cell:/home/rafzul/projects/entsoe-pipelines/prototype.ipynb#X34sZmlsZQ%3D%3D?line=0'>1</a>\u001b[0m \u001b[39mwith\u001b[39;00m \u001b[39mopen\u001b[39m(\u001b[39m\"\u001b[39m\u001b[39mexample_destination.json\u001b[39m\u001b[39m\"\u001b[39m, \u001b[39m\"\u001b[39m\u001b[39mw+\u001b[39m\u001b[39m\"\u001b[39m) \u001b[39mas\u001b[39;00m output_file:\n\u001b[0;32m----> <a href='vscode-notebook-cell:/home/rafzul/projects/entsoe-pipelines/prototype.ipynb#X34sZmlsZQ%3D%3D?line=1'>2</a>\u001b[0m     output_file\u001b[39m.\u001b[39;49mwrite(df_spark2\u001b[39m.\u001b[39;49mtoJSON())\n",
      "\u001b[0;31mTypeError\u001b[0m: write() argument must be str, not RDD"
     ]
    }
   ],
   "source": [
    "with open(\"example_destination.json\", \"w+\") as output_file:\n",
    "    output_file.write(df_spark2.toJSON())"
   ]
  },
  {
   "cell_type": "code",
   "execution_count": null,
   "metadata": {},
   "outputs": [],
   "source": [
    "#gimana cara ngirim doi ke bigquery?"
   ]
  },
  {
   "cell_type": "code",
   "execution_count": 171,
   "metadata": {},
   "outputs": [
    {
     "name": "stdout",
     "output_type": "stream",
     "text": [
      "[('@xmlns', 'string'), ('TimeSeries', 'array<struct<MktPSRType:struct<PowerSystemResources:struct<mRID:struct<#text:string,@codingScheme:string>,name:string>,psrType:string>,Period:struct<Point:struct<position:string,quantity:string>,resolution:string,timeInterval:struct<end:string,start:string>>,businessType:string,curveType:string,inBiddingZone_Domain.mRID:struct<#text:string,@codingScheme:string>,mRID:string,objectAggregation:string,quantity_Measure_Unit.name:string,registeredResource.mRID:struct<#text:string,@codingScheme:string>>>'), ('createdDateTime', 'string'), ('mRID', 'string'), ('process.processType', 'string'), ('receiver_MarketParticipant.mRID', 'struct<#text:string,@codingScheme:string>'), ('receiver_MarketParticipant.marketRole.type', 'string'), ('revisionNumber', 'string'), ('sender_MarketParticipant.mRID', 'struct<#text:string,@codingScheme:string>'), ('sender_MarketParticipant.marketRole.type', 'string'), ('time_Period.timeInterval', 'struct<end:string,start:string>'), ('type', 'string')]\n",
      "['TimeSeries']\n",
      "+--------------------+--------------------+--------------------+--------------------+-------------------+-------------------------------+------------------------------------------+--------------+-----------------------------+----------------------------------------+------------------------+----+\n",
      "|              @xmlns|          TimeSeries|     createdDateTime|                mRID|process.processType|receiver_MarketParticipant.mRID|receiver_MarketParticipant.marketRole.type|revisionNumber|sender_MarketParticipant.mRID|sender_MarketParticipant.marketRole.type|time_Period.timeInterval|type|\n",
      "+--------------------+--------------------+--------------------+--------------------+-------------------+-------------------------------+------------------------------------------+--------------+-----------------------------+----------------------------------------+------------------------+----+\n",
      "|urn:iec62325.351:...|{{{{27W-GU-ECHVG1...|2022-12-27T13:03:46Z|c660d289cfdd4089a...|                A16|           {10X1001A1001A450...|                                       A33|             1|         {10X1001A1001A450...|                                     A32|    {2021-01-01T12:00...| A73|\n",
      "|urn:iec62325.351:...|{{{{27W-GU-ECHVG2...|2022-12-27T13:03:46Z|c660d289cfdd4089a...|                A16|           {10X1001A1001A450...|                                       A33|             1|         {10X1001A1001A450...|                                     A32|    {2021-01-01T12:00...| A73|\n",
      "|urn:iec62325.351:...|{{{{27W-GU-ECHVG3...|2022-12-27T13:03:46Z|c660d289cfdd4089a...|                A16|           {10X1001A1001A450...|                                       A33|             1|         {10X1001A1001A450...|                                     A32|    {2021-01-01T12:00...| A73|\n",
      "|urn:iec62325.351:...|{{{{27W-GU-ECHVG4...|2022-12-27T13:03:46Z|c660d289cfdd4089a...|                A16|           {10X1001A1001A450...|                                       A33|             1|         {10X1001A1001A450...|                                     A32|    {2021-01-01T12:00...| A73|\n",
      "|urn:iec62325.351:...|{{{{27W-GU-EDALG1...|2022-12-27T13:03:46Z|c660d289cfdd4089a...|                A16|           {10X1001A1001A450...|                                       A33|             1|         {10X1001A1001A450...|                                     A32|    {2021-01-01T12:00...| A73|\n",
      "|urn:iec62325.351:...|{{{{27W-GU-EDALG2...|2022-12-27T13:03:46Z|c660d289cfdd4089a...|                A16|           {10X1001A1001A450...|                                       A33|             1|         {10X1001A1001A450...|                                     A32|    {2021-01-01T12:00...| A73|\n",
      "|urn:iec62325.351:...|{{{{27W-GU-EDALG3...|2022-12-27T13:03:46Z|c660d289cfdd4089a...|                A16|           {10X1001A1001A450...|                                       A33|             1|         {10X1001A1001A450...|                                     A32|    {2021-01-01T12:00...| A73|\n",
      "|urn:iec62325.351:...|{{{{27W-GU-EDALG4...|2022-12-27T13:03:46Z|c660d289cfdd4089a...|                A16|           {10X1001A1001A450...|                                       A33|             1|         {10X1001A1001A450...|                                     A32|    {2021-01-01T12:00...| A73|\n",
      "|urn:iec62325.351:...|{{{{27W-GU-EDETG2...|2022-12-27T13:03:46Z|c660d289cfdd4089a...|                A16|           {10X1001A1001A450...|                                       A33|             1|         {10X1001A1001A450...|                                     A32|    {2021-01-01T12:00...| A73|\n",
      "|urn:iec62325.351:...|{{{{27W-GU-EDETG3...|2022-12-27T13:03:46Z|c660d289cfdd4089a...|                A16|           {10X1001A1001A450...|                                       A33|             1|         {10X1001A1001A450...|                                     A32|    {2021-01-01T12:00...| A73|\n",
      "|urn:iec62325.351:...|{{{{27W-GU-EDETG4...|2022-12-27T13:03:46Z|c660d289cfdd4089a...|                A16|           {10X1001A1001A450...|                                       A33|             1|         {10X1001A1001A450...|                                     A32|    {2021-01-01T12:00...| A73|\n",
      "|urn:iec62325.351:...|{{{{27W-GU-EDSTG1...|2022-12-27T13:03:46Z|c660d289cfdd4089a...|                A16|           {10X1001A1001A450...|                                       A33|             1|         {10X1001A1001A450...|                                     A32|    {2021-01-01T12:00...| A73|\n",
      "|urn:iec62325.351:...|{{{{27W-GU-EDSTG2...|2022-12-27T13:03:46Z|c660d289cfdd4089a...|                A16|           {10X1001A1001A450...|                                       A33|             1|         {10X1001A1001A450...|                                     A32|    {2021-01-01T12:00...| A73|\n",
      "|urn:iec62325.351:...|{{{{27W-GU-EDUKB1...|2022-12-27T13:03:46Z|c660d289cfdd4089a...|                A16|           {10X1001A1001A450...|                                       A33|             1|         {10X1001A1001A450...|                                     A32|    {2021-01-01T12:00...| A73|\n",
      "|urn:iec62325.351:...|{{{{27W-GU-EDUKB2...|2022-12-27T13:03:46Z|c660d289cfdd4089a...|                A16|           {10X1001A1001A450...|                                       A33|             1|         {10X1001A1001A450...|                                     A32|    {2021-01-01T12:00...| A73|\n",
      "|urn:iec62325.351:...|{{{{27W-GU-EDUKB3...|2022-12-27T13:03:46Z|c660d289cfdd4089a...|                A16|           {10X1001A1001A450...|                                       A33|             1|         {10X1001A1001A450...|                                     A32|    {2021-01-01T12:00...| A73|\n",
      "|urn:iec62325.351:...|{{{{27W-GU-EDUKB4...|2022-12-27T13:03:46Z|c660d289cfdd4089a...|                A16|           {10X1001A1001A450...|                                       A33|             1|         {10X1001A1001A450...|                                     A32|    {2021-01-01T12:00...| A73|\n",
      "|urn:iec62325.351:...|{{{{27W-GU-EECKG4...|2022-12-27T13:03:46Z|c660d289cfdd4089a...|                A16|           {10X1001A1001A450...|                                       A33|             1|         {10X1001A1001A450...|                                     A32|    {2021-01-01T12:00...| A73|\n",
      "|urn:iec62325.351:...|{{{{27W-GU-EECKG5...|2022-12-27T13:03:46Z|c660d289cfdd4089a...|                A16|           {10X1001A1001A450...|                                       A33|             1|         {10X1001A1001A450...|                                     A32|    {2021-01-01T12:00...| A73|\n",
      "|urn:iec62325.351:...|{{{{27WGU-EECKG7-...|2022-12-27T13:03:46Z|c660d289cfdd4089a...|                A16|           {10X1001A1001A450...|                                       A33|             1|         {10X1001A1001A450...|                                     A32|    {2021-01-01T12:00...| A73|\n",
      "|urn:iec62325.351:...|{{{{27W-GU-ELEDG6...|2022-12-27T13:03:46Z|c660d289cfdd4089a...|                A16|           {10X1001A1001A450...|                                       A33|             1|         {10X1001A1001A450...|                                     A32|    {2021-01-01T12:00...| A73|\n",
      "|urn:iec62325.351:...|{{{{27W-GU-EPC1G2...|2022-12-27T13:03:46Z|c660d289cfdd4089a...|                A16|           {10X1001A1001A450...|                                       A33|             1|         {10X1001A1001A450...|                                     A32|    {2021-01-01T12:00...| A73|\n",
      "|urn:iec62325.351:...|{{{{27W-GU-EPC1G3...|2022-12-27T13:03:46Z|c660d289cfdd4089a...|                A16|           {10X1001A1001A450...|                                       A33|             1|         {10X1001A1001A450...|                                     A32|    {2021-01-01T12:00...| A73|\n",
      "|urn:iec62325.351:...|{{{{27W-GU-EPC1G4...|2022-12-27T13:03:46Z|c660d289cfdd4089a...|                A16|           {10X1001A1001A450...|                                       A33|             1|         {10X1001A1001A450...|                                     A32|    {2021-01-01T12:00...| A73|\n",
      "|urn:iec62325.351:...|{{{{27W-GU-EPC1G5...|2022-12-27T13:03:46Z|c660d289cfdd4089a...|                A16|           {10X1001A1001A450...|                                       A33|             1|         {10X1001A1001A450...|                                     A32|    {2021-01-01T12:00...| A73|\n",
      "|urn:iec62325.351:...|{{{{27W-GU-EPC1G6...|2022-12-27T13:03:46Z|c660d289cfdd4089a...|                A16|           {10X1001A1001A450...|                                       A33|             1|         {10X1001A1001A450...|                                     A32|    {2021-01-01T12:00...| A73|\n",
      "|urn:iec62325.351:...|{{{{27W-GU-EPC2B2...|2022-12-27T13:03:46Z|c660d289cfdd4089a...|                A16|           {10X1001A1001A450...|                                       A33|             1|         {10X1001A1001A450...|                                     A32|    {2021-01-01T12:00...| A73|\n",
      "|urn:iec62325.351:...|{{{{27W-GU-EPR2G2...|2022-12-27T13:03:46Z|c660d289cfdd4089a...|                A16|           {10X1001A1001A450...|                                       A33|             1|         {10X1001A1001A450...|                                     A32|    {2021-01-01T12:00...| A73|\n",
      "|urn:iec62325.351:...|{{{{27W-GU-EPR2G2...|2022-12-27T13:03:46Z|c660d289cfdd4089a...|                A16|           {10X1001A1001A450...|                                       A33|             1|         {10X1001A1001A450...|                                     A32|    {2021-01-01T12:00...| A73|\n",
      "|urn:iec62325.351:...|{{{{27W-GU-EPR2G2...|2022-12-27T13:03:46Z|c660d289cfdd4089a...|                A16|           {10X1001A1001A450...|                                       A33|             1|         {10X1001A1001A450...|                                     A32|    {2021-01-01T12:00...| A73|\n",
      "|urn:iec62325.351:...|{{{{27W-GU-EPVR-B...|2022-12-27T13:03:46Z|c660d289cfdd4089a...|                A16|           {10X1001A1001A450...|                                       A33|             1|         {10X1001A1001A450...|                                     A32|    {2021-01-01T12:00...| A73|\n",
      "|urn:iec62325.351:...|{{{{27W-GU-EPVR-B...|2022-12-27T13:03:46Z|c660d289cfdd4089a...|                A16|           {10X1001A1001A450...|                                       A33|             1|         {10X1001A1001A450...|                                     A32|    {2021-01-01T12:00...| A73|\n",
      "|urn:iec62325.351:...|{{{{27W-GU-ETEMG1...|2022-12-27T13:03:46Z|c660d289cfdd4089a...|                A16|           {10X1001A1001A450...|                                       A33|             1|         {10X1001A1001A450...|                                     A32|    {2021-01-01T12:00...| A73|\n",
      "|urn:iec62325.351:...|{{{{27W-GU-ETEMG2...|2022-12-27T13:03:46Z|c660d289cfdd4089a...|                A16|           {10X1001A1001A450...|                                       A33|             1|         {10X1001A1001A450...|                                     A32|    {2021-01-01T12:00...| A73|\n",
      "|urn:iec62325.351:...|{{{{27W-GU-ETI2-G...|2022-12-27T13:03:46Z|c660d289cfdd4089a...|                A16|           {10X1001A1001A450...|                                       A33|             1|         {10X1001A1001A450...|                                     A32|    {2021-01-01T12:00...| A73|\n",
      "|urn:iec62325.351:...|{{{{27W-GU-ETU2G2...|2022-12-27T13:03:46Z|c660d289cfdd4089a...|                A16|           {10X1001A1001A450...|                                       A33|             1|         {10X1001A1001A450...|                                     A32|    {2021-01-01T12:00...| A73|\n",
      "|urn:iec62325.351:...|{{{{27W-GU-ETU2G2...|2022-12-27T13:03:46Z|c660d289cfdd4089a...|                A16|           {10X1001A1001A450...|                                       A33|             1|         {10X1001A1001A450...|                                     A32|    {2021-01-01T12:00...| A73|\n",
      "|urn:iec62325.351:...|{{{{27W-GU-ETU2G2...|2022-12-27T13:03:46Z|c660d289cfdd4089a...|                A16|           {10X1001A1001A450...|                                       A33|             1|         {10X1001A1001A450...|                                     A32|    {2021-01-01T12:00...| A73|\n",
      "|urn:iec62325.351:...|{{{{27W-GU-ETU2G2...|2022-12-27T13:03:46Z|c660d289cfdd4089a...|                A16|           {10X1001A1001A450...|                                       A33|             1|         {10X1001A1001A450...|                                     A32|    {2021-01-01T12:00...| A73|\n",
      "+--------------------+--------------------+--------------------+--------------------+-------------------+-------------------------------+------------------------------------------+--------------+-----------------------------+----------------------------------------+------------------------+----+\n",
      "\n"
     ]
    },
    {
     "data": {
      "text/plain": [
       "[('@xmlns', 'string'),\n",
       " ('TimeSeries',\n",
       "  'struct<MktPSRType:struct<PowerSystemResources:struct<mRID:struct<#text:string,@codingScheme:string>,name:string>,psrType:string>,Period:struct<Point:struct<position:string,quantity:string>,resolution:string,timeInterval:struct<end:string,start:string>>,businessType:string,curveType:string,inBiddingZone_Domain.mRID:struct<#text:string,@codingScheme:string>,mRID:string,objectAggregation:string,quantity_Measure_Unit.name:string,registeredResource.mRID:struct<#text:string,@codingScheme:string>>'),\n",
       " ('createdDateTime', 'string'),\n",
       " ('mRID', 'string'),\n",
       " ('process.processType', 'string'),\n",
       " ('receiver_MarketParticipant.mRID',\n",
       "  'struct<#text:string,@codingScheme:string>'),\n",
       " ('receiver_MarketParticipant.marketRole.type', 'string'),\n",
       " ('revisionNumber', 'string'),\n",
       " ('sender_MarketParticipant.mRID',\n",
       "  'struct<#text:string,@codingScheme:string>'),\n",
       " ('sender_MarketParticipant.marketRole.type', 'string'),\n",
       " ('time_Period.timeInterval', 'struct<end:string,start:string>'),\n",
       " ('type', 'string')]"
      ]
     },
     "execution_count": 171,
     "metadata": {},
     "output_type": "execute_result"
    }
   ],
   "source": [
    "# # abc.show(50,truncate=False)\n",
    "# print(df_spark.dtypes)\n",
    "# array_cols = [c[0] for c in df_spark.dtypes if c[1][:5] == 'array'] \n",
    "# print(array_cols)\n",
    "\n",
    "# for array_col in array_cols:\n",
    "            \n",
    "#     # cols_to_select = [x for x in df.columns if x != array_col ]\n",
    "#     df_spark = df_spark.withColumn(array_col, F.explode(F.col(array_col)))\n",
    "    \n",
    "# df_spark.show(50)\n",
    "# df_spark.dtypes"
   ]
  },
  {
   "cell_type": "code",
   "execution_count": 128,
   "metadata": {},
   "outputs": [],
   "source": [
    "# abc = df_spark.select(\"GL_MarketDocument.*\").select(\"@xmlns\", F.explode(\"TimeSeries\").alias(\"Nilai\"))"
   ]
  },
  {
   "cell_type": "code",
   "execution_count": 105,
   "metadata": {},
   "outputs": [
    {
     "name": "stdout",
     "output_type": "stream",
     "text": [
      "[('@xmlns', 'string'), ('Nilai', 'struct<MktPSRType:struct<PowerSystemResources:struct<mRID:struct<#text:string,@codingScheme:string>,name:string>,psrType:string>,Period:struct<Point:struct<position:string,quantity:string>,resolution:string,timeInterval:struct<end:string,start:string>>,businessType:string,curveType:string,inBiddingZone_Domain.mRID:struct<#text:string,@codingScheme:string>,mRID:string,objectAggregation:string,quantity_Measure_Unit.name:string,registeredResource.mRID:struct<#text:string,@codingScheme:string>>')]\n",
      "+--------------------+--------------------+\n",
      "|              @xmlns|               Nilai|\n",
      "+--------------------+--------------------+\n",
      "|urn:iec62325.351:...|{{{{27W-GU-ECHVG1...|\n",
      "|urn:iec62325.351:...|{{{{27W-GU-ECHVG2...|\n",
      "|urn:iec62325.351:...|{{{{27W-GU-ECHVG3...|\n",
      "|urn:iec62325.351:...|{{{{27W-GU-ECHVG4...|\n",
      "|urn:iec62325.351:...|{{{{27W-GU-EDALG1...|\n",
      "|urn:iec62325.351:...|{{{{27W-GU-EDALG2...|\n",
      "|urn:iec62325.351:...|{{{{27W-GU-EDALG3...|\n",
      "|urn:iec62325.351:...|{{{{27W-GU-EDALG4...|\n",
      "|urn:iec62325.351:...|{{{{27W-GU-EDETG2...|\n",
      "|urn:iec62325.351:...|{{{{27W-GU-EDETG3...|\n",
      "|urn:iec62325.351:...|{{{{27W-GU-EDETG4...|\n",
      "|urn:iec62325.351:...|{{{{27W-GU-EDSTG1...|\n",
      "|urn:iec62325.351:...|{{{{27W-GU-EDSTG2...|\n",
      "|urn:iec62325.351:...|{{{{27W-GU-EDUKB1...|\n",
      "|urn:iec62325.351:...|{{{{27W-GU-EDUKB2...|\n",
      "|urn:iec62325.351:...|{{{{27W-GU-EDUKB3...|\n",
      "|urn:iec62325.351:...|{{{{27W-GU-EDUKB4...|\n",
      "|urn:iec62325.351:...|{{{{27W-GU-EECKG4...|\n",
      "|urn:iec62325.351:...|{{{{27W-GU-EECKG5...|\n",
      "|urn:iec62325.351:...|{{{{27WGU-EECKG7-...|\n",
      "|urn:iec62325.351:...|{{{{27W-GU-ELEDG6...|\n",
      "|urn:iec62325.351:...|{{{{27W-GU-EPC1G2...|\n",
      "|urn:iec62325.351:...|{{{{27W-GU-EPC1G3...|\n",
      "|urn:iec62325.351:...|{{{{27W-GU-EPC1G4...|\n",
      "|urn:iec62325.351:...|{{{{27W-GU-EPC1G5...|\n",
      "|urn:iec62325.351:...|{{{{27W-GU-EPC1G6...|\n",
      "|urn:iec62325.351:...|{{{{27W-GU-EPC2B2...|\n",
      "|urn:iec62325.351:...|{{{{27W-GU-EPR2G2...|\n",
      "|urn:iec62325.351:...|{{{{27W-GU-EPR2G2...|\n",
      "|urn:iec62325.351:...|{{{{27W-GU-EPR2G2...|\n",
      "|urn:iec62325.351:...|{{{{27W-GU-EPVR-B...|\n",
      "|urn:iec62325.351:...|{{{{27W-GU-EPVR-B...|\n",
      "|urn:iec62325.351:...|{{{{27W-GU-ETEMG1...|\n",
      "|urn:iec62325.351:...|{{{{27W-GU-ETEMG2...|\n",
      "|urn:iec62325.351:...|{{{{27W-GU-ETI2-G...|\n",
      "|urn:iec62325.351:...|{{{{27W-GU-ETU2G2...|\n",
      "|urn:iec62325.351:...|{{{{27W-GU-ETU2G2...|\n",
      "|urn:iec62325.351:...|{{{{27W-GU-ETU2G2...|\n",
      "|urn:iec62325.351:...|{{{{27W-GU-ETU2G2...|\n",
      "+--------------------+--------------------+\n",
      "\n",
      "root\n",
      " |-- @xmlns: string (nullable = true)\n",
      " |-- Nilai: struct (nullable = true)\n",
      " |    |-- MktPSRType: struct (nullable = true)\n",
      " |    |    |-- PowerSystemResources: struct (nullable = true)\n",
      " |    |    |    |-- mRID: struct (nullable = true)\n",
      " |    |    |    |    |-- #text: string (nullable = true)\n",
      " |    |    |    |    |-- @codingScheme: string (nullable = true)\n",
      " |    |    |    |-- name: string (nullable = true)\n",
      " |    |    |-- psrType: string (nullable = true)\n",
      " |    |-- Period: struct (nullable = true)\n",
      " |    |    |-- Point: struct (nullable = true)\n",
      " |    |    |    |-- position: string (nullable = true)\n",
      " |    |    |    |-- quantity: string (nullable = true)\n",
      " |    |    |-- resolution: string (nullable = true)\n",
      " |    |    |-- timeInterval: struct (nullable = true)\n",
      " |    |    |    |-- end: string (nullable = true)\n",
      " |    |    |    |-- start: string (nullable = true)\n",
      " |    |-- businessType: string (nullable = true)\n",
      " |    |-- curveType: string (nullable = true)\n",
      " |    |-- inBiddingZone_Domain.mRID: struct (nullable = true)\n",
      " |    |    |-- #text: string (nullable = true)\n",
      " |    |    |-- @codingScheme: string (nullable = true)\n",
      " |    |-- mRID: string (nullable = true)\n",
      " |    |-- objectAggregation: string (nullable = true)\n",
      " |    |-- quantity_Measure_Unit.name: string (nullable = true)\n",
      " |    |-- registeredResource.mRID: struct (nullable = true)\n",
      " |    |    |-- #text: string (nullable = true)\n",
      " |    |    |-- @codingScheme: string (nullable = true)\n",
      "\n"
     ]
    }
   ],
   "source": [
    "# print(abc.dtypes)\n",
    "# abc.show(50)\n",
    "# abc.printSchema()"
   ]
  },
  {
   "cell_type": "code",
   "execution_count": null,
   "metadata": {},
   "outputs": [],
   "source": [
    "# #inferring schema and get the data type of each column and turn it into spark dataframe\n",
    "# datatype_infer = pd.DataFrame.from_dict(xml_file_dict[0], orient='index')"
   ]
  },
  {
   "cell_type": "code",
   "execution_count": null,
   "metadata": {},
   "outputs": [],
   "source": [
    "#  df_spark.schema.prettyJson()"
   ]
  },
  {
   "cell_type": "code",
   "execution_count": null,
   "metadata": {},
   "outputs": [],
   "source": [
    "# #flatten nested df at every layer\n",
    "# from pyspark.sql.types import *\n",
    "# from pyspark.sql.import functions as f\n",
    "\n",
    "# def flatten_structs(nested_df):\n",
    "#     stack = [(), nested_df]\n",
    "#     columns = []\n",
    "    \n",
    "#     while len(stack) > 0:\n",
    "#         parents\n",
    "        \n",
    "    "
   ]
  }
 ],
 "metadata": {
  "kernelspec": {
   "display_name": "Python 3.10.4 64-bit",
   "language": "python",
   "name": "python3"
  },
  "language_info": {
   "codemirror_mode": {
    "name": "ipython",
    "version": 3
   },
   "file_extension": ".py",
   "mimetype": "text/x-python",
   "name": "python",
   "nbconvert_exporter": "python",
   "pygments_lexer": "ipython3",
   "version": "3.10.4"
  },
  "orig_nbformat": 4,
  "vscode": {
   "interpreter": {
    "hash": "31f2aee4e71d21fbe5cf8b01ff0e069b9275f58929596ceb00d14d90e3e16cd6"
   }
  }
 },
 "nbformat": 4,
 "nbformat_minor": 2
}
