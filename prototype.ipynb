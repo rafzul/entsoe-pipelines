{
 "cells": [
  {
   "cell_type": "code",
   "execution_count": 7,
   "metadata": {},
   "outputs": [],
   "source": [
    "import os \n",
    "from dotenv import load_dotenv\n",
    "import requests\n",
    "from google.oauth2 import service_account\n",
    "import xmltodict\n",
    "import json\n",
    "import pandas as pd \n",
    "from requests import request\n",
    "import pytz\n",
    "from bs4 import BeautifulSoup\n",
    "from typing import Dict\n",
    "from google.oauth2 import service_account\n",
    "from google.cloud import storage\n",
    "fro\n",
    "\n",
    "import pyspark\n",
    "from pyspark import SparkContext, SparkConf\n",
    "from pyspark.sql import SparkSession\n",
    "import os\n",
    "import sys\n",
    "\n",
    "from pyspark.sql.types import StructType, StructField, FloatType, BooleanType\n",
    "from pyspark.sql.types import DoubleType, IntegerType, StringType\n",
    "\n",
    "\n",
    "\n"
   ]
  },
  {
   "cell_type": "code",
   "execution_count": 3,
   "metadata": {},
   "outputs": [
    {
     "data": {
      "text/plain": [
       "True"
      ]
     },
     "execution_count": 3,
     "metadata": {},
     "output_type": "execute_result"
    }
   ],
   "source": [
    "#load env variables\n",
    "load_dotenv('./creds/.env', verbose=True, override=True)"
   ]
  },
  {
   "cell_type": "code",
   "execution_count": 3,
   "metadata": {},
   "outputs": [
    {
     "name": "stdout",
     "output_type": "stream",
     "text": [
      "None\n"
     ]
    }
   ],
   "source": [
    "print(os.environ.get(\"PYSPARK_DRIVER_PYTHON\"))"
   ]
  },
  {
   "cell_type": "code",
   "execution_count": 4,
   "metadata": {},
   "outputs": [
    {
     "name": "stdout",
     "output_type": "stream",
     "text": [
      "entsoe_analytics_1009\n"
     ]
    }
   ],
   "source": [
    "\n",
    "\n",
    "'''\n",
    "----------------\n",
    "INIT VARIABLES\n",
    "----------------\n",
    "'''\n",
    "\n",
    "#setting up entsoe variables\n",
    "security_token = os.environ.get(\"SECURITY_TOKEN\")\n",
    "ENTSOE_URL = 'https://transparency.entsoe.eu/api'\n",
    "\n",
    "#setting up GCP variables\n",
    "service_account_file = os.environ.get(\"SERVICE_ACCOUNT_FILE\")\n",
    "credentials = service_account.Credentials.from_service_account_file(\n",
    "    service_account_file\n",
    ")\n",
    "gcs_bucket = os.environ.get(\"CLOUD_STORAGE_BUCKET\")\n",
    "print(gcs_bucket)"
   ]
  },
  {
   "cell_type": "code",
   "execution_count": null,
   "metadata": {},
   "outputs": [],
   "source": [
    "\n",
    "\n",
    "\n",
    "#setting up session\n",
    "entsoe_session = requests.Session()\n",
    "\n",
    "'''\n",
    "----------------\n",
    "SETTING UP FUNCTION CALLS \n",
    "----------------\n",
    "'''\n",
    "\n",
    "#format dates\n",
    "def datetime_to_str(dtm: pd.Timestamp) -> str:\n",
    "    #convert timezone to UTC if it's exist and it's not on UTC already\n",
    "    if dtm.tzinfo is not None and dtm.tzinfo != pytz.UTC:\n",
    "        dtm = dtm.tz_convert(\"UTC\")\n",
    "    fmt = '%Y%m%d%H%M'\n",
    "    dtm_str = dtm.strftime(fmt)\n",
    "    return dtm_str\n",
    "\n",
    "#basic requests\n",
    "def basic_requests(params: Dict, start:pd.Timestamp, end: pd.Timestamp) -> requests.Response:\n",
    "    #setting up time intervals start and stop\n",
    "    start_str = datetime_to_str(start)\n",
    "    end_str = datetime_to_str(end)\n",
    "\n",
    "    #setting up params and extending with custom parameter based\n",
    "    base_params = {\n",
    "        'securityToken': security_token,\n",
    "        'periodStart': start_str,\n",
    "        'periodEnd': end_str,\n",
    "    }\n",
    "    params.update(base_params)\n",
    "    \n",
    "    #seting up sesssion\n",
    "    session = requests.Session()\n",
    "    response = session.get(url=ENTSOE_URL, params=params)\n",
    "\n",
    "    return response\n",
    "\n",
    "# upload data to GCS\n",
    "def upload_blob_to_gcs(bucket_name, contents, destination_blob_name):\n",
    "    # Upload file to bucket\"\"\"\n",
    "\n",
    "    # ID of GCS bucket\n",
    "    # bucket_name =\n",
    "\n",
    "    # the contents from memory to be uploaded to file\n",
    "    # contents =\n",
    "\n",
    "    # the ID of your GCS object\n",
    "    # destination_blob_name =\n",
    "\n",
    "    storage_client = storage.Client(credentials=credentials)\n",
    "    bucket = storage_client.bucket(bucket_name)\n",
    "    blob = bucket.blob(destination_blob_name)\n",
    "\n",
    "    blob.upload_from_string(contents)\n",
    "\n",
    "\n",
    "'''\n",
    "----------------\n",
    "EXTRACTION\n",
    "----------------\n",
    "'''\n",
    "#for test, we'll be querying Actual Generation Output per Generation Unit\n",
    "\n",
    "domain = '10YCZ-CEPS-----N'\n",
    "params_requests = {\n",
    "    'documentType': 'A73',\n",
    "    'processType': 'A16',\n",
    "    'in_Domain': {domain},\n",
    "}\n",
    "start=pd.Timestamp('202101011200', tz='Europe/Berlin')\n",
    "end=pd.Timestamp('202101011300', tz='Europe/Berlin')\n",
    "\n",
    "entsoe_data = basic_requests(params=params_requests, start=start, end=end)\n",
    "# entsoe_dict = xmltodict.parse(entsoe_data.text)\n",
    "# entsoe_json = json.dumps(entsoe_dict, indent=4)\n",
    "# print(entsoe_json)\n",
    "print(entsoe_data.text)\n",
    "\n",
    "'''\n",
    "----------------\n",
    "LOAD\n",
    "----------------\n",
    "'''\n",
    "# #upload to GCS\n",
    "# landing_filename=f\"entsoe_data_{start}.json\"\n",
    "# upload_blob_to_gcs(bucket_name=gcs_bucket, contents=entsoe_json, destination_blob_name=landing_filename)\n",
    "\n",
    "#upload to GCS - XML\n",
    "landing_filename=f\"entsoe_data_{start}_{domain}.xml\"\n",
    "upload_blob_to_gcs(bucket_name=gcs_bucket, contents=entsoe_data.text, destination_blob_name=landing_filename)\n",
    "\n"
   ]
  },
  {
   "cell_type": "code",
   "execution_count": 5,
   "metadata": {},
   "outputs": [
    {
     "name": "stdout",
     "output_type": "stream",
     "text": [
      "/opt/spark-3.3.1-bin-hadoop3-scala2.13\n"
     ]
    }
   ],
   "source": [
    "print(os.environ[\"SPARK_HOME\"])\n",
    "SPARK_HOME = os.environ[\"SPARK_HOME\"]"
   ]
  },
  {
   "cell_type": "code",
   "execution_count": 9,
   "metadata": {},
   "outputs": [
    {
     "name": "stdout",
     "output_type": "stream",
     "text": [
      "22/12/23 09:53:58 WARN Utils: Your hostname, pop-os resolves to a loopback address: 127.0.1.1; using 192.168.18.2 instead (on interface wlp58s0)\n",
      "22/12/23 09:53:58 WARN Utils: Set SPARK_LOCAL_IP if you need to bind to another address\n",
      "22/12/23 09:53:58 WARN NativeCodeLoader: Unable to load native-hadoop library for your platform... using builtin-java classes where applicable\n"
     ]
    },
    {
     "name": "stderr",
     "output_type": "stream",
     "text": [
      "Setting default log level to \"WARN\".\n",
      "To adjust logging level use sc.setLogLevel(newLevel). For SparkR, use setLogLevel(newLevel).\n"
     ]
    }
   ],
   "source": [
    "\n",
    "#setup sparksession for entry point\n",
    "spark = SparkSession.builder.appName(\"gcp_playground\").config(\"spark.jars\", f\"{SPARK_HOME}/jars/spark-xml_2.13-0.15.0.jar\").getOrCreate()\n"
   ]
  },
  {
   "cell_type": "code",
   "execution_count": 19,
   "metadata": {},
   "outputs": [
    {
     "name": "stdout",
     "output_type": "stream",
     "text": [
      "/home/rafzul/projects/entsoe-pipelines/sample.xml\n",
      "+-----+--------------------+--------------------+---------------+-----+------------+--------------------+\n",
      "|  _id|              author|         description|          genre|price|publish_date|               title|\n",
      "+-----+--------------------+--------------------+---------------+-----+------------+--------------------+\n",
      "|bk101|Gambardella, Matthew|\\n\\n\\n         An...|       Computer|44.95|  2000-10-01|XML Developer's G...|\n",
      "|bk102|          Ralls, Kim|A former architec...|        Fantasy| 5.95|  2000-12-16|       Midnight Rain|\n",
      "|bk103|         Corets, Eva|After the collaps...|        Fantasy| 5.95|  2000-11-17|     Maeve Ascendant|\n",
      "|bk104|         Corets, Eva|In post-apocalyps...|        Fantasy| 5.95|  2001-03-10|     Oberon's Legacy|\n",
      "|bk105|         Corets, Eva|The two daughters...|        Fantasy| 5.95|  2001-09-10|  The Sundered Grail|\n",
      "|bk106|    Randall, Cynthia|When Carla meets ...|        Romance| 4.95|  2000-09-02|         Lover Birds|\n",
      "|bk107|      Thurman, Paula|A deep sea diver ...|        Romance| 4.95|  2000-11-02|       Splish Splash|\n",
      "|bk108|       Knorr, Stefan|An anthology of h...|         Horror| 4.95|  2000-12-06|     Creepy Crawlies|\n",
      "|bk109|        Kress, Peter|After an inadvert...|Science Fiction| 6.95|  2000-11-02|        Paradox Lost|\n",
      "|bk110|        O'Brien, Tim|Microsoft's .NET ...|       Computer|36.95|  2000-12-09|Microsoft .NET: T...|\n",
      "|bk111|        O'Brien, Tim|The Microsoft MSX...|       Computer|36.95|  2000-12-01|MSXML3: A Compreh...|\n",
      "|bk112|         Galos, Mike|Microsoft Visual ...|       Computer|49.95|  2001-04-16|Visual Studio 7: ...|\n",
      "+-----+--------------------+--------------------+---------------+-----+------------+--------------------+\n",
      "\n"
     ]
    }
   ],
   "source": [
    "\n",
    "# berangkat pak haji\n",
    "# setup parameternya\n",
    "gcs_bucket = gcs_bucket\n",
    "# path = f\"gs://{gcs_bucket}/{landing_filename}\"\n",
    "path =\"/home/rafzul/projects/entsoe-pipelines/sample.xml\"\n",
    "\n",
    "print(path)\n",
    "#spark read json\n",
    "df = spark.read.format('xml').options(rowTag='book', rootTag='books', inferSchema=True).load('/home/rafzul/projects/entsoe-pipelines/sample.xml')\n",
    "df.show()"
   ]
  },
  {
   "cell_type": "code",
   "execution_count": 6,
   "metadata": {},
   "outputs": [],
   "source": [
    "with open(\"entsoe_analytics_1009/entsoe_data_2021-01-01 12:00:00+01:00_10YCZ-CEPS-----N.xml\") as source_file:\n",
    "    xml_file_dict = [xmltodict.parse(source_file.read())]\n",
    "    xml_json_dump = json.dumps(xml_file_dict, indent=4)\n",
    "    \n",
    "with open(\"entsoe_json.json\", \"w\") as outfile:\n",
    "    outfile.write(xml_json_dump)"
   ]
  },
  {
   "cell_type": "code",
   "execution_count": 24,
   "metadata": {},
   "outputs": [
    {
     "data": {
      "text/html": [
       "<div>\n",
       "<style scoped>\n",
       "    .dataframe tbody tr th:only-of-type {\n",
       "        vertical-align: middle;\n",
       "    }\n",
       "\n",
       "    .dataframe tbody tr th {\n",
       "        vertical-align: top;\n",
       "    }\n",
       "\n",
       "    .dataframe thead th {\n",
       "        text-align: right;\n",
       "    }\n",
       "</style>\n",
       "<table border=\"1\" class=\"dataframe\">\n",
       "  <thead>\n",
       "    <tr style=\"text-align: right;\">\n",
       "      <th></th>\n",
       "      <th>GL_MarketDocument</th>\n",
       "    </tr>\n",
       "  </thead>\n",
       "  <tbody>\n",
       "    <tr>\n",
       "      <th>@xmlns</th>\n",
       "      <td>urn:iec62325.351:tc57wg16:451-6:generationload...</td>\n",
       "    </tr>\n",
       "    <tr>\n",
       "      <th>TimeSeries</th>\n",
       "      <td>[{'mRID': '1', 'businessType': 'A01', 'objectA...</td>\n",
       "    </tr>\n",
       "    <tr>\n",
       "      <th>createdDateTime</th>\n",
       "      <td>2022-12-20T23:55:03Z</td>\n",
       "    </tr>\n",
       "    <tr>\n",
       "      <th>mRID</th>\n",
       "      <td>087f7c50ecdb477394b0045fdc1f1173</td>\n",
       "    </tr>\n",
       "    <tr>\n",
       "      <th>process.processType</th>\n",
       "      <td>A16</td>\n",
       "    </tr>\n",
       "    <tr>\n",
       "      <th>receiver_MarketParticipant.mRID</th>\n",
       "      <td>{'@codingScheme': 'A01', '#text': '10X1001A100...</td>\n",
       "    </tr>\n",
       "    <tr>\n",
       "      <th>receiver_MarketParticipant.marketRole.type</th>\n",
       "      <td>A33</td>\n",
       "    </tr>\n",
       "    <tr>\n",
       "      <th>revisionNumber</th>\n",
       "      <td>1</td>\n",
       "    </tr>\n",
       "    <tr>\n",
       "      <th>sender_MarketParticipant.mRID</th>\n",
       "      <td>{'@codingScheme': 'A01', '#text': '10X1001A100...</td>\n",
       "    </tr>\n",
       "    <tr>\n",
       "      <th>sender_MarketParticipant.marketRole.type</th>\n",
       "      <td>A32</td>\n",
       "    </tr>\n",
       "    <tr>\n",
       "      <th>time_Period.timeInterval</th>\n",
       "      <td>{'start': '2021-01-01T11:00Z', 'end': '2021-01...</td>\n",
       "    </tr>\n",
       "    <tr>\n",
       "      <th>type</th>\n",
       "      <td>A73</td>\n",
       "    </tr>\n",
       "  </tbody>\n",
       "</table>\n",
       "</div>"
      ],
      "text/plain": [
       "                                                                            GL_MarketDocument\n",
       "@xmlns                                      urn:iec62325.351:tc57wg16:451-6:generationload...\n",
       "TimeSeries                                  [{'mRID': '1', 'businessType': 'A01', 'objectA...\n",
       "createdDateTime                                                          2022-12-20T23:55:03Z\n",
       "mRID                                                         087f7c50ecdb477394b0045fdc1f1173\n",
       "process.processType                                                                       A16\n",
       "receiver_MarketParticipant.mRID             {'@codingScheme': 'A01', '#text': '10X1001A100...\n",
       "receiver_MarketParticipant.marketRole.type                                                A33\n",
       "revisionNumber                                                                              1\n",
       "sender_MarketParticipant.mRID               {'@codingScheme': 'A01', '#text': '10X1001A100...\n",
       "sender_MarketParticipant.marketRole.type                                                  A32\n",
       "time_Period.timeInterval                    {'start': '2021-01-01T11:00Z', 'end': '2021-01...\n",
       "type                                                                                      A73"
      ]
     },
     "execution_count": 24,
     "metadata": {},
     "output_type": "execute_result"
    }
   ],
   "source": [
    "#inferring schema and get the data type of each column and turn it into spark dataframe\n",
    "datatype_infer = pd.DataFrame(xml_file_dict[0])\n",
    "datatype_infer"
   ]
  },
  {
   "cell_type": "code",
   "execution_count": 39,
   "metadata": {},
   "outputs": [
    {
     "name": "stderr",
     "output_type": "stream",
     "text": [
      "<>:2: SyntaxWarning: list indices must be integers or slices, not str; perhaps you missed a comma?\n",
      "<>:2: SyntaxWarning: list indices must be integers or slices, not str; perhaps you missed a comma?\n",
      "/tmp/ipykernel_6069/2241073966.py:2: SyntaxWarning: list indices must be integers or slices, not str; perhaps you missed a comma?\n",
      "  xml_file_dict = [xmltodict.parse(source_file.read())][\"GL_MarketDocument\"]\n",
      "/tmp/ipykernel_6069/2241073966.py:2: SyntaxWarning: list indices must be integers or slices, not str; perhaps you missed a comma?\n",
      "  xml_file_dict = [xmltodict.parse(source_file.read())][\"GL_MarketDocument\"]\n",
      "/tmp/ipykernel_6069/2241073966.py:2: SyntaxWarning: list indices must be integers or slices, not str; perhaps you missed a comma?\n",
      "  xml_file_dict = [xmltodict.parse(source_file.read())][\"GL_MarketDocument\"]\n"
     ]
    },
    {
     "ename": "TypeError",
     "evalue": "list indices must be integers or slices, not str",
     "output_type": "error",
     "traceback": [
      "\u001b[0;31m---------------------------------------------------------------------------\u001b[0m",
      "\u001b[0;31mTypeError\u001b[0m                                 Traceback (most recent call last)",
      "\u001b[1;32m/home/rafzul/projects/entsoe-pipelines/prototype.ipynb Cell 11\u001b[0m in \u001b[0;36m<cell line: 1>\u001b[0;34m()\u001b[0m\n\u001b[1;32m      <a href='vscode-notebook-cell:/home/rafzul/projects/entsoe-pipelines/prototype.ipynb#X11sZmlsZQ%3D%3D?line=0'>1</a>\u001b[0m \u001b[39mwith\u001b[39;00m \u001b[39mopen\u001b[39m(\u001b[39m\"\u001b[39m\u001b[39mentsoe_analytics_1009/entsoe_data_2021-01-01 12:00:00+01:00_10YCZ-CEPS-----N.xml\u001b[39m\u001b[39m\"\u001b[39m) \u001b[39mas\u001b[39;00m source_file:\n\u001b[0;32m----> <a href='vscode-notebook-cell:/home/rafzul/projects/entsoe-pipelines/prototype.ipynb#X11sZmlsZQ%3D%3D?line=1'>2</a>\u001b[0m     xml_file_dict \u001b[39m=\u001b[39m [xmltodict\u001b[39m.\u001b[39;49mparse(source_file\u001b[39m.\u001b[39;49mread())][\u001b[39m\"\u001b[39;49m\u001b[39mGL_MarketDocument\u001b[39;49m\u001b[39m\"\u001b[39;49m]\n\u001b[1;32m      <a href='vscode-notebook-cell:/home/rafzul/projects/entsoe-pipelines/prototype.ipynb#X11sZmlsZQ%3D%3D?line=2'>3</a>\u001b[0m     df \u001b[39m=\u001b[39m spark\u001b[39m.\u001b[39mcreateDataFrame([xml_file_dict])\n\u001b[1;32m      <a href='vscode-notebook-cell:/home/rafzul/projects/entsoe-pipelines/prototype.ipynb#X11sZmlsZQ%3D%3D?line=3'>4</a>\u001b[0m     df\u001b[39m.\u001b[39mshow()\n",
      "\u001b[0;31mTypeError\u001b[0m: list indices must be integers or slices, not str"
     ]
    }
   ],
   "source": [
    "with open(\"entsoe_analytics_1009/entsoe_data_2021-01-01 12:00:00+01:00_10YCZ-CEPS-----N.xml\") as source_file:\n",
    "    xml_file_dict = [xmltodict.parse(source_file.read())][\"GL_MarketDocument\"]\n",
    "    df = spark.createDataFrame([xml_file_dict])\n",
    "    df.show()"
   ]
  }
 ],
 "metadata": {
  "kernelspec": {
   "display_name": "Python 3.10.4 64-bit",
   "language": "python",
   "name": "python3"
  },
  "language_info": {
   "codemirror_mode": {
    "name": "ipython",
    "version": 3
   },
   "file_extension": ".py",
   "mimetype": "text/x-python",
   "name": "python",
   "nbconvert_exporter": "python",
   "pygments_lexer": "ipython3",
   "version": "3.10.4"
  },
  "orig_nbformat": 4,
  "vscode": {
   "interpreter": {
    "hash": "31f2aee4e71d21fbe5cf8b01ff0e069b9275f58929596ceb00d14d90e3e16cd6"
   }
  }
 },
 "nbformat": 4,
 "nbformat_minor": 2
}
